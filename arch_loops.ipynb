{
 "cells": [
  {
   "cell_type": "code",
   "execution_count": null,
   "source": [],
   "outputs": [],
   "metadata": {}
  },
  {
   "cell_type": "code",
   "execution_count": 1,
   "source": [
    "\n",
    "from myhdl import block, delay, always_seq, instance, always, Signal, ResetSignal, traceSignals, now\n",
    "from dataclasses import dataclass, field\n",
    "from itertools import tee, product\n",
    "from typing import Callable, Generator, Dict, List, Tuple, OrderedDict, Optional, Any, Union\n",
    "from copy import deepcopy\n",
    "from abc import ABC, abstractmethod, abstractproperty\n",
    "import logging\n",
    "from sys import version\n",
    "import inspect\n",
    "from functools import partial\n",
    "# import showast\n",
    "import ast\n",
    "import astor\n",
    "logging.basicConfig(level=logging.INFO)\n",
    "logging.info(version)\n",
    "traceSignals.filename = 'Top'\n",
    "traceSignals.tracebackup = False\n",
    "import islpy as isl\n"
   ],
   "outputs": [
    {
     "output_type": "stream",
     "name": "stderr",
     "text": [
      "INFO:root:3.9.5 (default, Aug 29 2021, 19:01:31) \n",
      "[GCC 9.3.0]\n"
     ]
    }
   ],
   "metadata": {}
  },
  {
   "cell_type": "code",
   "execution_count": 2,
   "source": [
    "\n",
    "# bset1 = isl.BasicSet(\"[n1, n2] -> {{[{}] : {} >= n1 and {} < n2}}\".format('x', 'x', 'x'))\n",
    "# bset2 = isl.BasicSet(\"{[x] : x >= 2 and x < 10}\")\n",
    "bset1 = isl.BasicSet(\"{[x] : 0<=x<10 }\")\n",
    "bmap1 = isl.BasicMap(\"[n] -> {[x] -> [x'] : x'=2*x+n}\").intersect_params(isl.BasicSet(\"[n] -> { : 0<=n<=3}\"))\n",
    "# bmap2 = isl.BasicMap(\"{[x] -> [ACC] : ACC = x}\").intersect_domain(bset1)\n",
    "# print(bmap1)\n",
    "# print(bmap2)\n",
    "# print(bmap2.reverse())\n",
    "# print(bmap1.apply_range(bmap2.reverse()))\n",
    "# res = bset1.lex_lt_union_set(bset1)\n",
    "# print(bset1.union(bset2))\n",
    "# bset1.card()\n",
    "print(bset1)\n",
    "res = bmap1.intersect_domain(bset1)\n",
    "print(res)\n"
   ],
   "outputs": [
    {
     "output_type": "stream",
     "name": "stdout",
     "text": [
      "{ [x] : 0 <= x <= 9 }\n",
      "[n] -> { [x] -> [x' = n + 2x] : 0 <= n <= 3 and 0 <= x <= 9 }\n"
     ]
    }
   ],
   "metadata": {}
  },
  {
   "cell_type": "code",
   "execution_count": 3,
   "source": [
    "'a {{ {} }}'.format('x')"
   ],
   "outputs": [
    {
     "output_type": "execute_result",
     "data": {
      "text/plain": [
       "'a { x }'"
      ]
     },
     "metadata": {},
     "execution_count": 3
    }
   ],
   "metadata": {}
  },
  {
   "cell_type": "code",
   "execution_count": 4,
   "source": [
    "# %%\n",
    "@dataclass\n",
    "class StreamStateControl:\n",
    "    index_generator_fn: Generator\n",
    "    initial_index_generator_fn: Generator = None\n",
    "    _done: bool = False\n",
    "\n",
    "    def __post_init__(self):\n",
    "        self.index_generator_fn, self.initial_index_generator_fn = tee(\n",
    "            self.index_generator_fn)\n",
    "\n",
    "    def reset(self):\n",
    "        self.done = False\n",
    "        self.index_generator_fn = self.initial_index_generator_fn\n",
    "        self.index_generator_fn, self.initial_index_generator_fn = tee(\n",
    "            self.index_generator_fn)\n",
    "\n",
    "    def __iter__(self):\n",
    "        return self\n",
    "\n",
    "    def __next__(self):\n",
    "        try:\n",
    "            next_index = next(self.index_generator_fn)\n",
    "        except StopIteration:\n",
    "            next_index = 0\n",
    "            self.done = True\n",
    "        return next_index\n",
    "\n",
    "    @property\n",
    "    def done(self):\n",
    "        return self._done\n",
    "\n",
    "    @done.setter\n",
    "    def done(self, val):\n",
    "        if val:\n",
    "            logging.debug(\"{} has concluded @T={}\".format(self, now()))\n",
    "        else:\n",
    "            logging.debug(\"{} initialized @T={}\".format(self, now()))\n",
    "        self._done = val\n",
    "\n",
    "\n",
    "\n",
    "@dataclass\n",
    "class StreamTemplate:\n",
    "    _generator_func_def: Generator\n",
    "    _stream_start_time_default = 0\n",
    "    _stream_defualt_value_default = 0\n",
    "    _stream_array_accessed_default = None\n",
    "\n",
    "    def _parameterized_stream_descriptor(self, gen_func_args, gen_func_kwargs, local_stream_start_time, local_stream_defualt_value):\n",
    "        customized_generator = self._generator_func_def(*gen_func_args, **gen_func_kwargs)\n",
    "        for _ in range(local_stream_start_time):\n",
    "            yield local_stream_defualt_value\n",
    "        yield from customized_generator\n",
    "\n",
    "    def __call__(self, *args, **kwargs):\n",
    "        if 'start_time' in kwargs:\n",
    "            stream_start_time = kwargs['start_time']\n",
    "            del kwargs['start_time']\n",
    "        else:\n",
    "            stream_start_time = self._stream_defualt_value_default\n",
    "            \n",
    "        if 'array_accessed' in kwargs:\n",
    "            stream_array_accessed = kwargs['array_accessed']\n",
    "            del kwargs['array_accessed']\n",
    "        else:\n",
    "            stream_array_accessed = self._stream_array_accessed_default\n",
    "                        \n",
    "        if 'default_val' in kwargs:\n",
    "            stream_defualt_value = kwargs['default_val']\n",
    "            del kwargs['default_val']\n",
    "        else:\n",
    "            stream_defualt_value = self._stream_defualt_value_default\n",
    "            \n",
    "        return self._parameterized_stream_descriptor(args, kwargs, stream_start_time, stream_defualt_value)\n",
    "\n",
    "\n",
    "def stream(stream_def_func):\n",
    "    new_stream = StreamTemplate(_generator_func_def=stream_def_func)\n",
    "    return new_stream\n"
   ],
   "outputs": [],
   "metadata": {}
  },
  {
   "cell_type": "code",
   "execution_count": 5,
   "source": [
    "# %%\n",
    "@ block\n",
    "def counter(clk, enable, reset, count):\n",
    "    @always_seq(clk.posedge, reset=reset)\n",
    "    def increment():\n",
    "        if enable:\n",
    "            count.next = count.val + 1\n",
    "    return increment\n",
    "\n",
    "@block\n",
    "def clk_driver(clk, enable, period=20):\n",
    "    lowTime = int(period / 2)\n",
    "    highTime = period - lowTime\n",
    "\n",
    "    @instance\n",
    "    def drive_clk():\n",
    "        while True:\n",
    "            if not enable: \n",
    "                yield enable\n",
    "            yield delay(lowTime)\n",
    "            clk.next = 1\n",
    "            yield delay(highTime)\n",
    "            clk.next = 0\n",
    "\n",
    "    return drive_clk\n",
    "\n",
    "@ block\n",
    "def stream_generator(clk, enable, reset, stream, stream_out):\n",
    "    @always(clk.posedge, reset.posedge)\n",
    "    def generate():\n",
    "        if not reset and enable:\n",
    "            if not stream.done:\n",
    "                stream_out.next = next(stream)\n",
    "        elif reset:\n",
    "            stream.reset()\n",
    "            stream_out.next = 0\n",
    "    return generate\n"
   ],
   "outputs": [],
   "metadata": {}
  },
  {
   "cell_type": "code",
   "execution_count": 6,
   "source": [
    "@stream\n",
    "def chain_arch_pe_parameterizable_access_stream(c_ub, i_ub, j_ub, pe_channel, pe_group, pe, ifmap_dim):\n",
    "    # Stream constants\n",
    "    pe_start_index_offset = pe_channel*(ifmap_dim**2)+pe_group*ifmap_dim+pe\n",
    "    # Dynamic computations\n",
    "    for c in range(c_ub):\n",
    "        for i in range(i_ub):\n",
    "            for j in range(j_ub):\n",
    "                yield i*ifmap_dim+j+pe_start_index_offset\n",
    "\n",
    "\n",
    "# Layer Config\n",
    "ifmap_dim = 10\n",
    "kernel = 3\n",
    "ofmap_dim = ifmap_dim-kernel+1\n",
    "channel_count = 3\n",
    "\n",
    "# Arch. Config For Full Channel Parallelism\n",
    "pe_count = (kernel**2)*channel_count\n",
    "pes_per_group = kernel\n",
    "pes_per_channel = kernel**2\n",
    "groups_per_channel = int(pes_per_channel/pes_per_group)\n",
    "channel_chain_length = int(pe_count/pes_per_channel)\n",
    "\n",
    "\n",
    "@block\n",
    "def top():\n",
    "    clk = Signal(bool(0))\n",
    "    enable = Signal(bool(0))\n",
    "    global_counter = Signal(0)\n",
    "    reset = ResetSignal(bool(0), active=1, isasync=True)\n",
    "    counter_inst = counter(clk, enable, reset, global_counter)\n",
    "    clk_driver_inst = clk_driver(clk, enable, period=10)\n",
    "\n",
    "    stream_out_list = [Signal(0) for _ in range(pe_count)]\n",
    "\n",
    "    stream_generator_list = []\n",
    "    for pe_channel in range(channel_chain_length):\n",
    "        for pe_group in range(groups_per_channel):\n",
    "            for pe in range(pes_per_group):\n",
    "                pe_idx = pe_channel*pes_per_channel + pe_group*pes_per_group + pe\n",
    "                stream_descriptor = chain_arch_pe_parameterizable_access_stream(\n",
    "                    1, ofmap_dim, ofmap_dim, pe_channel, pe_group, pe, ifmap_dim, start_time=pe_idx)\n",
    "                stream_state_controller = StreamStateControl(stream_descriptor)\n",
    "                stream_generator_list.append(stream_generator(\n",
    "                    clk, enable, reset, stream_state_controller, stream_out_list[pe_idx]))\n",
    "\n",
    "    @instance\n",
    "    def start_sim():\n",
    "        # reset cycle\n",
    "        enable.next = 0\n",
    "        reset.next = 1\n",
    "        yield delay(10)\n",
    "        enable.next = 1\n",
    "        reset.next = 0\n",
    "\n",
    "    return clk_driver_inst, counter_inst, start_sim, stream_generator_list\n"
   ],
   "outputs": [],
   "metadata": {}
  },
  {
   "cell_type": "code",
   "execution_count": 7,
   "source": [
    "# %%\n",
    "dut = top()\n",
    "inst = traceSignals(dut)\n",
    "inst.run_sim(1200)\n",
    "inst.quit_sim()\n"
   ],
   "outputs": [
    {
     "output_type": "stream",
     "name": "stderr",
     "text": [
      "<class 'myhdl._SuspendSimulation'>: Simulated 1200 timesteps\n"
     ]
    }
   ],
   "metadata": {}
  },
  {
   "cell_type": "code",
   "execution_count": 138,
   "source": [
    "utilization = ((pe_count+1)/2+((ofmap_dim**2)-(pe_count-1))+(pe_count+1)/2)/((pe_count-1)+ofmap_dim**2)\n",
    "print(utilization)"
   ],
   "outputs": [
    {
     "output_type": "stream",
     "name": "stdout",
     "text": [
      "0.7333333333333333\n"
     ]
    }
   ],
   "metadata": {}
  },
  {
   "cell_type": "code",
   "execution_count": 202,
   "source": [
    "tree = ast.parse(inspect.getsource(inspect.getgeneratorlocals(example_func(\n",
    "                    1, ofmap_dim, ofmap_dim, 0, 0, 0, ifmap_dim, start_time=0))['self']._generator_func_def))\n"
   ],
   "outputs": [],
   "metadata": {}
  },
  {
   "cell_type": "code",
   "execution_count": 184,
   "source": [
    "inspect.getgeneratorlocals(example_func(\n",
    "                    1, ofmap_dim, ofmap_dim, 0, 0, 0, ifmap_dim, 123, test = 2, start_time=0))"
   ],
   "outputs": [
    {
     "output_type": "execute_result",
     "data": {
      "text/plain": [
       "{'self': StreamTemplate(_generator_func_def=<function example_func at 0x7fe7dffcfca0>),\n",
       " 'gen_func_args': (1, 8, 8, 0, 0, 0, 10, 123),\n",
       " 'gen_func_kwargs': {'test': 2},\n",
       " 'local_stream_start_time': 0,\n",
       " 'local_stream_defualt_value': 0}"
      ]
     },
     "metadata": {},
     "execution_count": 184
    }
   ],
   "metadata": {}
  },
  {
   "cell_type": "code",
   "execution_count": 33,
   "source": [
    "def invariant_evaluator():\n",
    "    arg1 = 1\n",
    "    arg2 = 2\n",
    "    arg3 = 3\n",
    "    evald_inv1 = 4\n",
    "    inv2 = arg1+arg2+arg3+evald_inv1\n",
    "    return inv2"
   ],
   "outputs": [],
   "metadata": {}
  },
  {
   "cell_type": "code",
   "execution_count": 7,
   "source": [
    "import ast\n",
    "import inspect\n",
    "import astor\n",
    "from asteval import Interpreter\n",
    "aeval = Interpreter()\n",
    "with open('invariant_evaluator.py', 'r') as file:\n",
    "    # aeval(file.read())\n",
    "    evaluator = ast.parse(file.read())"
   ],
   "outputs": [],
   "metadata": {}
  },
  {
   "cell_type": "code",
   "execution_count": 8,
   "source": [
    "aeval.symtable['result']"
   ],
   "outputs": [
    {
     "output_type": "error",
     "ename": "KeyError",
     "evalue": "'result'",
     "traceback": [
      "\u001b[0;31m---------------------------------------------------------------------------\u001b[0m",
      "\u001b[0;31mKeyError\u001b[0m                                  Traceback (most recent call last)",
      "\u001b[0;32m/tmp/ipykernel_9904/43905718.py\u001b[0m in \u001b[0;36m<module>\u001b[0;34m\u001b[0m\n\u001b[0;32m----> 1\u001b[0;31m \u001b[0maeval\u001b[0m\u001b[0;34m.\u001b[0m\u001b[0msymtable\u001b[0m\u001b[0;34m[\u001b[0m\u001b[0;34m'result'\u001b[0m\u001b[0;34m]\u001b[0m\u001b[0;34m\u001b[0m\u001b[0;34m\u001b[0m\u001b[0m\n\u001b[0m",
      "\u001b[0;31mKeyError\u001b[0m: 'result'"
     ]
    }
   ],
   "metadata": {}
  },
  {
   "cell_type": "code",
   "execution_count": 9,
   "source": [
    "print(astor.dump_tree(evaluator))"
   ],
   "outputs": [
    {
     "output_type": "stream",
     "name": "stdout",
     "text": [
      "Module(\n",
      "    body=[\n",
      "        FunctionDef(name='invariant_evaluator',\n",
      "            args=arguments(posonlyargs=[],\n",
      "                args=[],\n",
      "                vararg=None,\n",
      "                kwonlyargs=[],\n",
      "                kw_defaults=[],\n",
      "                kwarg=None,\n",
      "                defaults=[]),\n",
      "            body=[Return(value=Constant(value=1, kind=None))],\n",
      "            decorator_list=[],\n",
      "            returns=Name(id='Int'),\n",
      "            type_comment=None),\n",
      "        Assign(targets=[Name(id='result')],\n",
      "            value=Call(func=Name(id='invariant_evaluator'), args=[], keywords=[]),\n",
      "            type_comment=None)],\n",
      "    type_ignores=[])\n"
     ]
    }
   ],
   "metadata": {}
  },
  {
   "cell_type": "code",
   "execution_count": 11,
   "source": [],
   "outputs": [
    {
     "output_type": "stream",
     "name": "stdout",
     "text": [
      "def invariant_evaluator():\n",
      "    return 1 \n",
      "\n",
      "result = invariant_evaluator()\n"
     ]
    }
   ],
   "metadata": {}
  },
  {
   "cell_type": "code",
   "execution_count": 16,
   "source": [
    "evaluator_func = '''\n",
    "def invariant_evaluator():\n",
    "    dep_invariant1 = 1\n",
    "    target_invariant1 = dep_invariant1 + 1\n",
    "    target_invariant2 = dep_invariant1 + 1\n",
    "    target_invariant3 = dep_invariant1 + 1\n",
    "    return target_invariant1, target_invariant2, target_invariant3 \n",
    "\n",
    "result = invariant_evaluator()\n",
    "          '''"
   ],
   "outputs": [],
   "metadata": {}
  },
  {
   "cell_type": "code",
   "execution_count": 17,
   "source": [
    "aeval = Interpreter()\n",
    "aeval(evaluator_func)\n",
    "aeval.symtable['result']"
   ],
   "outputs": [
    {
     "output_type": "execute_result",
     "data": {
      "text/plain": [
       "(2, 2, 2)"
      ]
     },
     "metadata": {},
     "execution_count": 17
    }
   ],
   "metadata": {}
  },
  {
   "cell_type": "code",
   "execution_count": 19,
   "source": [
    "print(astor.dump_tree(ast.parse(evaluator_func)))"
   ],
   "outputs": [
    {
     "output_type": "stream",
     "name": "stdout",
     "text": [
      "Module(\n",
      "    body=[\n",
      "        FunctionDef(name='invariant_evaluator',\n",
      "            args=arguments(posonlyargs=[],\n",
      "                args=[],\n",
      "                vararg=None,\n",
      "                kwonlyargs=[],\n",
      "                kw_defaults=[],\n",
      "                kwarg=None,\n",
      "                defaults=[]),\n",
      "            body=[\n",
      "                Assign(targets=[Name(id='dep_invariant1')], value=Constant(value=1, kind=None), type_comment=None),\n",
      "                Assign(targets=[Name(id='target_invariant1')],\n",
      "                    value=BinOp(left=Name(id='dep_invariant1'), op=Add, right=Constant(value=1, kind=None)),\n",
      "                    type_comment=None),\n",
      "                Assign(targets=[Name(id='target_invariant2')],\n",
      "                    value=BinOp(left=Name(id='dep_invariant1'), op=Add, right=Constant(value=1, kind=None)),\n",
      "                    type_comment=None),\n",
      "                Assign(targets=[Name(id='target_invariant3')],\n",
      "                    value=BinOp(left=Name(id='dep_invariant1'), op=Add, right=Constant(value=1, kind=None)),\n",
      "                    type_comment=None),\n",
      "                Return(\n",
      "                    value=Tuple(\n",
      "                        elts=[Name(id='target_invariant1'), Name(id='target_invariant2'), Name(id='target_invariant3')]))],\n",
      "            decorator_list=[],\n",
      "            returns=None,\n",
      "            type_comment=None),\n",
      "        Assign(targets=[Name(id='result')],\n",
      "            value=Call(func=Name(id='invariant_evaluator'), args=[], keywords=[]),\n",
      "            type_comment=None)],\n",
      "    type_ignores=[])\n"
     ]
    }
   ],
   "metadata": {}
  },
  {
   "cell_type": "code",
   "execution_count": null,
   "source": [],
   "outputs": [],
   "metadata": {}
  }
 ],
 "metadata": {
  "kernelspec": {
   "name": "python3",
   "display_name": "Python 3.9.5 64-bit ('.venv': poetry)"
  },
  "language_info": {
   "name": "python",
   "version": "3.9.5",
   "mimetype": "text/x-python",
   "codemirror_mode": {
    "name": "ipython",
    "version": 3
   },
   "pygments_lexer": "ipython3",
   "nbconvert_exporter": "python",
   "file_extension": ".py"
  },
  "metadata": {
   "interpreter": {
    "hash": "0bb80ccf8938466bdf43988c2c3169c3c3e8a6fff7c87f24eaf882072e3d730d"
   }
  },
  "orig_nbformat": 3,
  "interpreter": {
   "hash": "7ba5a8c11295bd31a650da7fd95bdbf05f90d3e784de664cc7b5246ae59e510d"
  }
 },
 "nbformat": 4,
 "nbformat_minor": 2
}