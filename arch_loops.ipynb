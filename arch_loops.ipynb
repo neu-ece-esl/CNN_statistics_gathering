{
 "cells": [
  {
   "cell_type": "code",
   "execution_count": 56,
   "metadata": {},
   "outputs": [],
   "source": [
    "from myhdl import block, delay, always_seq, instance, always, Signal, ResetSignal, traceSignals\n",
    "from dataclasses import dataclass\n",
    "from itertools import product\n",
    "from typing import Callable\n",
    "from copy import deepcopy\n",
    "\n",
    "@dataclass\n",
    "class HighLevelAddressStream:\n",
    "    index_generator: Callable\n",
    "    \n",
    "\n",
    "@dataclass\n",
    "class LowLevelAddressStream:\n",
    "    iteration_domain: product\n",
    "    access_map: Callable\n",
    "    condition: Callable\n",
    "    done: bool = False\n",
    "\n",
    "    def __post_init__(self):\n",
    "        self.initial_iteration_domain = deepcopy(self.iteration_domain)\n",
    "\n",
    "    def reset(self):\n",
    "        self.iteration_domain = deepcopy(self.initial_iteration_domain)\n",
    "\n",
    "    def __iter__(self):\n",
    "        return self\n",
    "\n",
    "    def __next__(self):\n",
    "        try:\n",
    "            next_iteration_vector = next(self.iteration_domain)\n",
    "            print(next_iteration_vector)\n",
    "            if self.condition(next_iteration_vector):\n",
    "                next_index = self.access_map(next_iteration_vector)\n",
    "            else:\n",
    "                next_index = 0\n",
    "        except StopIteration:\n",
    "            print(\"Warning: stream with {} has concluded\".format(self))\n",
    "            next_index = 0\n",
    "            self.done = True\n",
    "        return next_index\n",
    "\n",
    "    @block\n",
    "    def generator_inst(self, clk, enable, reset, stream_out):\n",
    "        @always(clk.posedge, reset.posedge)\n",
    "        def output_stream():\n",
    "            if not reset and enable:\n",
    "                if not self.done:\n",
    "                    stream_out.next = next(self)\n",
    "            elif reset:\n",
    "                self.reset()\n",
    "        return output_stream\n",
    "\n",
    "@ block\n",
    "def counter(clk, reset, count):\n",
    "    @always_seq(clk.posedge, reset=reset)\n",
    "    def increment():\n",
    "        count.next = count.val + 1\n",
    "    return increment\n",
    "\n",
    "\n",
    "@block\n",
    "def clk_driver(clk, enable, period=20):\n",
    "    lowTime = int(period / 2)\n",
    "    highTime = period - lowTime\n",
    "\n",
    "    @instance\n",
    "    def drive_clk():\n",
    "        while True:\n",
    "            if not enable:\n",
    "                yield enable\n",
    "            yield delay(lowTime)\n",
    "            clk.next = 1\n",
    "            yield delay(highTime)\n",
    "            clk.next = 0\n",
    "\n",
    "    return drive_clk\n",
    "\n",
    "\n",
    "@block\n",
    "def top():\n",
    "    stream = LowLevelAddressStream(product(*([range(10)]*2)), lambda iter_vect: iter_vect[0]\n",
    "                           *10+iter_vect[1], lambda iter_vect: iter_vect[0] >= 0 and iter_vect[1] >= 0)\n",
    "    stream_out = Signal(0)\n",
    "    clk = Signal(bool(0))\n",
    "    enable = Signal(bool(0))\n",
    "    count = Signal(0)\n",
    "    reset = ResetSignal(bool(0), active=1, isasync=True)\n",
    "    counter_inst = counter(clk, reset, count)\n",
    "    clk_driver_inst = clk_driver(clk, enable, period=10)\n",
    "    stream_generator = stream.generator_inst(clk, enable, reset, stream_out)\n",
    "\n",
    "    @instance\n",
    "    def start_sim():\n",
    "        # reset cycle\n",
    "        enable.next = 0\n",
    "        reset.next = 1\n",
    "        yield delay(10)\n",
    "        enable.next = 1\n",
    "        reset.next = 0\n",
    "        yield delay(40)\n",
    "        enable.next = 0\n",
    "        reset.next = 1\n",
    "        yield delay(10)\n",
    "        enable.next = 1\n",
    "        reset.next = 0\n",
    "        \n",
    "    return clk_driver_inst, counter_inst, start_sim, stream_generator\n"
   ]
  },
  {
   "cell_type": "code",
   "execution_count": 57,
   "metadata": {},
   "outputs": [
    {
     "name": "stdout",
     "output_type": "stream",
     "text": [
      "(0, 0)\n",
      "(0, 1)\n",
      "(0, 2)\n",
      "(0, 3)\n",
      "(0, 0)\n",
      "(0, 1)\n",
      "(0, 2)\n",
      "(0, 3)\n"
     ]
    },
    {
     "name": "stderr",
     "output_type": "stream",
     "text": [
      "<class 'myhdl._SuspendSimulation'>: Simulated 100 timesteps\n"
     ]
    }
   ],
   "source": [
    "inst = traceSignals(top())\n",
    "inst.run_sim(100)\n",
    "inst.quit_sim()"
   ]
  },
  {
   "cell_type": "code",
   "execution_count": 69,
   "metadata": {},
   "outputs": [],
   "source": [
    "def fn(ub, lb, step):\n",
    "    for i in range(lb,ub,step):\n",
    "        yield i"
   ]
  },
  {
   "cell_type": "code",
   "execution_count": 70,
   "metadata": {},
   "outputs": [],
   "source": [
    "t = fn(10)"
   ]
  },
  {
   "cell_type": "code",
   "execution_count": 71,
   "metadata": {},
   "outputs": [
    {
     "data": {
      "text/plain": "[0, 1, 2, 3, 4, 5, 6, 7, 8, 9]"
     },
     "execution_count": 71,
     "metadata": {},
     "output_type": "execute_result"
    }
   ],
   "source": [
    "list(t)"
   ]
  },
  {
   "cell_type": "code",
   "execution_count": null,
   "metadata": {},
   "outputs": [],
   "source": []
  }
 ],
 "metadata": {
  "kernelspec": {
   "display_name": "Python 3.9.5  ('.venv': venv)",
   "name": "pythonjvsc74a57bd07ba5a8c11295bd31a650da7fd95bdbf05f90d3e784de664cc7b5246ae59e510d"
  },
  "language_info": {
   "codemirror_mode": {
    "name": "ipython",
    "version": 3
   },
   "file_extension": ".py",
   "mimetype": "text/x-python",
   "name": "python",
   "nbconvert_exporter": "python",
   "pygments_lexer": "ipython3",
   "version": "3.9.5"
  },
  "metadata": {
   "interpreter": {
    "hash": "7ba5a8c11295bd31a650da7fd95bdbf05f90d3e784de664cc7b5246ae59e510d"
   }
  },
  "orig_nbformat": 2
 },
 "nbformat": 4,
 "nbformat_minor": 2
}