{
 "cells": [
  {
   "cell_type": "code",
   "execution_count": 1,
   "metadata": {},
   "outputs": [
    {
     "name": "stderr",
     "output_type": "stream",
     "text": [
      "INFO:root:3.9.5 (default, Aug 29 2021, 19:01:31) \n",
      "[GCC 9.3.0]\n"
     ]
    }
   ],
   "source": [
    "from myhdl import block, delay, always_seq, instance, always, Signal, ResetSignal, traceSignals, now\n",
    "from dataclasses import dataclass\n",
    "from itertools import tee, product\n",
    "from typing import Callable, Generator\n",
    "from copy import deepcopy\n",
    "from abc import ABC, abstractmethod, abstractproperty\n",
    "import logging\n",
    "from sys import version\n",
    "logging.basicConfig(level=logging.INFO)\n",
    "logging.info(version)"
   ]
  },
  {
   "cell_type": "code",
   "execution_count": 2,
   "metadata": {},
   "outputs": [],
   "source": [
    "@ block\n",
    "def counter(clk, enable, reset, count):\n",
    "    @always_seq(clk.posedge, reset=reset)\n",
    "    def increment():\n",
    "        if enable:\n",
    "            count.next = count.val + 1\n",
    "    return increment\n",
    "\n",
    "@block\n",
    "def clk_driver(clk, enable, period=20):\n",
    "    lowTime = int(period / 2)\n",
    "    highTime = period - lowTime\n",
    "\n",
    "    @instance\n",
    "    def drive_clk():\n",
    "        while True:\n",
    "            if not enable: \n",
    "                yield enable\n",
    "            yield delay(lowTime)\n",
    "            clk.next = 1\n",
    "            yield delay(highTime)\n",
    "            clk.next = 0\n",
    "\n",
    "    return drive_clk"
   ]
  },
  {
   "cell_type": "code",
   "execution_count": 3,
   "metadata": {},
   "outputs": [],
   "source": [
    "class AddressStreamDescriptor(ABC):\n",
    "    def __init__(self):\n",
    "        self._done = False\n",
    "    \n",
    "    @abstractmethod\n",
    "    def __post_init__(self):\n",
    "        pass \n",
    "    \n",
    "    @abstractmethod\n",
    "    def reset(self):\n",
    "        pass\n",
    "    \n",
    "    @abstractmethod\n",
    "    def __iter__(self):\n",
    "        pass\n",
    "    \n",
    "    @abstractmethod\n",
    "    def __next__(self):\n",
    "        pass\n",
    "    \n",
    "    @property\n",
    "    def done(self):\n",
    "        return self._done\n",
    "    \n",
    "    @done.setter\n",
    "    def done(self, val):\n",
    "        if val:\n",
    "            logging.debug(\"{} has concluded @T={}\".format(self, now()))\n",
    "        else:\n",
    "            logging.debug(\"{} initialized @T={}\".format(self, now()))\n",
    "        self._done = val\n",
    "\n",
    "@dataclass\n",
    "class HighLevelAddressStreamDescriptor(AddressStreamDescriptor):\n",
    "    index_generator_fn: Generator\n",
    "\n",
    "    def __post_init__(self):\n",
    "        super().__init__()\n",
    "        self.done = False\n",
    "        self.index_generator_fn, self.initial_index_generator_fn = tee(self.index_generator_fn)\n",
    "\n",
    "    def reset(self):\n",
    "        self.done = False\n",
    "        self.index_generator_fn = self.initial_index_generator_fn\n",
    "        self.index_generator_fn, self.initial_index_generator_fn = tee(self.index_generator_fn)\n",
    "\n",
    "    def __iter__(self):\n",
    "        return self\n",
    "\n",
    "    def __next__(self):\n",
    "        try:\n",
    "            next_index = next(self.index_generator_fn)\n",
    "        except StopIteration:\n",
    "            next_index = 0\n",
    "            self.done = True\n",
    "        return next_index \n",
    "\n",
    "@dataclass\n",
    "class LowLevelAddressStreamDescriptor(AddressStreamDescriptor):\n",
    "    iteration_domain: Generator\n",
    "    access_map: Callable\n",
    "    condition: Callable\n",
    "\n",
    "    def __post_init__(self):\n",
    "        super().__init__()\n",
    "        self.done = False\n",
    "        self.initial_iteration_domain = deepcopy(self.iteration_domain)\n",
    "\n",
    "    def reset(self):\n",
    "        self.done = False\n",
    "        self.iteration_domain = deepcopy(self.initial_iteration_domain)\n",
    "\n",
    "    def __iter__(self):\n",
    "        return self\n",
    "\n",
    "    def __next__(self):\n",
    "        try:\n",
    "            next_iteration_vector = next(self.iteration_domain)\n",
    "            print(next_iteration_vector)\n",
    "            if self.condition(next_iteration_vector):\n",
    "                next_index = self.access_map(next_iteration_vector)\n",
    "            else:\n",
    "                next_index = 0\n",
    "        except StopIteration:\n",
    "            next_index = 0\n",
    "            self.done = True\n",
    "        return next_index   \n"
   ]
  },
  {
   "cell_type": "code",
   "execution_count": 4,
   "metadata": {},
   "outputs": [],
   "source": [
    "@ block\n",
    "def stream_generator(clk, enable, reset, stream, global_counter, start_offset, stream_out):\n",
    "    @always(clk.posedge, reset.posedge)\n",
    "    def generate():\n",
    "        if not reset and enable:\n",
    "            if not stream.done:\n",
    "                if global_counter >= start_offset:\n",
    "                    next_idx = next(stream)\n",
    "                    stream_out.next = next_idx\n",
    "                    # print(\"offset: {}, stream_out.next: {}\".format(start_offset, next_idx))\n",
    "        elif reset:\n",
    "            stream.reset()\n",
    "            stream_out.next = 0\n",
    "    return generate"
   ]
  },
  {
   "cell_type": "code",
   "execution_count": 5,
   "metadata": {},
   "outputs": [],
   "source": [
    "def chain_arch_pe_access_pattern(c_ub, i_ub, j_ub, access_fn, c_lb = 0, c_step = 1, i_lb = 0, i_step = 1, j_lb = 0, j_step = 1, condition = lambda c,i,j : True):\n",
    "    for c in range(c_lb, c_ub, c_step):\n",
    "        for i in range(i_lb, i_ub, i_step):\n",
    "            for j in range(j_lb, j_ub, j_step):\n",
    "                if (condition(c, i, j)):\n",
    "                    yield access_fn(c, i, j)\n",
    "\n",
    "def baseline_access_fn(pe_channel, pe_group , pe, ifmap_dim):\n",
    "    pe_start_index_offset = pe_channel*(ifmap_dim**2)\n",
    "    pe_start_index_offset += pe_group*ifmap_dim+pe\n",
    "    return lambda _, i, j: i*ifmap_dim+j+pe_start_index_offset+1\n",
    "\n",
    "# Layer Config\n",
    "ifmap_dim = 224\n",
    "kernel = 1\n",
    "ofmap_dim = ifmap_dim-kernel+1\n",
    "channel_count = 27\n",
    "\n",
    "# Arch. Config For Full Channel Parallelism\n",
    "pe_count = (kernel**2)*channel_count\n",
    "pes_per_group = kernel\n",
    "pes_per_channel = kernel**2\n",
    "groups_per_channel = int(pes_per_channel/pes_per_group)\n",
    "channel_chain_length = int(pe_count/pes_per_channel)\n",
    "\n",
    "@block\n",
    "def top():\n",
    "    clk = Signal(bool(0))\n",
    "    enable = Signal(bool(0))\n",
    "    global_counter = Signal(0)\n",
    "    reset = ResetSignal(bool(0), active=1, isasync=True)\n",
    "    counter_inst = counter(clk, enable, reset, global_counter)\n",
    "    clk_driver_inst = clk_driver(clk, enable, period=10)\n",
    "\n",
    "    stream_out_list = [Signal(0) for _ in range(pe_count)]\n",
    "            \n",
    "    stream_generator_list = []\n",
    "    for pe_channel in range(channel_chain_length):\n",
    "        for pe_group in range(groups_per_channel):\n",
    "            for pe in range(pes_per_group):\n",
    "                pe_idx = pe_channel*pes_per_channel + pe_group*pes_per_group + pe\n",
    "                stream_descriptor = HighLevelAddressStreamDescriptor(\n",
    "                    chain_arch_pe_access_pattern(1, ofmap_dim, ofmap_dim, baseline_access_fn(pe_channel, pe_group, pe, ifmap_dim)))\n",
    "                stream_generator_list.append(stream_generator(\n",
    "                    clk, enable, reset, stream_descriptor, global_counter, pe_idx, stream_out_list[pe_idx]))\n",
    "\n",
    "    @instance\n",
    "    def start_sim():\n",
    "        # reset cycle\n",
    "        enable.next = 0\n",
    "        reset.next = 1\n",
    "        yield delay(10)\n",
    "        enable.next = 1\n",
    "        reset.next = 0\n",
    "\n",
    "    return clk_driver_inst, counter_inst, start_sim, stream_generator_list\n"
   ]
  },
  {
   "cell_type": "code",
   "execution_count": 6,
   "metadata": {},
   "outputs": [],
   "source": [
    "traceSignals.filename = 'Top'\n",
    "traceSignals.tracebackup = False"
   ]
  },
  {
   "cell_type": "code",
   "execution_count": 7,
   "metadata": {},
   "outputs": [
    {
     "name": "stderr",
     "output_type": "stream",
     "text": [
      "<class 'myhdl._SuspendSimulation'>: Simulated 1200 timesteps\n"
     ]
    }
   ],
   "source": [
    "dut = top()\n",
    "inst = traceSignals(dut)\n",
    "inst.run_sim(1200)\n",
    "inst.quit_sim()"
   ]
  },
  {
   "cell_type": "code",
   "execution_count": 8,
   "metadata": {},
   "outputs": [
    {
     "name": "stdout",
     "output_type": "stream",
     "text": [
      "0.980058204261802\n"
     ]
    }
   ],
   "source": [
    "utilization = ((pe_count+1)/2+((ofmap_dim**2)-(pe_count-1))+(pe_count+1)/2)/((pe_count-1)+ofmap_dim**2)\n",
    "print(utilization)"
   ]
  },
  {
   "cell_type": "code",
   "execution_count": null,
   "metadata": {},
   "outputs": [],
   "source": []
  }
 ],
 "metadata": {
  "kernelspec": {
   "display_name": "Python 3.9.5  ('.venv': venv)",
   "name": "pythonjvsc74a57bd00bb80ccf8938466bdf43988c2c3169c3c3e8a6fff7c87f24eaf882072e3d730d"
  },
  "language_info": {
   "codemirror_mode": {
    "name": "ipython",
    "version": 3
   },
   "file_extension": ".py",
   "mimetype": "text/x-python",
   "name": "python",
   "nbconvert_exporter": "python",
   "pygments_lexer": "ipython3",
   "version": "3.9.5"
  },
  "metadata": {
   "interpreter": {
    "hash": "0bb80ccf8938466bdf43988c2c3169c3c3e8a6fff7c87f24eaf882072e3d730d"
   }
  },
  "orig_nbformat": 2
 },
 "nbformat": 4,
 "nbformat_minor": 2
}