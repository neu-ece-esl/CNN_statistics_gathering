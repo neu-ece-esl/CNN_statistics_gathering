{
 "cells": [
  {
   "cell_type": "code",
   "execution_count": 1,
   "source": [
    "import torch\n",
    "from PIL import Image\n",
    "from torchvision import transforms, models\n",
    "from ModelAnalysis import ModelStatsAggregator, ModelStatAnalyser\n",
    "from sys import version\n",
    "import timm\n",
    "from tqdm import tqdm\n",
    "import urllib\n",
    "from PIL import Image\n",
    "from timm.data import resolve_data_config\n",
    "from timm.data.transforms_factory import create_transform\n",
    "version"
   ],
   "outputs": [
    {
     "output_type": "execute_result",
     "data": {
      "text/plain": [
       "'3.9.5 (default, Aug 29 2021, 19:01:31) \\n[GCC 9.3.0]'"
      ]
     },
     "metadata": {},
     "execution_count": 1
    }
   ],
   "metadata": {}
  },
  {
   "cell_type": "code",
   "execution_count": 2,
   "source": [
    "model_dict = {\n",
    "    'ssd': torch.hub.load('NVIDIA/DeepLearningExamples:torchhub', 'nvidia_ssd'),\n",
    "    'lenet': torch.hub.load('pytorch/vision:v0.10.0', 'googlenet'),\n",
    "    'yolov5s': torch.hub.load('ultralytics/yolov5', 'yolov5s'),\n",
    "    'yolov5m': torch.hub.load('ultralytics/yolov5', 'yolov5m'),\n",
    "    'yolov5l': torch.hub.load('ultralytics/yolov5', 'yolov5l'),\n",
    "    'yolov5x': torch.hub.load('ultralytics/yolov5', 'yolov5x'),\n",
    "    'alexnet': models.alexnet(),\n",
    "    'squeezenet_1_0': models.squeezenet1_1(),\n",
    "    'squeezenet_1_1': models.squeezenet1_0(),\n",
    "    'googlenet': models.googlenet(),\n",
    "    'shufflenet_v2_x0_5': models.shufflenet_v2_x0_5(),\n",
    "    'shufflenet_v2_x1_0': models.shufflenet_v2_x1_0(),\n",
    "}"
   ],
   "outputs": [
    {
     "output_type": "stream",
     "name": "stderr",
     "text": [
      "Using cache found in /home/sultan/.cache/torch/hub/NVIDIA_DeepLearningExamples_torchhub\n",
      "Using cache found in /home/sultan/.cache/torch/hub/pytorch_vision_v0.10.0\n",
      "/home/sultan/CNN_Network_Analysis/.venv/lib/python3.9/site-packages/torchvision/models/googlenet.py:77: FutureWarning: The default weight initialization of GoogleNet will be changed in future releases of torchvision. If you wish to keep the old behavior (which leads to long initialization times due to scipy/scipy#11299), please set init_weights=True.\n",
      "  warnings.warn('The default weight initialization of GoogleNet will be changed in future releases of '\n",
      "Using cache found in /home/sultan/.cache/torch/hub/ultralytics_yolov5_master\n",
      "YOLOv5 🚀 2021-8-29 torch 1.9.0+cu102 CUDA:0 (GeForce RTX 2070 SUPER, 7979.1875MB)\n",
      "\n",
      "Fusing layers... \n",
      "Model Summary: 224 layers, 7266973 parameters, 0 gradients\n",
      "Adding AutoShape... \n",
      "Using cache found in /home/sultan/.cache/torch/hub/ultralytics_yolov5_master\n",
      "YOLOv5 🚀 2021-8-29 torch 1.9.0+cu102 CUDA:0 (GeForce RTX 2070 SUPER, 7979.1875MB)\n",
      "\n",
      "Fusing layers... \n",
      "Model Summary: 308 layers, 21356877 parameters, 0 gradients\n",
      "Adding AutoShape... \n",
      "Using cache found in /home/sultan/.cache/torch/hub/ultralytics_yolov5_master\n",
      "YOLOv5 🚀 2021-8-29 torch 1.9.0+cu102 CUDA:0 (GeForce RTX 2070 SUPER, 7979.1875MB)\n",
      "\n",
      "Fusing layers... \n",
      "Model Summary: 392 layers, 47025981 parameters, 0 gradients\n",
      "Adding AutoShape... \n",
      "Using cache found in /home/sultan/.cache/torch/hub/ultralytics_yolov5_master\n",
      "YOLOv5 🚀 2021-8-29 torch 1.9.0+cu102 CUDA:0 (GeForce RTX 2070 SUPER, 7979.1875MB)\n",
      "\n",
      "Fusing layers... \n",
      "Model Summary: 476 layers, 87730285 parameters, 0 gradients\n",
      "Adding AutoShape... \n",
      "/home/sultan/CNN_Network_Analysis/.venv/lib/python3.9/site-packages/torchvision/models/googlenet.py:77: FutureWarning: The default weight initialization of GoogleNet will be changed in future releases of torchvision. If you wish to keep the old behavior (which leads to long initialization times due to scipy/scipy#11299), please set init_weights=True.\n",
      "  warnings.warn('The default weight initialization of GoogleNet will be changed in future releases of '\n"
     ]
    }
   ],
   "metadata": {}
  },
  {
   "cell_type": "code",
   "execution_count": 3,
   "source": [
    "# prepare sample inputs\n",
    "import urllib\n",
    "url, filename = (\"https://github.com/pytorch/hub/raw/master/images/dog.jpg\", \"dog.jpg\")\n",
    "try: urllib.URLopener().retrieve(url, filename)\n",
    "except: urllib.request.urlretrieve(url, filename)\n",
    "\n",
    "input_image = Image.open(filename)\n",
    "preprocess = transforms.Compose([\n",
    "    transforms.Resize(256),\n",
    "    transforms.CenterCrop(224),\n",
    "    transforms.ToTensor(),\n",
    "    transforms.Normalize(mean=[0.485, 0.456, 0.406], std=[0.229, 0.224, 0.225]),\n",
    "])\n",
    "input_tensor = preprocess(input_image)\n",
    "input_batch = input_tensor.unsqueeze(0) # create a mini-batch as expected by the model\n",
    "\n",
    "uris = [\n",
    "    'http://images.cocodataset.org/val2017/000000397133.jpg'\n",
    "]\n",
    "utils = torch.hub.load('NVIDIA/DeepLearningExamples:torchhub', 'nvidia_ssd_processing_utils')\n",
    "\n",
    "inputs = [utils.prepare_input(uri) for uri in uris]\n",
    "ssd_input_batch = utils.prepare_tensor(inputs)"
   ],
   "outputs": [
    {
     "output_type": "stream",
     "name": "stderr",
     "text": [
      "Using cache found in /home/sultan/.cache/torch/hub/NVIDIA_DeepLearningExamples_torchhub\n"
     ]
    }
   ],
   "metadata": {}
  },
  {
   "cell_type": "code",
   "execution_count": 4,
   "source": [
    "stats_dict, _ = ModelStatAnalyser.get_models_stats_dict(model_dict, input_batch, ssd_input_batch) "
   ],
   "outputs": [
    {
     "output_type": "stream",
     "name": "stdout",
     "text": [
      "Analysing ssd\n",
      "Analysing lenet\n",
      "Analysing yolov5s\n",
      "Analysing yolov5m\n",
      "Analysing yolov5l\n",
      "Analysing yolov5x\n",
      "Analysing alexnet\n",
      "Analysing squeezenet_1_0\n",
      "Analysing squeezenet_1_1\n",
      "Analysing googlenet\n",
      "Analysing shufflenet_v2_x0_5\n",
      "Analysing shufflenet_v2_x1_0\n"
     ]
    }
   ],
   "metadata": {}
  },
  {
   "cell_type": "code",
   "execution_count": 5,
   "source": [
    "model_batch_size = 4\n",
    "model_list = timm.list_models(exclude_filters=['*_iabn', 'levit_*', 'tresnet_*'],pretrained=False)\n",
    "in_shapes = []\n",
    "for model_batch_idx in tqdm(range(0, len(model_list), model_batch_size)):\n",
    "    for model_name in model_list[model_batch_idx: model_batch_idx+model_batch_size]:\n",
    "        model = timm.create_model(model_name, pretrained=False)\n",
    "        config = resolve_data_config({}, model=model)\n",
    "        transform = create_transform(**config)\n",
    "\n",
    "        url, filename = (\"https://github.com/pytorch/hub/raw/master/images/dog.jpg\", \"dog.jpg\")\n",
    "        urllib.request.urlretrieve(url, filename)\n",
    "        img = Image.open(filename).convert('RGB')\n",
    "        tensor = transform(img).unsqueeze(0) # transform and add batch dimension\n",
    "        in_tensor_shape = tensor.size()\n",
    "        if in_tensor_shape[2] == 224 and in_tensor_shape[3] == 224:       \n",
    "            in_shapes.append(in_tensor_shape)\n",
    "            model_dict = {}\n",
    "            model_dict[model_name] = model\n",
    "            res_stats_dict, _ = ModelStatAnalyser.get_models_stats_dict(model_dict, tensor, ssd_input_batch)\n",
    "            stats_dict = stats_dict | res_stats_dict"
   ],
   "outputs": [
    {
     "output_type": "stream",
     "name": "stderr",
     "text": [
      "  0%|          | 0/149 [00:00<?, ?it/s]/home/sultan/CNN_Network_Analysis/.venv/lib/python3.9/site-packages/torchvision/transforms/transforms.py:280: UserWarning: Argument interpolation should be of type InterpolationMode instead of int. Please, use InterpolationMode enum.\n",
      "  warnings.warn(\n",
      "  1%|          | 1/149 [00:01<03:31,  1.43s/it]"
     ]
    },
    {
     "output_type": "stream",
     "name": "stdout",
     "text": [
      "Analysing cait_s24_224\n"
     ]
    },
    {
     "output_type": "stream",
     "name": "stderr",
     "text": [
      "  1%|▏         | 2/149 [00:08<11:34,  4.73s/it]"
     ]
    },
    {
     "output_type": "stream",
     "name": "stdout",
     "text": [
      "Analysing cait_xxs24_224\n"
     ]
    },
    {
     "output_type": "stream",
     "name": "stderr",
     "text": [
      "  2%|▏         | 3/149 [00:10<08:53,  3.66s/it]"
     ]
    },
    {
     "output_type": "stream",
     "name": "stdout",
     "text": [
      "Analysing cait_xxs36_224\n",
      "Analysing coat_lite_mini\n"
     ]
    },
    {
     "output_type": "stream",
     "name": "stderr",
     "text": [
      "  3%|▎         | 4/149 [00:12<07:08,  2.96s/it]"
     ]
    },
    {
     "output_type": "stream",
     "name": "stdout",
     "text": [
      "Analysing coat_lite_small\n",
      "Analysing coat_lite_tiny\n",
      "Analysing coat_mini\n",
      "Analysing coat_tiny\n"
     ]
    },
    {
     "output_type": "stream",
     "name": "stderr",
     "text": [
      "  3%|▎         | 5/149 [00:15<06:58,  2.90s/it]"
     ]
    },
    {
     "output_type": "stream",
     "name": "stdout",
     "text": [
      "Analysing convit_base\n",
      "Analysing convit_small\n",
      "Analysing convit_tiny\n"
     ]
    },
    {
     "output_type": "stream",
     "name": "stderr",
     "text": [
      "  4%|▍         | 6/149 [00:16<05:44,  2.41s/it]"
     ]
    },
    {
     "output_type": "stream",
     "name": "stdout",
     "text": [
      "Analysing cspresnext50\n"
     ]
    },
    {
     "output_type": "stream",
     "name": "stderr",
     "text": [
      "  5%|▍         | 7/149 [00:18<05:05,  2.15s/it]"
     ]
    },
    {
     "output_type": "stream",
     "name": "stdout",
     "text": [
      "Analysing deit_base_distilled_patch16_224\n",
      "Analysing deit_base_patch16_224\n"
     ]
    },
    {
     "output_type": "stream",
     "name": "stderr",
     "text": [
      "  5%|▌         | 8/149 [00:22<06:26,  2.74s/it]"
     ]
    },
    {
     "output_type": "stream",
     "name": "stdout",
     "text": [
      "Analysing deit_small_distilled_patch16_224\n",
      "Analysing deit_small_patch16_224\n",
      "Analysing deit_tiny_distilled_patch16_224\n"
     ]
    },
    {
     "output_type": "stream",
     "name": "stderr",
     "text": [
      "  6%|▌         | 9/149 [00:25<06:40,  2.86s/it]"
     ]
    },
    {
     "output_type": "stream",
     "name": "stdout",
     "text": [
      "Analysing deit_tiny_patch16_224\n",
      "Analysing densenet121\n",
      "Analysing densenet121d\n",
      "Analysing densenet161\n"
     ]
    },
    {
     "output_type": "stream",
     "name": "stderr",
     "text": [
      "  7%|▋         | 10/149 [00:27<05:41,  2.46s/it]"
     ]
    },
    {
     "output_type": "stream",
     "name": "stdout",
     "text": [
      "Analysing densenet169\n",
      "Analysing densenet201\n",
      "Analysing densenet264\n",
      "Analysing densenetblur121d\n"
     ]
    },
    {
     "output_type": "stream",
     "name": "stderr",
     "text": [
      "  7%|▋         | 11/149 [00:29<05:19,  2.32s/it]"
     ]
    },
    {
     "output_type": "stream",
     "name": "stdout",
     "text": [
      "Analysing dla34\n",
      "Analysing dla46_c\n",
      "Analysing dla46x_c\n",
      "Analysing dla60\n"
     ]
    },
    {
     "output_type": "stream",
     "name": "stderr",
     "text": [
      "  8%|▊         | 12/149 [00:30<04:29,  1.96s/it]"
     ]
    },
    {
     "output_type": "stream",
     "name": "stdout",
     "text": [
      "Analysing dla60_res2net\n",
      "Analysing dla60_res2next\n",
      "Analysing dla60x\n",
      "Analysing dla60x_c\n"
     ]
    },
    {
     "output_type": "stream",
     "name": "stderr",
     "text": [
      "  9%|▊         | 13/149 [00:31<04:02,  1.78s/it]"
     ]
    },
    {
     "output_type": "stream",
     "name": "stdout",
     "text": [
      "Analysing dla102\n",
      "Analysing dla102x\n",
      "Analysing dla102x2\n",
      "Analysing dla169\n"
     ]
    },
    {
     "output_type": "stream",
     "name": "stderr",
     "text": [
      "  9%|▉         | 14/149 [00:34<04:23,  1.95s/it]"
     ]
    },
    {
     "output_type": "stream",
     "name": "stdout",
     "text": [
      "Analysing dm_nfnet_f1\n"
     ]
    },
    {
     "output_type": "stream",
     "name": "stderr",
     "text": [
      " 10%|█         | 15/149 [00:41<08:17,  3.72s/it]"
     ]
    },
    {
     "output_type": "stream",
     "name": "stdout",
     "text": [
      "Analysing dpn68\n"
     ]
    },
    {
     "output_type": "stream",
     "name": "stderr",
     "text": [
      " 11%|█         | 16/149 [00:48<10:20,  4.66s/it]"
     ]
    },
    {
     "output_type": "stream",
     "name": "stdout",
     "text": [
      "Analysing dpn68b\n",
      "Analysing dpn92\n",
      "Analysing dpn98\n",
      "Analysing dpn107\n"
     ]
    },
    {
     "output_type": "stream",
     "name": "stderr",
     "text": [
      " 11%|█▏        | 17/149 [00:51<08:38,  3.92s/it]"
     ]
    },
    {
     "output_type": "stream",
     "name": "stdout",
     "text": [
      "Analysing dpn131\n",
      "Analysing eca_efficientnet_b0\n"
     ]
    },
    {
     "output_type": "stream",
     "name": "stderr",
     "text": [
      " 12%|█▏        | 18/149 [00:52<06:39,  3.05s/it]"
     ]
    },
    {
     "output_type": "stream",
     "name": "stdout",
     "text": [
      "Analysing eca_nfnet_l0\n"
     ]
    },
    {
     "output_type": "stream",
     "name": "stderr",
     "text": [
      " 13%|█▎        | 19/149 [00:54<05:59,  2.76s/it]"
     ]
    },
    {
     "output_type": "stream",
     "name": "stdout",
     "text": [
      "Analysing eca_vovnet39b\n"
     ]
    },
    {
     "output_type": "stream",
     "name": "stderr",
     "text": [
      " 13%|█▎        | 20/149 [00:55<05:01,  2.34s/it]"
     ]
    },
    {
     "output_type": "stream",
     "name": "stdout",
     "text": [
      "Analysing ecaresnet50d\n",
      "Analysing ecaresnet50d_pruned\n",
      "Analysing ecaresnet101d\n"
     ]
    },
    {
     "output_type": "stream",
     "name": "stderr",
     "text": [
      " 14%|█▍        | 21/149 [00:57<04:59,  2.34s/it]"
     ]
    },
    {
     "output_type": "stream",
     "name": "stdout",
     "text": [
      "Analysing ecaresnet101d_pruned\n",
      "Analysing ecaresnetlight\n"
     ]
    },
    {
     "output_type": "stream",
     "name": "stderr",
     "text": [
      " 15%|█▍        | 22/149 [01:00<04:58,  2.35s/it]"
     ]
    },
    {
     "output_type": "stream",
     "name": "stdout",
     "text": [
      "Analysing ecaresnext26t_32x4d\n",
      "Analysing ecaresnext50t_32x4d\n",
      "Analysing efficientnet_b0\n",
      "Analysing efficientnet_b1\n"
     ]
    },
    {
     "output_type": "stream",
     "name": "stderr",
     "text": [
      " 17%|█▋        | 26/149 [01:06<03:45,  1.83s/it]"
     ]
    },
    {
     "output_type": "stream",
     "name": "stdout",
     "text": [
      "Analysing efficientnet_cc_b0_4e\n",
      "Analysing efficientnet_cc_b0_8e\n"
     ]
    },
    {
     "output_type": "stream",
     "name": "stderr",
     "text": [
      " 18%|█▊        | 27/149 [01:07<03:27,  1.70s/it]"
     ]
    },
    {
     "output_type": "stream",
     "name": "stdout",
     "text": [
      "Analysing efficientnet_es\n",
      "Analysing efficientnet_es_pruned\n"
     ]
    },
    {
     "output_type": "stream",
     "name": "stderr",
     "text": [
      " 19%|█▉        | 28/149 [01:12<05:07,  2.54s/it]"
     ]
    },
    {
     "output_type": "stream",
     "name": "stdout",
     "text": [
      "Analysing efficientnet_lite0\n"
     ]
    },
    {
     "output_type": "stream",
     "name": "stderr",
     "text": [
      " 21%|██        | 31/149 [01:16<03:51,  1.96s/it]"
     ]
    },
    {
     "output_type": "stream",
     "name": "stdout",
     "text": [
      "Analysing ese_vovnet19b_dw\n",
      "Analysing ese_vovnet19b_slim\n",
      "Analysing ese_vovnet19b_slim_dw\n",
      "Analysing ese_vovnet39b\n"
     ]
    },
    {
     "output_type": "stream",
     "name": "stderr",
     "text": [
      " 21%|██▏       | 32/149 [01:18<03:23,  1.74s/it]"
     ]
    },
    {
     "output_type": "stream",
     "name": "stdout",
     "text": [
      "Analysing ese_vovnet39b_evos\n",
      "Analysing ese_vovnet57b\n",
      "Analysing ese_vovnet99b\n",
      "Analysing fbnetc_100\n"
     ]
    },
    {
     "output_type": "stream",
     "name": "stderr",
     "text": [
      " 22%|██▏       | 33/149 [01:20<03:25,  1.77s/it]"
     ]
    },
    {
     "output_type": "stream",
     "name": "stdout",
     "text": [
      "Analysing fbnetv3_b\n",
      "Analysing fbnetv3_d\n",
      "Analysing fbnetv3_g\n",
      "Analysing gc_efficientnet_b0\n"
     ]
    },
    {
     "output_type": "stream",
     "name": "stderr",
     "text": [
      " 23%|██▎       | 35/149 [01:23<03:06,  1.64s/it]"
     ]
    },
    {
     "output_type": "stream",
     "name": "stdout",
     "text": [
      "Analysing gernet_m\n",
      "Analysing gernet_s\n",
      "Analysing ghostnet_050\n",
      "Analysing ghostnet_100\n"
     ]
    },
    {
     "output_type": "stream",
     "name": "stderr",
     "text": [
      " 24%|██▍       | 36/149 [01:23<02:42,  1.44s/it]"
     ]
    },
    {
     "output_type": "stream",
     "name": "stdout",
     "text": [
      "Analysing ghostnet_130\n",
      "Analysing gluon_resnet18_v1b\n",
      "Analysing gluon_resnet34_v1b\n"
     ]
    },
    {
     "output_type": "stream",
     "name": "stderr",
     "text": [
      " 25%|██▍       | 37/149 [01:25<02:42,  1.45s/it]"
     ]
    },
    {
     "output_type": "stream",
     "name": "stdout",
     "text": [
      "Analysing gluon_resnet50_v1b\n",
      "Analysing gluon_resnet50_v1c\n",
      "Analysing gluon_resnet50_v1d\n",
      "Analysing gluon_resnet50_v1s\n"
     ]
    },
    {
     "output_type": "stream",
     "name": "stderr",
     "text": [
      " 26%|██▌       | 38/149 [01:27<02:50,  1.53s/it]"
     ]
    },
    {
     "output_type": "stream",
     "name": "stdout",
     "text": [
      "Analysing gluon_resnet101_v1b\n",
      "Analysing gluon_resnet101_v1c\n",
      "Analysing gluon_resnet101_v1d\n",
      "Analysing gluon_resnet101_v1s\n"
     ]
    },
    {
     "output_type": "stream",
     "name": "stderr",
     "text": [
      " 26%|██▌       | 39/149 [01:29<03:21,  1.83s/it]"
     ]
    },
    {
     "output_type": "stream",
     "name": "stdout",
     "text": [
      "Analysing gluon_resnet152_v1b\n",
      "Analysing gluon_resnet152_v1c\n",
      "Analysing gluon_resnet152_v1d\n",
      "Analysing gluon_resnet152_v1s\n"
     ]
    },
    {
     "output_type": "stream",
     "name": "stderr",
     "text": [
      " 27%|██▋       | 40/149 [01:32<03:44,  2.06s/it]"
     ]
    },
    {
     "output_type": "stream",
     "name": "stdout",
     "text": [
      "Analysing gluon_resnext50_32x4d\n",
      "Analysing gluon_resnext101_32x4d\n",
      "Analysing gluon_resnext101_64x4d\n",
      "Analysing gluon_senet154\n"
     ]
    },
    {
     "output_type": "stream",
     "name": "stderr",
     "text": [
      " 28%|██▊       | 41/149 [01:35<04:20,  2.42s/it]"
     ]
    },
    {
     "output_type": "stream",
     "name": "stdout",
     "text": [
      "Analysing gluon_seresnext50_32x4d\n",
      "Analysing gluon_seresnext101_32x4d\n",
      "Analysing gluon_seresnext101_64x4d\n"
     ]
    },
    {
     "output_type": "stream",
     "name": "stderr",
     "text": [
      " 28%|██▊       | 42/149 [01:37<04:16,  2.40s/it]"
     ]
    },
    {
     "output_type": "stream",
     "name": "stdout",
     "text": [
      "Analysing gmixer_12_224\n",
      "Analysing gmixer_24_224\n",
      "Analysing gmlp_b16_224\n",
      "Analysing gmlp_s16_224\n"
     ]
    },
    {
     "output_type": "stream",
     "name": "stderr",
     "text": [
      " 29%|██▉       | 43/149 [01:39<03:58,  2.25s/it]"
     ]
    },
    {
     "output_type": "stream",
     "name": "stdout",
     "text": [
      "Analysing gmlp_ti16_224\n"
     ]
    },
    {
     "output_type": "stream",
     "name": "stderr",
     "text": [
      " 30%|██▉       | 44/149 [01:40<03:22,  1.93s/it]"
     ]
    },
    {
     "output_type": "stream",
     "name": "stdout",
     "text": [
      "Analysing hardcorenas_a\n",
      "Analysing hardcorenas_b\n",
      "Analysing hardcorenas_c\n"
     ]
    },
    {
     "output_type": "stream",
     "name": "stderr",
     "text": [
      " 30%|███       | 45/149 [01:41<02:51,  1.65s/it]"
     ]
    },
    {
     "output_type": "stream",
     "name": "stdout",
     "text": [
      "Analysing hardcorenas_d\n",
      "Analysing hardcorenas_e\n",
      "Analysing hardcorenas_f\n",
      "Analysing hrnet_w18\n"
     ]
    },
    {
     "output_type": "stream",
     "name": "stderr",
     "text": [
      " 31%|███       | 46/149 [01:43<02:41,  1.57s/it]"
     ]
    },
    {
     "output_type": "stream",
     "name": "stdout",
     "text": [
      "Analysing hrnet_w18_small\n",
      "Analysing hrnet_w18_small_v2\n",
      "Analysing hrnet_w30\n",
      "Analysing hrnet_w32\n"
     ]
    },
    {
     "output_type": "stream",
     "name": "stderr",
     "text": [
      " 32%|███▏      | 47/149 [01:45<03:08,  1.85s/it]"
     ]
    },
    {
     "output_type": "stream",
     "name": "stdout",
     "text": [
      "Analysing hrnet_w40\n",
      "Analysing hrnet_w44\n",
      "Analysing hrnet_w48\n",
      "Analysing hrnet_w64\n"
     ]
    },
    {
     "output_type": "stream",
     "name": "stderr",
     "text": [
      " 32%|███▏      | 48/149 [01:50<04:18,  2.56s/it]"
     ]
    },
    {
     "output_type": "stream",
     "name": "stdout",
     "text": [
      "Analysing ig_resnext101_32x8d\n",
      "Analysing ig_resnext101_32x16d\n",
      "Analysing ig_resnext101_32x32d\n",
      "Analysing ig_resnext101_32x48d\n"
     ]
    },
    {
     "output_type": "stream",
     "name": "stderr",
     "text": [
      " 34%|███▎      | 50/149 [02:06<07:56,  4.81s/it]"
     ]
    },
    {
     "output_type": "stream",
     "name": "stdout",
     "text": [
      "Analysing lambda_resnet50t\n",
      "Analysing legacy_senet154\n",
      "Analysing legacy_seresnet18\n",
      "Analysing legacy_seresnet34\n"
     ]
    },
    {
     "output_type": "stream",
     "name": "stderr",
     "text": [
      " 34%|███▍      | 51/149 [02:08<06:36,  4.05s/it]"
     ]
    },
    {
     "output_type": "stream",
     "name": "stdout",
     "text": [
      "Analysing legacy_seresnet50\n",
      "Analysing legacy_seresnet101\n",
      "Analysing legacy_seresnet152\n",
      "Analysing legacy_seresnext26_32x4d\n"
     ]
    },
    {
     "output_type": "stream",
     "name": "stderr",
     "text": [
      " 35%|███▍      | 52/149 [02:10<05:38,  3.49s/it]"
     ]
    },
    {
     "output_type": "stream",
     "name": "stdout",
     "text": [
      "Analysing legacy_seresnext50_32x4d\n",
      "Analysing legacy_seresnext101_32x4d\n",
      "Analysing mixer_b16_224\n",
      "Analysing mixer_b16_224_in21k\n"
     ]
    },
    {
     "output_type": "stream",
     "name": "stderr",
     "text": [
      " 36%|███▌      | 53/149 [02:13<05:13,  3.27s/it]"
     ]
    },
    {
     "output_type": "stream",
     "name": "stdout",
     "text": [
      "Analysing mixer_b16_224_miil\n",
      "Analysing mixer_b16_224_miil_in21k\n",
      "Analysing mixer_b32_224\n",
      "Analysing mixer_l16_224\n",
      "Analysing mixer_l16_224_in21k\n"
     ]
    },
    {
     "output_type": "stream",
     "name": "stderr",
     "text": [
      " 36%|███▌      | 54/149 [02:18<06:07,  3.87s/it]"
     ]
    },
    {
     "output_type": "stream",
     "name": "stdout",
     "text": [
      "Analysing mixer_l32_224\n",
      "Analysing mixer_s16_224\n",
      "Analysing mixer_s32_224\n"
     ]
    },
    {
     "output_type": "stream",
     "name": "stderr",
     "text": [
      " 37%|███▋      | 55/149 [02:21<05:33,  3.54s/it]"
     ]
    },
    {
     "output_type": "stream",
     "name": "stdout",
     "text": [
      "Analysing mixnet_l\n",
      "Analysing mixnet_m\n",
      "Analysing mixnet_s\n",
      "Analysing mixnet_xl\n"
     ]
    },
    {
     "output_type": "stream",
     "name": "stderr",
     "text": [
      " 38%|███▊      | 56/149 [02:22<04:26,  2.86s/it]"
     ]
    },
    {
     "output_type": "stream",
     "name": "stdout",
     "text": [
      "Analysing mixnet_xxl\n",
      "Analysing mnasnet_050\n",
      "Analysing mnasnet_075\n",
      "Analysing mnasnet_100\n"
     ]
    },
    {
     "output_type": "stream",
     "name": "stderr",
     "text": [
      " 38%|███▊      | 57/149 [02:23<03:30,  2.28s/it]"
     ]
    },
    {
     "output_type": "stream",
     "name": "stdout",
     "text": [
      "Analysing mnasnet_140\n",
      "Analysing mnasnet_a1\n",
      "Analysing mnasnet_b1\n",
      "Analysing mnasnet_small\n",
      "Analysing mobilenetv2_100\n"
     ]
    },
    {
     "output_type": "stream",
     "name": "stderr",
     "text": [
      " 39%|███▉      | 58/149 [02:24<02:50,  1.87s/it]"
     ]
    },
    {
     "output_type": "stream",
     "name": "stdout",
     "text": [
      "Analysing mobilenetv2_110d\n",
      "Analysing mobilenetv2_120d\n",
      "Analysing mobilenetv2_140\n"
     ]
    },
    {
     "output_type": "stream",
     "name": "stderr",
     "text": [
      " 40%|███▉      | 59/149 [02:25<02:26,  1.63s/it]"
     ]
    },
    {
     "output_type": "stream",
     "name": "stdout",
     "text": [
      "Analysing mobilenetv3_large_075\n",
      "Analysing mobilenetv3_large_100\n",
      "Analysing mobilenetv3_large_100_miil\n",
      "Analysing mobilenetv3_large_100_miil_in21k\n"
     ]
    },
    {
     "output_type": "stream",
     "name": "stderr",
     "text": [
      " 40%|████      | 60/149 [02:26<02:11,  1.47s/it]"
     ]
    },
    {
     "output_type": "stream",
     "name": "stdout",
     "text": [
      "Analysing mobilenetv3_rw\n",
      "Analysing mobilenetv3_small_075\n",
      "Analysing mobilenetv3_small_100\n"
     ]
    },
    {
     "output_type": "stream",
     "name": "stderr",
     "text": [
      " 41%|████      | 61/149 [02:28<02:05,  1.43s/it]"
     ]
    },
    {
     "output_type": "stream",
     "name": "stdout",
     "text": [
      "Analysing nf_ecaresnet26\n",
      "Analysing nf_ecaresnet50\n",
      "Analysing nf_ecaresnet101\n"
     ]
    },
    {
     "output_type": "stream",
     "name": "stderr",
     "text": [
      " 42%|████▏     | 63/149 [02:31<02:04,  1.45s/it]"
     ]
    },
    {
     "output_type": "stream",
     "name": "stdout",
     "text": [
      "Analysing nf_resnet26\n",
      "Analysing nf_resnet101\n"
     ]
    },
    {
     "output_type": "stream",
     "name": "stderr",
     "text": [
      " 43%|████▎     | 64/149 [02:32<02:08,  1.51s/it]"
     ]
    },
    {
     "output_type": "stream",
     "name": "stdout",
     "text": [
      "Analysing nf_seresnet26\n",
      "Analysing nf_seresnet50\n",
      "Analysing nf_seresnet101\n"
     ]
    },
    {
     "output_type": "stream",
     "name": "stderr",
     "text": [
      " 44%|████▎     | 65/149 [02:35<02:27,  1.76s/it]"
     ]
    },
    {
     "output_type": "stream",
     "name": "stdout",
     "text": [
      "Analysing nfnet_f1\n",
      "Analysing nfnet_f1s\n"
     ]
    },
    {
     "output_type": "stream",
     "name": "stderr",
     "text": [
      " 46%|████▌     | 68/149 [03:01<09:26,  6.99s/it]"
     ]
    },
    {
     "output_type": "stream",
     "name": "stdout",
     "text": [
      "Analysing nfnet_l0\n"
     ]
    },
    {
     "output_type": "stream",
     "name": "stderr",
     "text": [
      " 46%|████▋     | 69/149 [03:10<10:01,  7.51s/it]"
     ]
    },
    {
     "output_type": "stream",
     "name": "stdout",
     "text": [
      "Analysing pit_b_224\n",
      "Analysing pit_b_distilled_224\n",
      "Analysing pit_s_224\n",
      "Analysing pit_s_distilled_224\n"
     ]
    },
    {
     "output_type": "stream",
     "name": "stderr",
     "text": [
      " 47%|████▋     | 70/149 [03:12<07:28,  5.68s/it]"
     ]
    },
    {
     "output_type": "stream",
     "name": "stdout",
     "text": [
      "Analysing pit_ti_224\n",
      "Analysing pit_ti_distilled_224\n",
      "Analysing pit_xs_224\n",
      "Analysing pit_xs_distilled_224\n"
     ]
    },
    {
     "output_type": "stream",
     "name": "stderr",
     "text": [
      " 48%|████▊     | 71/149 [03:13<05:38,  4.33s/it]"
     ]
    },
    {
     "output_type": "stream",
     "name": "stdout",
     "text": [
      "Analysing regnetx_002\n"
     ]
    },
    {
     "output_type": "stream",
     "name": "stderr",
     "text": [
      " 48%|████▊     | 72/149 [03:14<04:16,  3.33s/it]"
     ]
    },
    {
     "output_type": "stream",
     "name": "stdout",
     "text": [
      "Analysing regnetx_004\n",
      "Analysing regnetx_006\n",
      "Analysing regnetx_008\n",
      "Analysing regnetx_016\n"
     ]
    },
    {
     "output_type": "stream",
     "name": "stderr",
     "text": [
      " 49%|████▉     | 73/149 [03:15<03:23,  2.67s/it]"
     ]
    },
    {
     "output_type": "stream",
     "name": "stdout",
     "text": [
      "Analysing regnetx_032\n",
      "Analysing regnetx_040\n",
      "Analysing regnetx_064\n",
      "Analysing regnetx_080\n"
     ]
    },
    {
     "output_type": "stream",
     "name": "stderr",
     "text": [
      " 50%|████▉     | 74/149 [03:17<03:03,  2.45s/it]"
     ]
    },
    {
     "output_type": "stream",
     "name": "stdout",
     "text": [
      "Analysing regnetx_120\n",
      "Analysing regnetx_160\n",
      "Analysing regnetx_320\n",
      "Analysing regnety_002\n"
     ]
    },
    {
     "output_type": "stream",
     "name": "stderr",
     "text": [
      " 50%|█████     | 75/149 [03:19<02:56,  2.39s/it]"
     ]
    },
    {
     "output_type": "stream",
     "name": "stdout",
     "text": [
      "Analysing regnety_004\n",
      "Analysing regnety_006\n",
      "Analysing regnety_008\n",
      "Analysing regnety_016\n"
     ]
    },
    {
     "output_type": "stream",
     "name": "stderr",
     "text": [
      " 51%|█████     | 76/149 [03:20<02:28,  2.04s/it]"
     ]
    },
    {
     "output_type": "stream",
     "name": "stdout",
     "text": [
      "Analysing regnety_032\n",
      "Analysing regnety_040\n",
      "Analysing regnety_064\n",
      "Analysing regnety_080\n"
     ]
    },
    {
     "output_type": "stream",
     "name": "stderr",
     "text": [
      " 52%|█████▏    | 77/149 [03:22<02:27,  2.05s/it]"
     ]
    },
    {
     "output_type": "stream",
     "name": "stdout",
     "text": [
      "Analysing regnety_120\n",
      "Analysing regnety_160\n",
      "Analysing regnety_320\n",
      "Analysing repvgg_a2\n"
     ]
    },
    {
     "output_type": "stream",
     "name": "stderr",
     "text": [
      " 52%|█████▏    | 78/149 [03:25<02:47,  2.36s/it]"
     ]
    },
    {
     "output_type": "stream",
     "name": "stdout",
     "text": [
      "Analysing repvgg_b0\n",
      "Analysing repvgg_b1\n",
      "Analysing repvgg_b1g4\n",
      "Analysing repvgg_b2\n"
     ]
    },
    {
     "output_type": "stream",
     "name": "stderr",
     "text": [
      " 53%|█████▎    | 79/149 [03:28<02:55,  2.51s/it]"
     ]
    },
    {
     "output_type": "stream",
     "name": "stdout",
     "text": [
      "Analysing repvgg_b2g4\n",
      "Analysing repvgg_b3\n",
      "Analysing repvgg_b3g4\n",
      "Analysing res2net50_14w_8s\n"
     ]
    },
    {
     "output_type": "stream",
     "name": "stderr",
     "text": [
      " 54%|█████▎    | 80/149 [03:31<03:03,  2.65s/it]"
     ]
    },
    {
     "output_type": "stream",
     "name": "stdout",
     "text": [
      "Analysing res2net50_26w_4s\n",
      "Analysing res2net50_26w_6s\n",
      "Analysing res2net50_26w_8s\n",
      "Analysing res2net50_48w_2s\n"
     ]
    },
    {
     "output_type": "stream",
     "name": "stderr",
     "text": [
      " 54%|█████▍    | 81/149 [03:33<02:50,  2.50s/it]"
     ]
    },
    {
     "output_type": "stream",
     "name": "stdout",
     "text": [
      "Analysing res2net101_26w_4s\n",
      "Analysing res2next50\n",
      "Analysing resmlp_12_224\n",
      "Analysing resmlp_12_distilled_224\n"
     ]
    },
    {
     "output_type": "stream",
     "name": "stderr",
     "text": [
      " 55%|█████▌    | 82/149 [03:35<02:28,  2.22s/it]"
     ]
    },
    {
     "output_type": "stream",
     "name": "stdout",
     "text": [
      "Analysing resmlp_24_224\n",
      "Analysing resmlp_24_distilled_224\n",
      "Analysing resmlp_36_224\n",
      "Analysing resmlp_36_distilled_224\n",
      "Analysing resmlp_big_24_224\n"
     ]
    },
    {
     "output_type": "stream",
     "name": "stderr",
     "text": [
      " 56%|█████▌    | 83/149 [03:38<02:39,  2.42s/it]"
     ]
    },
    {
     "output_type": "stream",
     "name": "stdout",
     "text": [
      "Analysing resmlp_big_24_224_in22ft1k\n",
      "Analysing resmlp_big_24_distilled_224\n",
      "Analysing resnest14d\n"
     ]
    },
    {
     "output_type": "stream",
     "name": "stderr",
     "text": [
      " 56%|█████▋    | 84/149 [03:41<02:50,  2.62s/it]"
     ]
    },
    {
     "output_type": "stream",
     "name": "stdout",
     "text": [
      "Analysing resnest26d\n",
      "Analysing resnest50d\n",
      "Analysing resnest50d_1s4x24d\n",
      "Analysing resnest50d_4s2x40d\n"
     ]
    },
    {
     "output_type": "stream",
     "name": "stderr",
     "text": [
      " 57%|█████▋    | 85/149 [03:43<02:32,  2.38s/it]"
     ]
    },
    {
     "output_type": "stream",
     "name": "stdout",
     "text": [
      "Analysing resnet18\n"
     ]
    },
    {
     "output_type": "stream",
     "name": "stderr",
     "text": [
      " 58%|█████▊    | 86/149 [03:45<02:27,  2.34s/it]"
     ]
    },
    {
     "output_type": "stream",
     "name": "stdout",
     "text": [
      "Analysing resnet18d\n",
      "Analysing resnet26\n",
      "Analysing resnet26d\n"
     ]
    },
    {
     "output_type": "stream",
     "name": "stderr",
     "text": [
      " 58%|█████▊    | 87/149 [03:46<02:03,  1.99s/it]"
     ]
    },
    {
     "output_type": "stream",
     "name": "stdout",
     "text": [
      "Analysing resnet34\n",
      "Analysing resnet34d\n",
      "Analysing resnet50\n",
      "Analysing resnet50d\n"
     ]
    },
    {
     "output_type": "stream",
     "name": "stderr",
     "text": [
      " 59%|█████▉    | 88/149 [03:48<01:54,  1.87s/it]"
     ]
    },
    {
     "output_type": "stream",
     "name": "stdout",
     "text": [
      "Analysing resnet50t\n",
      "Analysing resnet101\n"
     ]
    },
    {
     "output_type": "stream",
     "name": "stderr",
     "text": [
      " 60%|█████▉    | 89/149 [03:50<01:52,  1.87s/it]"
     ]
    },
    {
     "output_type": "stream",
     "name": "stdout",
     "text": [
      "Analysing resnet152\n",
      "Analysing resnet200\n"
     ]
    },
    {
     "output_type": "stream",
     "name": "stderr",
     "text": [
      " 60%|██████    | 90/149 [03:52<02:05,  2.13s/it]"
     ]
    },
    {
     "output_type": "stream",
     "name": "stdout",
     "text": [
      "Analysing resnetblur18\n",
      "Analysing resnetblur50\n"
     ]
    },
    {
     "output_type": "stream",
     "name": "stderr",
     "text": [
      " 62%|██████▏   | 92/149 [03:58<02:30,  2.64s/it]"
     ]
    },
    {
     "output_type": "stream",
     "name": "stdout",
     "text": [
      "Analysing resnetv2_50\n",
      "Analysing resnetv2_50d\n"
     ]
    },
    {
     "output_type": "stream",
     "name": "stderr",
     "text": [
      " 62%|██████▏   | 93/149 [04:01<02:32,  2.73s/it]"
     ]
    },
    {
     "output_type": "stream",
     "name": "stdout",
     "text": [
      "Analysing resnetv2_50t\n",
      "Analysing resnetv2_50x1_bit_distilled\n",
      "Analysing resnetv2_50x1_bitm_in21k\n"
     ]
    },
    {
     "output_type": "stream",
     "name": "stderr",
     "text": [
      " 63%|██████▎   | 94/149 [04:05<02:39,  2.89s/it]"
     ]
    },
    {
     "output_type": "stream",
     "name": "stdout",
     "text": [
      "Analysing resnetv2_50x3_bitm_in21k\n",
      "Analysing resnetv2_101\n",
      "Analysing resnetv2_101d\n"
     ]
    },
    {
     "output_type": "stream",
     "name": "stderr",
     "text": [
      " 64%|██████▍   | 95/149 [04:10<03:12,  3.56s/it]"
     ]
    },
    {
     "output_type": "stream",
     "name": "stdout",
     "text": [
      "Analysing resnetv2_101x1_bitm_in21k\n",
      "Analysing resnetv2_101x3_bitm_in21k\n"
     ]
    },
    {
     "output_type": "stream",
     "name": "stderr",
     "text": [
      " 64%|██████▍   | 96/149 [04:20<04:49,  5.46s/it]"
     ]
    },
    {
     "output_type": "stream",
     "name": "stdout",
     "text": [
      "Analysing resnetv2_152\n",
      "Analysing resnetv2_152d\n",
      "Analysing resnetv2_152x2_bit_teacher\n"
     ]
    },
    {
     "output_type": "stream",
     "name": "stderr",
     "text": [
      " 65%|██████▌   | 97/149 [04:27<05:11,  5.98s/it]"
     ]
    },
    {
     "output_type": "stream",
     "name": "stdout",
     "text": [
      "Analysing resnetv2_152x2_bitm_in21k\n",
      "Analysing resnetv2_152x4_bitm_in21k\n"
     ]
    },
    {
     "output_type": "stream",
     "name": "stderr",
     "text": [
      " 66%|██████▌   | 98/149 [04:48<09:00, 10.60s/it]"
     ]
    },
    {
     "output_type": "stream",
     "name": "stdout",
     "text": [
      "Analysing resnext50_32x4d\n",
      "Analysing resnext50d_32x4d\n",
      "Analysing resnext101_32x4d\n",
      "Analysing resnext101_32x8d\n"
     ]
    },
    {
     "output_type": "stream",
     "name": "stderr",
     "text": [
      " 66%|██████▋   | 99/149 [04:51<06:55,  8.31s/it]"
     ]
    },
    {
     "output_type": "stream",
     "name": "stdout",
     "text": [
      "Analysing resnext101_64x4d\n",
      "Analysing rexnet_100\n",
      "Analysing rexnet_130\n",
      "Analysing rexnet_150\n"
     ]
    },
    {
     "output_type": "stream",
     "name": "stderr",
     "text": [
      " 67%|██████▋   | 100/149 [04:52<05:02,  6.17s/it]"
     ]
    },
    {
     "output_type": "stream",
     "name": "stdout",
     "text": [
      "Analysing rexnet_200\n",
      "Analysing rexnetr_100\n",
      "Analysing rexnetr_130\n",
      "Analysing rexnetr_150\n"
     ]
    },
    {
     "output_type": "stream",
     "name": "stderr",
     "text": [
      " 68%|██████▊   | 101/149 [04:53<03:44,  4.68s/it]"
     ]
    },
    {
     "output_type": "stream",
     "name": "stdout",
     "text": [
      "Analysing rexnetr_200\n",
      "Analysing selecsls42\n",
      "Analysing selecsls42b\n",
      "Analysing selecsls60\n"
     ]
    },
    {
     "output_type": "stream",
     "name": "stderr",
     "text": [
      " 68%|██████▊   | 102/149 [04:55<02:58,  3.80s/it]"
     ]
    },
    {
     "output_type": "stream",
     "name": "stdout",
     "text": [
      "Analysing selecsls60b\n",
      "Analysing selecsls84\n",
      "Analysing semnasnet_050\n",
      "Analysing semnasnet_075\n"
     ]
    },
    {
     "output_type": "stream",
     "name": "stderr",
     "text": [
      " 69%|██████▉   | 103/149 [04:57<02:21,  3.09s/it]"
     ]
    },
    {
     "output_type": "stream",
     "name": "stdout",
     "text": [
      "Analysing semnasnet_100\n",
      "Analysing semnasnet_140\n",
      "Analysing senet154\n",
      "Analysing seresnet18\n"
     ]
    },
    {
     "output_type": "stream",
     "name": "stderr",
     "text": [
      " 70%|██████▉   | 104/149 [04:59<02:07,  2.83s/it]"
     ]
    },
    {
     "output_type": "stream",
     "name": "stdout",
     "text": [
      "Analysing seresnet34\n",
      "Analysing seresnet50\n",
      "Analysing seresnet50t\n",
      "Analysing seresnet101\n",
      "Analysing seresnet152\n"
     ]
    },
    {
     "output_type": "stream",
     "name": "stderr",
     "text": [
      " 71%|███████   | 106/149 [05:04<01:58,  2.76s/it]"
     ]
    },
    {
     "output_type": "stream",
     "name": "stdout",
     "text": [
      "Analysing seresnext26d_32x4d\n",
      "Analysing seresnext26t_32x4d\n",
      "Analysing seresnext26tn_32x4d\n",
      "Analysing seresnext50_32x4d\n"
     ]
    },
    {
     "output_type": "stream",
     "name": "stderr",
     "text": [
      " 72%|███████▏  | 107/149 [05:06<01:43,  2.48s/it]"
     ]
    },
    {
     "output_type": "stream",
     "name": "stdout",
     "text": [
      "Analysing seresnext101_32x4d\n",
      "Analysing seresnext101_32x8d\n",
      "Analysing skresnet18\n",
      "Analysing skresnet34\n"
     ]
    },
    {
     "output_type": "stream",
     "name": "stderr",
     "text": [
      " 72%|███████▏  | 108/149 [05:08<01:37,  2.39s/it]"
     ]
    },
    {
     "output_type": "stream",
     "name": "stdout",
     "text": [
      "Analysing skresnet50\n",
      "Analysing skresnet50d\n",
      "Analysing skresnext50_32x4d\n",
      "Analysing spnasnet_100\n"
     ]
    },
    {
     "output_type": "stream",
     "name": "stderr",
     "text": [
      " 73%|███████▎  | 109/149 [05:10<01:24,  2.10s/it]"
     ]
    },
    {
     "output_type": "stream",
     "name": "stdout",
     "text": [
      "Analysing ssl_resnet18\n",
      "Analysing ssl_resnet50\n",
      "Analysing ssl_resnext50_32x4d\n",
      "Analysing ssl_resnext101_32x4d\n"
     ]
    },
    {
     "output_type": "stream",
     "name": "stderr",
     "text": [
      " 74%|███████▍  | 110/149 [05:12<01:25,  2.18s/it]"
     ]
    },
    {
     "output_type": "stream",
     "name": "stdout",
     "text": [
      "Analysing ssl_resnext101_32x8d\n",
      "Analysing ssl_resnext101_32x16d\n",
      "Analysing swin_base_patch4_window7_224\n",
      "Analysing swin_base_patch4_window7_224_in22k\n"
     ]
    },
    {
     "output_type": "stream",
     "name": "stderr",
     "text": [
      " 74%|███████▍  | 111/149 [05:17<01:55,  3.04s/it]"
     ]
    },
    {
     "output_type": "stream",
     "name": "stdout",
     "text": [
      "Analysing swin_large_patch4_window7_224\n",
      "Analysing swin_large_patch4_window7_224_in22k\n"
     ]
    },
    {
     "output_type": "stream",
     "name": "stderr",
     "text": [
      " 75%|███████▌  | 112/149 [05:25<02:41,  4.37s/it]"
     ]
    },
    {
     "output_type": "stream",
     "name": "stdout",
     "text": [
      "Analysing swin_small_patch4_window7_224\n",
      "Analysing swin_tiny_patch4_window7_224\n"
     ]
    },
    {
     "output_type": "stream",
     "name": "stderr",
     "text": [
      " 76%|███████▌  | 113/149 [05:31<03:04,  5.14s/it]"
     ]
    },
    {
     "output_type": "stream",
     "name": "stdout",
     "text": [
      "Analysing swsl_resnet18\n",
      "Analysing swsl_resnet50\n"
     ]
    },
    {
     "output_type": "stream",
     "name": "stderr",
     "text": [
      " 77%|███████▋  | 114/149 [05:33<02:20,  4.02s/it]"
     ]
    },
    {
     "output_type": "stream",
     "name": "stdout",
     "text": [
      "Analysing swsl_resnext50_32x4d\n",
      "Analysing swsl_resnext101_32x4d\n",
      "Analysing swsl_resnext101_32x8d\n",
      "Analysing swsl_resnext101_32x16d\n"
     ]
    },
    {
     "output_type": "stream",
     "name": "stderr",
     "text": [
      " 77%|███████▋  | 115/149 [05:37<02:13,  3.93s/it]"
     ]
    },
    {
     "output_type": "stream",
     "name": "stdout",
     "text": [
      "Analysing tf_efficientnet_b0\n",
      "Analysing tf_efficientnet_b0_ap\n",
      "Analysing tf_efficientnet_b0_ns\n"
     ]
    },
    {
     "output_type": "stream",
     "name": "stderr",
     "text": [
      " 81%|████████  | 121/149 [05:46<01:02,  2.23s/it]"
     ]
    },
    {
     "output_type": "stream",
     "name": "stdout",
     "text": [
      "Analysing tf_efficientnet_cc_b0_4e\n",
      "Analysing tf_efficientnet_cc_b0_8e\n"
     ]
    },
    {
     "output_type": "stream",
     "name": "stderr",
     "text": [
      " 82%|████████▏ | 122/149 [05:48<00:58,  2.18s/it]"
     ]
    },
    {
     "output_type": "stream",
     "name": "stdout",
     "text": [
      "Analysing tf_efficientnet_es\n"
     ]
    },
    {
     "output_type": "stream",
     "name": "stderr",
     "text": [
      " 83%|████████▎ | 123/149 [05:53<01:15,  2.91s/it]"
     ]
    },
    {
     "output_type": "stream",
     "name": "stdout",
     "text": [
      "Analysing tf_efficientnet_lite0\n"
     ]
    },
    {
     "output_type": "stream",
     "name": "stderr",
     "text": [
      " 86%|████████▌ | 128/149 [06:06<00:51,  2.45s/it]"
     ]
    },
    {
     "output_type": "stream",
     "name": "stdout",
     "text": [
      "Analysing tf_mixnet_l\n",
      "Analysing tf_mixnet_m\n",
      "Analysing tf_mixnet_s\n"
     ]
    },
    {
     "output_type": "stream",
     "name": "stderr",
     "text": [
      " 87%|████████▋ | 129/149 [06:07<00:40,  2.04s/it]"
     ]
    },
    {
     "output_type": "stream",
     "name": "stdout",
     "text": [
      "Analysing tf_mobilenetv3_large_075\n",
      "Analysing tf_mobilenetv3_large_100\n",
      "Analysing tf_mobilenetv3_large_minimal_100\n",
      "Analysing tf_mobilenetv3_small_075\n"
     ]
    },
    {
     "output_type": "stream",
     "name": "stderr",
     "text": [
      " 87%|████████▋ | 130/149 [06:08<00:32,  1.72s/it]"
     ]
    },
    {
     "output_type": "stream",
     "name": "stdout",
     "text": [
      "Analysing tf_mobilenetv3_small_100\n",
      "Analysing tf_mobilenetv3_small_minimal_100\n",
      "Analysing tnt_b_patch16_224\n",
      "Analysing tnt_s_patch16_224\n"
     ]
    },
    {
     "output_type": "stream",
     "name": "stderr",
     "text": [
      " 88%|████████▊ | 131/149 [06:10<00:31,  1.75s/it]"
     ]
    },
    {
     "output_type": "stream",
     "name": "stdout",
     "text": [
      "Analysing tv_densenet121\n",
      "Analysing tv_resnet34\n",
      "Analysing tv_resnet50\n",
      "Analysing tv_resnet101\n"
     ]
    },
    {
     "output_type": "stream",
     "name": "stderr",
     "text": [
      " 89%|████████▊ | 132/149 [06:12<00:31,  1.85s/it]"
     ]
    },
    {
     "output_type": "stream",
     "name": "stdout",
     "text": [
      "Analysing tv_resnet152\n",
      "Analysing tv_resnext50_32x4d\n",
      "Analysing twins_pcpvt_base\n",
      "Analysing twins_pcpvt_large\n"
     ]
    },
    {
     "output_type": "stream",
     "name": "stderr",
     "text": [
      " 89%|████████▉ | 133/149 [06:15<00:35,  2.22s/it]"
     ]
    },
    {
     "output_type": "stream",
     "name": "stdout",
     "text": [
      "Analysing twins_pcpvt_small\n",
      "Analysing twins_svt_base\n",
      "Analysing twins_svt_large\n",
      "Analysing twins_svt_small\n",
      "Analysing vgg11\n"
     ]
    },
    {
     "output_type": "stream",
     "name": "stderr",
     "text": [
      " 90%|████████▉ | 134/149 [06:20<00:45,  3.03s/it]"
     ]
    },
    {
     "output_type": "stream",
     "name": "stdout",
     "text": [
      "Analysing vgg11_bn\n",
      "Analysing vgg13\n",
      "Analysing vgg13_bn\n",
      "Analysing vgg16\n"
     ]
    },
    {
     "output_type": "stream",
     "name": "stderr",
     "text": [
      " 91%|█████████ | 135/149 [06:25<00:53,  3.85s/it]"
     ]
    },
    {
     "output_type": "stream",
     "name": "stdout",
     "text": [
      "Analysing vgg16_bn\n",
      "Analysing vgg19\n",
      "Analysing vgg19_bn\n"
     ]
    },
    {
     "output_type": "stream",
     "name": "stderr",
     "text": [
      " 91%|█████████▏| 136/149 [06:30<00:54,  4.19s/it]"
     ]
    },
    {
     "output_type": "stream",
     "name": "stdout",
     "text": [
      "Analysing visformer_small\n",
      "Analysing visformer_tiny\n",
      "Analysing vit_base_patch16_224\n",
      "Analysing vit_base_patch16_224_in21k\n"
     ]
    },
    {
     "output_type": "stream",
     "name": "stderr",
     "text": [
      " 92%|█████████▏| 137/149 [06:34<00:48,  4.00s/it]"
     ]
    },
    {
     "output_type": "stream",
     "name": "stdout",
     "text": [
      "Analysing vit_base_patch16_224_miil\n",
      "Analysing vit_base_patch16_224_miil_in21k\n",
      "Analysing vit_base_patch32_224\n"
     ]
    },
    {
     "output_type": "stream",
     "name": "stderr",
     "text": [
      " 93%|█████████▎| 138/149 [06:38<00:44,  4.01s/it]"
     ]
    },
    {
     "output_type": "stream",
     "name": "stdout",
     "text": [
      "Analysing vit_base_patch32_224_in21k\n",
      "Analysing vit_base_r26_s32_224\n",
      "Analysing vit_base_r50_s16_224\n"
     ]
    },
    {
     "output_type": "stream",
     "name": "stderr",
     "text": [
      " 93%|█████████▎| 139/149 [06:43<00:42,  4.28s/it]"
     ]
    },
    {
     "output_type": "stream",
     "name": "stdout",
     "text": [
      "Analysing vit_base_r50_s16_224_in21k\n",
      "Analysing vit_base_resnet26d_224\n",
      "Analysing vit_base_resnet50_224_in21k\n"
     ]
    },
    {
     "output_type": "stream",
     "name": "stderr",
     "text": [
      " 94%|█████████▍| 140/149 [06:48<00:39,  4.42s/it]"
     ]
    },
    {
     "output_type": "stream",
     "name": "stdout",
     "text": [
      "Analysing vit_base_resnet50d_224\n",
      "Analysing vit_huge_patch14_224_in21k\n",
      "Analysing vit_large_patch16_224\n",
      "Analysing vit_large_patch16_224_in21k\n"
     ]
    },
    {
     "output_type": "stream",
     "name": "stderr",
     "text": [
      " 95%|█████████▍| 141/149 [07:02<00:58,  7.28s/it]"
     ]
    },
    {
     "output_type": "stream",
     "name": "stdout",
     "text": [
      "Analysing vit_large_patch32_224\n",
      "Analysing vit_large_patch32_224_in21k\n"
     ]
    },
    {
     "output_type": "stream",
     "name": "stderr",
     "text": [
      " 95%|█████████▌| 142/149 [07:13<00:59,  8.52s/it]"
     ]
    },
    {
     "output_type": "stream",
     "name": "stdout",
     "text": [
      "Analysing vit_large_r50_s32_224\n",
      "Analysing vit_large_r50_s32_224_in21k\n"
     ]
    },
    {
     "output_type": "stream",
     "name": "stderr",
     "text": [
      " 96%|█████████▌| 143/149 [07:23<00:54,  9.02s/it]"
     ]
    },
    {
     "output_type": "stream",
     "name": "stdout",
     "text": [
      "Analysing vit_small_patch16_224\n",
      "Analysing vit_small_patch16_224_in21k\n",
      "Analysing vit_small_patch32_224\n"
     ]
    },
    {
     "output_type": "stream",
     "name": "stderr",
     "text": [
      " 97%|█████████▋| 144/149 [07:25<00:34,  6.85s/it]"
     ]
    },
    {
     "output_type": "stream",
     "name": "stdout",
     "text": [
      "Analysing vit_small_patch32_224_in21k\n",
      "Analysing vit_small_r26_s32_224\n",
      "Analysing vit_small_r26_s32_224_in21k\n"
     ]
    },
    {
     "output_type": "stream",
     "name": "stderr",
     "text": [
      " 97%|█████████▋| 145/149 [07:27<00:21,  5.48s/it]"
     ]
    },
    {
     "output_type": "stream",
     "name": "stdout",
     "text": [
      "Analysing vit_small_resnet26d_224\n",
      "Analysing vit_small_resnet50d_s16_224\n",
      "Analysing vit_tiny_patch16_224\n"
     ]
    },
    {
     "output_type": "stream",
     "name": "stderr",
     "text": [
      " 98%|█████████▊| 146/149 [07:30<00:13,  4.55s/it]"
     ]
    },
    {
     "output_type": "stream",
     "name": "stdout",
     "text": [
      "Analysing vit_tiny_patch16_224_in21k\n",
      "Analysing vit_tiny_r_s16_p8_224\n",
      "Analysing vit_tiny_r_s16_p8_224_in21k\n"
     ]
    },
    {
     "output_type": "stream",
     "name": "stderr",
     "text": [
      " 99%|█████████▊| 147/149 [07:31<00:07,  3.55s/it]"
     ]
    },
    {
     "output_type": "stream",
     "name": "stdout",
     "text": [
      "Analysing vovnet39a\n",
      "Analysing vovnet57a\n",
      "Analysing wide_resnet50_2\n",
      "Analysing wide_resnet101_2\n"
     ]
    },
    {
     "output_type": "stream",
     "name": "stderr",
     "text": [
      "100%|██████████| 149/149 [07:35<00:00,  3.06s/it]\n"
     ]
    }
   ],
   "metadata": {}
  },
  {
   "cell_type": "code",
   "execution_count": 12,
   "source": [
    "total_networks = len(stats_dict.keys())\n",
    "networks_with_kernel = {f'{k}': 0 for k in range(1, 12)}\n",
    "for network, stats in stats_dict.items():\n",
    "    for kernel_size in networks_with_kernel.keys():\n",
    "        if kernel_size in stats['kernel'].keys():\n",
    "            networks_with_kernel[kernel_size] += 1\n"
   ],
   "outputs": [
    {
     "output_type": "stream",
     "name": "stdout",
     "text": [
      "413\n"
     ]
    }
   ],
   "metadata": {}
  },
  {
   "cell_type": "code",
   "execution_count": 13,
   "source": [
    "stats_dict['alexnet']"
   ],
   "outputs": [
    {
     "output_type": "execute_result",
     "data": {
      "text/plain": [
       "{'kernel': {'11': 1, '5': 1, '3': 3},\n",
       " 'stride': {'11': {'4': 1}, '5': {'1': 1}, '3': {'1': 3}},\n",
       " 'in_channel': {'11': {'3': 1},\n",
       "  '5': {'64': 1},\n",
       "  '3': {'192': 1, '384': 1, '256': 1}},\n",
       " 'filters': {'11': {'64': 1}, '5': {'192': 1}, '3': {'384': 1, '256': 2}},\n",
       " 'intermediate_layer_sizes': [(150528, [1, 3, 224, 224]),\n",
       "  (46656, [1, 64, 27, 27]),\n",
       "  (32448, [1, 192, 13, 13]),\n",
       "  (64896, [1, 384, 13, 13]),\n",
       "  (43264, [1, 256, 13, 13]),\n",
       "  (43264, [256, 13, 13])],\n",
       " 'intermediate_layer_bounds': ((150528, [1, 3, 224, 224]),\n",
       "  (32448, [1, 192, 13, 13]))}"
      ]
     },
     "metadata": {},
     "execution_count": 13
    }
   ],
   "metadata": {}
  },
  {
   "cell_type": "code",
   "execution_count": 7,
   "source": [
    "ModelStatsAggregator.get_aggregate_kernel_stats_as_percentages(stats_dict)"
   ],
   "outputs": [
    {
     "output_type": "execute_result",
     "data": {
      "text/plain": [
       "{'7': 0.008996066358816487,\n",
       " '1': 0.6101932615016248,\n",
       " '3': 0.35016247648366683,\n",
       " '11': 0.0001026167265264238,\n",
       " '5': 0.020489139729775955,\n",
       " '16': 0.001573456473405165,\n",
       " '4': 0.0012998118693347016,\n",
       " '2': 0.003728407730460065,\n",
       " '32': 0.0003078501795792714,\n",
       " '9': 0.0024628014366341712,\n",
       " '14': 0.0001026167265264238,\n",
       " '8': 0.000581494783649735}"
      ]
     },
     "metadata": {},
     "execution_count": 7
    }
   ],
   "metadata": {}
  },
  {
   "cell_type": "code",
   "execution_count": 40,
   "source": [
    "expected_kernel_sizes = list(range(1,12))\n",
    "count_of_models_with_kernel_size = {f'{k}': 0 for k in expected_kernel_sizes}\n",
    "for model, stats in stats_dict.items():\n",
    "    for size in expected_kernel_sizes:\n",
    "        count_of_models_with_kernel_size[f'{size}'] += (1 if stats['kernel'][f'{size}'] > 0 else 0)\n",
    "print(count_of_models_with_kernel_size)"
   ],
   "outputs": [
    {
     "output_type": "stream",
     "name": "stdout",
     "text": [
      "{'1': 380, '2': 22, '3': 359, '4': 22, '5': 66, '6': 46, '7': 156, '8': 11, '9': 8, '10': 0, '11': 0}\n"
     ]
    }
   ],
   "metadata": {}
  },
  {
   "cell_type": "code",
   "execution_count": 8,
   "source": [
    "ModelStatsAggregator.get_aggregate_stride_stats_per_kernel(stats_dict)"
   ],
   "outputs": [
    {
     "output_type": "execute_result",
     "data": {
      "text/plain": [
       "{'7': {'2': 151, '1': 107, '4': 2},\n",
       " '1': {'1': 17371, '2': 469},\n",
       " '3': {'1': 8602, '2': 1636},\n",
       " '11': {'4': 1, '2': 2},\n",
       " '5': {'1': 443, '2': 155},\n",
       " '16': {'16': 40, '8': 6},\n",
       " '4': {'4': 38},\n",
       " '2': {'2': 109},\n",
       " '32': {'32': 9},\n",
       " '9': {'2': 13, '1': 60},\n",
       " '14': {'7': 2, '14': 1},\n",
       " '8': {'8': 17}}"
      ]
     },
     "metadata": {},
     "execution_count": 8
    }
   ],
   "metadata": {}
  },
  {
   "cell_type": "code",
   "execution_count": 9,
   "source": [
    "ModelStatsAggregator.get_aggregate_in_channel_stats_per_kernel(stats_dict)"
   ],
   "outputs": [
    {
     "output_type": "execute_result",
     "data": {
      "text/plain": [
       "{'7': {'3': 135,\n",
       "  '120': 16,\n",
       "  '90': 10,\n",
       "  '300': 10,\n",
       "  '48': 9,\n",
       "  '512': 8,\n",
       "  '192': 7,\n",
       "  '156': 6,\n",
       "  '396': 6,\n",
       "  '144': 6,\n",
       "  '57': 5,\n",
       "  '80': 5,\n",
       "  '288': 5,\n",
       "  '480': 4,\n",
       "  '216': 4,\n",
       "  '720': 4,\n",
       "  '24': 3,\n",
       "  '81': 3,\n",
       "  '112': 3,\n",
       "  '64': 2,\n",
       "  '60': 2,\n",
       "  '240': 2,\n",
       "  '180': 2,\n",
       "  '160': 2,\n",
       "  '96': 1,\n",
       "  '72': 1,\n",
       "  '128': 1,\n",
       "  '432': 1},\n",
       " '1': {'1024': 2824,\n",
       "  '256': 2166,\n",
       "  '512': 1844,\n",
       "  '64': 1196,\n",
       "  '128': 852,\n",
       "  '2048': 508,\n",
       "  '32': 421,\n",
       "  '192': 312,\n",
       "  '768': 289,\n",
       "  '384': 282,\n",
       "  '240': 251,\n",
       "  '96': 241,\n",
       "  '16': 231,\n",
       "  '480': 209,\n",
       "  '144': 205,\n",
       "  '80': 202,\n",
       "  '1536': 196,\n",
       "  '40': 193,\n",
       "  '120': 186,\n",
       "  '48': 185,\n",
       "  '24': 185,\n",
       "  '672': 182,\n",
       "  '72': 169,\n",
       "  '160': 167,\n",
       "  '1152': 162,\n",
       "  '576': 155,\n",
       "  '320': 152,\n",
       "  '640': 139,\n",
       "  '896': 138,\n",
       "  '112': 131,\n",
       "  '288': 116,\n",
       "  '336': 105,\n",
       "  '20': 98,\n",
       "  '960': 91,\n",
       "  '448': 90,\n",
       "  '4096': 83,\n",
       "  '8': 81,\n",
       "  '168': 75,\n",
       "  '224': 74,\n",
       "  '432': 72,\n",
       "  '720': 68,\n",
       "  '28': 59,\n",
       "  '60': 51,\n",
       "  '1344': 49,\n",
       "  '528': 48,\n",
       "  '416': 47,\n",
       "  '832': 44,\n",
       "  '56': 44,\n",
       "  '208': 43,\n",
       "  '1392': 42,\n",
       "  '3072': 41,\n",
       "  '152': 39,\n",
       "  '88': 38,\n",
       "  '104': 37,\n",
       "  '864': 35,\n",
       "  '10': 34,\n",
       "  '368': 34,\n",
       "  '1232': 34,\n",
       "  '1728': 33,\n",
       "  '800': 32,\n",
       "  '560': 32,\n",
       "  '352': 31,\n",
       "  '624': 30,\n",
       "  '184': 30,\n",
       "  '608': 29,\n",
       "  '6144': 29,\n",
       "  '200': 28,\n",
       "  '36': 28,\n",
       "  '1280': 27,\n",
       "  '6': 27,\n",
       "  '216': 26,\n",
       "  '1248': 25,\n",
       "  '176': 25,\n",
       "  '736': 24,\n",
       "  '1056': 24,\n",
       "  '278': 24,\n",
       "  '360': 24,\n",
       "  '312': 23,\n",
       "  '52': 23,\n",
       "  '704': 22,\n",
       "  '600': 22,\n",
       "  '408': 21,\n",
       "  '784': 21,\n",
       "  '1440': 20,\n",
       "  '84': 20,\n",
       "  '180': 20,\n",
       "  '232': 19,\n",
       "  '912': 18,\n",
       "  '1920': 18,\n",
       "  '4': 18,\n",
       "  '12': 18,\n",
       "  '116': 17,\n",
       "  '440': 17,\n",
       "  '264': 16,\n",
       "  '696': 16,\n",
       "  '1200': 15,\n",
       "  '2560': 14,\n",
       "  '544': 14,\n",
       "  '304': 14,\n",
       "  '348': 14,\n",
       "  '1584': 13,\n",
       "  '1472': 13,\n",
       "  '26': 13,\n",
       "  '30': 13,\n",
       "  '928': 12,\n",
       "  '992': 12,\n",
       "  '1632': 12,\n",
       "  '1320': 12,\n",
       "  '100': 12,\n",
       "  '92': 12,\n",
       "  '792': 12,\n",
       "  '58': 11,\n",
       "  '1104': 11,\n",
       "  '1088': 11,\n",
       "  '136': 11,\n",
       "  '308': 11,\n",
       "  '1296': 10,\n",
       "  '2144': 10,\n",
       "  '1040': 10,\n",
       "  '816': 9,\n",
       "  '1008': 9,\n",
       "  '1680': 9,\n",
       "  '1600': 9,\n",
       "  '1888': 9,\n",
       "  '54': 9,\n",
       "  '392': 9,\n",
       "  '1824': 8,\n",
       "  '1216': 8,\n",
       "  '1312': 8,\n",
       "  '1664': 8,\n",
       "  '400': 8,\n",
       "  '18': 8,\n",
       "  '156': 8,\n",
       "  '3': 8,\n",
       "  '1120': 7,\n",
       "  '1408': 7,\n",
       "  '2304': 7,\n",
       "  '818': 7,\n",
       "  '14': 7,\n",
       "  '1968': 6,\n",
       "  '2016': 6,\n",
       "  '2064': 6,\n",
       "  '1184': 6,\n",
       "  '1504': 6,\n",
       "  '2688': 6,\n",
       "  '2880': 6,\n",
       "  '2432': 6,\n",
       "  '142': 6,\n",
       "  '8192': 6,\n",
       "  '132': 6,\n",
       "  '38': 6,\n",
       "  '174': 6,\n",
       "  '2112': 5,\n",
       "  '1376': 5,\n",
       "  '1568': 5,\n",
       "  '19': 5,\n",
       "  '22': 5,\n",
       "  '171': 5,\n",
       "  '272': 5,\n",
       "  '110': 5,\n",
       "  '888': 5,\n",
       "  '1776': 4,\n",
       "  '1872': 4,\n",
       "  '1696': 4,\n",
       "  '1792': 4,\n",
       "  '3024': 4,\n",
       "  '1360': 4,\n",
       "  '2240': 4,\n",
       "  '25': 4,\n",
       "  '280': 4,\n",
       "  '872': 4,\n",
       "  '42': 4,\n",
       "  '300': 4,\n",
       "  '1002': 4,\n",
       "  '1356': 4,\n",
       "  '1488': 3,\n",
       "  '2160': 3,\n",
       "  '1760': 3,\n",
       "  '1856': 3,\n",
       "  '2816': 3,\n",
       "  '1984': 3,\n",
       "  '12288': 3,\n",
       "  '324': 3,\n",
       "  '162': 3,\n",
       "  '50': 3,\n",
       "  '61': 3,\n",
       "  '2208': 2,\n",
       "  '2256': 2,\n",
       "  '2352': 2,\n",
       "  '2400': 2,\n",
       "  '2448': 2,\n",
       "  '2496': 2,\n",
       "  '2544': 2,\n",
       "  '2592': 2,\n",
       "  '2640': 2,\n",
       "  '2736': 2,\n",
       "  '2784': 2,\n",
       "  '2832': 2,\n",
       "  '2928': 2,\n",
       "  '2976': 2,\n",
       "  '3120': 2,\n",
       "  '3168': 2,\n",
       "  '3216': 2,\n",
       "  '3264': 2,\n",
       "  '3312': 2,\n",
       "  '3360': 2,\n",
       "  '3408': 2,\n",
       "  '3456': 2,\n",
       "  '1552': 2,\n",
       "  '376': 2,\n",
       "  '35': 2,\n",
       "  '37': 2,\n",
       "  '87': 2,\n",
       "  '126': 2,\n",
       "  '2022': 2,\n",
       "  '27': 2,\n",
       "  '159': 2,\n",
       "  '149': 2,\n",
       "  '190': 2,\n",
       "  '2042': 2,\n",
       "  '520': 2,\n",
       "  '260': 2,\n",
       "  '220': 2,\n",
       "  '44': 2,\n",
       "  '1512': 2,\n",
       "  '3712': 2,\n",
       "  '228': 2,\n",
       "  '366': 2,\n",
       "  '504': 2,\n",
       "  '95': 2,\n",
       "  '570': 2,\n",
       "  '47': 2,\n",
       "  '106': 2,\n",
       "  '636': 2,\n",
       "  '117': 2,\n",
       "  '702': 2,\n",
       "  '140': 2,\n",
       "  '840': 2,\n",
       "  '151': 2,\n",
       "  '906': 2,\n",
       "  '75': 2,\n",
       "  '972': 2,\n",
       "  '1044': 2,\n",
       "  '210': 2,\n",
       "  '390': 2,\n",
       "  '79': 2,\n",
       "  '474': 2,\n",
       "  '564': 2,\n",
       "  '654': 2,\n",
       "  '738': 2,\n",
       "  '828': 2,\n",
       "  '167': 2,\n",
       "  '83': 2,\n",
       "  '1092': 2,\n",
       "  '1176': 2,\n",
       "  '1266': 2,\n",
       "  '105': 2,\n",
       "  '226': 2,\n",
       "  '113': 2,\n",
       "  '450': 2,\n",
       "  '552': 2,\n",
       "  '648': 2,\n",
       "  '750': 2,\n",
       "  '852': 2,\n",
       "  '954': 2,\n",
       "  '1158': 2,\n",
       "  '1260': 2,\n",
       "  '1458': 2,\n",
       "  '1560': 2,\n",
       "  '462': 2,\n",
       "  '732': 2,\n",
       "  '1140': 2,\n",
       "  '1272': 2,\n",
       "  '1404': 2,\n",
       "  '1542': 2,\n",
       "  '1812': 2,\n",
       "  '1944': 2,\n",
       "  '2082': 2,\n",
       "  '464': 1,\n",
       "  '3504': 1,\n",
       "  '3552': 1,\n",
       "  '3600': 1,\n",
       "  '3648': 1,\n",
       "  '3696': 1,\n",
       "  '3744': 1,\n",
       "  '3792': 1,\n",
       "  '3840': 1,\n",
       "  '3888': 1,\n",
       "  '3936': 1,\n",
       "  '3984': 1,\n",
       "  '3328': 1,\n",
       "  '1096': 1,\n",
       "  '1144': 1,\n",
       "  '1168': 1,\n",
       "  '1192': 1,\n",
       "  '1240': 1,\n",
       "  '1264': 1,\n",
       "  '1288': 1,\n",
       "  '1336': 1,\n",
       "  '1384': 1,\n",
       "  '1432': 1,\n",
       "  '1456': 1,\n",
       "  '1480': 1,\n",
       "  '1528': 1,\n",
       "  '316': 1,\n",
       "  '356': 1,\n",
       "  '2176': 1,\n",
       "  '2368': 1,\n",
       "  '1952': 1,\n",
       "  '85': 1,\n",
       "  '233': 1,\n",
       "  '235': 1,\n",
       "  '225': 1,\n",
       "  '239': 1,\n",
       "  '237': 1,\n",
       "  '500': 1,\n",
       "  '490': 1,\n",
       "  '49': 1,\n",
       "  '78': 1,\n",
       "  '191': 1,\n",
       "  '175': 1,\n",
       "  '154': 1,\n",
       "  '97': 1,\n",
       "  '181': 1,\n",
       "  '119': 1,\n",
       "  '201': 1,\n",
       "  '141': 1,\n",
       "  '217': 1,\n",
       "  '155': 1,\n",
       "  '214': 1,\n",
       "  '289': 1,\n",
       "  '502': 1,\n",
       "  '13': 1,\n",
       "  '1624': 1,\n",
       "  '2520': 1,\n",
       "  '222': 1,\n",
       "  '53': 1,\n",
       "  '70': 1,\n",
       "  '81': 1,\n",
       "  '185': 1,\n",
       "  '21': 1,\n",
       "  '65': 1,\n",
       "  '39': 1,\n",
       "  '94': 1,\n",
       "  '109': 1,\n",
       "  '123': 1,\n",
       "  '138': 1,\n",
       "  '69': 1,\n",
       "  '76': 1,\n",
       "  '182': 1,\n",
       "  '91': 1,\n",
       "  '196': 1,\n",
       "  '98': 1,\n",
       "  '211': 1,\n",
       "  '41': 1,\n",
       "  '246': 1,\n",
       "  '29': 1,\n",
       "  '46': 1,\n",
       "  '108': 1,\n",
       "  '125': 1,\n",
       "  '62': 1,\n",
       "  '71': 1,\n",
       "  '193': 1,\n",
       "  '243': 1,\n",
       "  '121': 1,\n",
       "  '130': 1,\n",
       "  '277': 1,\n",
       "  '77': 1,\n",
       "  '122': 1,\n",
       "  '212': 1,\n",
       "  '234': 1,\n",
       "  '257': 1,\n",
       "  '302': 1,\n",
       "  '347': 1,\n",
       "  '173': 1,\n",
       "  '370': 1,\n",
       "  '328': 1,\n",
       "  '344': 1},\n",
       " '3': {'256': 1629,\n",
       "  '128': 1357,\n",
       "  '512': 966,\n",
       "  '64': 736,\n",
       "  '192': 476,\n",
       "  '1024': 373,\n",
       "  '32': 311,\n",
       "  '768': 209,\n",
       "  '3': 195,\n",
       "  '104': 168,\n",
       "  '384': 164,\n",
       "  '48': 161,\n",
       "  '96': 159,\n",
       "  '160': 156,\n",
       "  '18': 143,\n",
       "  '72': 116,\n",
       "  '36': 114,\n",
       "  '120': 111,\n",
       "  '80': 110,\n",
       "  '40': 108,\n",
       "  '144': 104,\n",
       "  '2048': 103,\n",
       "  '240': 100,\n",
       "  '30': 96,\n",
       "  '44': 95,\n",
       "  '320': 93,\n",
       "  '640': 93,\n",
       "  '16': 87,\n",
       "  '224': 83,\n",
       "  '60': 83,\n",
       "  '88': 83,\n",
       "  '52': 78,\n",
       "  '480': 66,\n",
       "  '176': 60,\n",
       "  '208': 60,\n",
       "  '112': 59,\n",
       "  '56': 59,\n",
       "  '288': 58,\n",
       "  '26': 56,\n",
       "  '896': 45,\n",
       "  '576': 40,\n",
       "  '24': 36,\n",
       "  '28': 36,\n",
       "  '336': 33,\n",
       "  '672': 33,\n",
       "  '4096': 32,\n",
       "  '304': 28,\n",
       "  '432': 25,\n",
       "  '1152': 24,\n",
       "  '720': 24,\n",
       "  '352': 24,\n",
       "  '6144': 23,\n",
       "  '14': 21,\n",
       "  '216': 20,\n",
       "  '800': 20,\n",
       "  '1344': 19,\n",
       "  '448': 18,\n",
       "  '168': 16,\n",
       "  '528': 16,\n",
       "  '960': 14,\n",
       "  '368': 14,\n",
       "  '560': 14,\n",
       "  '152': 13,\n",
       "  '1392': 13,\n",
       "  '624': 12,\n",
       "  '300': 12,\n",
       "  '184': 12,\n",
       "  '200': 11,\n",
       "  '1232': 11,\n",
       "  '1536': 10,\n",
       "  '90': 10,\n",
       "  '408': 10,\n",
       "  '784': 10,\n",
       "  '116': 9,\n",
       "  '400': 8,\n",
       "  '20': 8,\n",
       "  '12': 7,\n",
       "  '232': 7,\n",
       "  '1920': 7,\n",
       "  '156': 7,\n",
       "  '1056': 7,\n",
       "  '1280': 6,\n",
       "  '312': 6,\n",
       "  '396': 6,\n",
       "  '440': 6,\n",
       "  '38': 5,\n",
       "  '864': 5,\n",
       "  '816': 5,\n",
       "  '912': 5,\n",
       "  '696': 5,\n",
       "  '58': 4,\n",
       "  '253': 4,\n",
       "  '1680': 4,\n",
       "  '8': 4,\n",
       "  '10': 4,\n",
       "  '46': 4,\n",
       "  '3072': 4,\n",
       "  '1008': 4,\n",
       "  '392': 4,\n",
       "  '608': 4,\n",
       "  '54': 3,\n",
       "  '1600': 3,\n",
       "  '255': 3,\n",
       "  '244': 3,\n",
       "  '8192': 3,\n",
       "  '12288': 3,\n",
       "  '1296': 3,\n",
       "  '1104': 2,\n",
       "  '360': 2,\n",
       "  '4': 2,\n",
       "  '6': 2,\n",
       "  '92': 2,\n",
       "  '436': 2,\n",
       "  '180': 2,\n",
       "  '1360': 2,\n",
       "  '2240': 2,\n",
       "  '888': 2,\n",
       "  '1088': 2,\n",
       "  '1002': 2,\n",
       "  '1356': 2,\n",
       "  '1248': 2,\n",
       "  '416': 2,\n",
       "  '756': 2,\n",
       "  '47': 1,\n",
       "  '85': 1,\n",
       "  '107': 1,\n",
       "  '125': 1,\n",
       "  '198': 1,\n",
       "  '492': 1,\n",
       "  '45': 1,\n",
       "  '53': 1,\n",
       "  '81': 1,\n",
       "  '93': 1,\n",
       "  '102': 1,\n",
       "  '122': 1,\n",
       "  '101': 1,\n",
       "  '239': 1,\n",
       "  '234': 1,\n",
       "  '250': 1,\n",
       "  '251': 1,\n",
       "  '230': 1,\n",
       "  '238': 1,\n",
       "  '245': 1,\n",
       "  '254': 1,\n",
       "  '499': 1,\n",
       "  '520': 1,\n",
       "  '13': 1,\n",
       "  '50': 1,\n",
       "  '100': 1,\n",
       "  '78': 1,\n",
       "  '130': 1,\n",
       "  '1632': 1,\n",
       "  '1624': 1,\n",
       "  '2520': 1,\n",
       "  '1512': 1,\n",
       "  '2016': 1,\n",
       "  '3024': 1,\n",
       "  '3712': 1,\n",
       "  '162': 1,\n",
       "  '228': 1,\n",
       "  '366': 1,\n",
       "  '504': 1,\n",
       "  '570': 1,\n",
       "  '636': 1,\n",
       "  '702': 1,\n",
       "  '840': 1,\n",
       "  '906': 1,\n",
       "  '972': 1,\n",
       "  '1044': 1,\n",
       "  '42': 1,\n",
       "  '126': 1,\n",
       "  '210': 1,\n",
       "  '390': 1,\n",
       "  '474': 1,\n",
       "  '564': 1,\n",
       "  '654': 1,\n",
       "  '738': 1,\n",
       "  '828': 1,\n",
       "  '1092': 1,\n",
       "  '1176': 1,\n",
       "  '1266': 1,\n",
       "  '246': 1,\n",
       "  '348': 1,\n",
       "  '450': 1,\n",
       "  '552': 1,\n",
       "  '648': 1,\n",
       "  '750': 1,\n",
       "  '852': 1,\n",
       "  '954': 1,\n",
       "  '1158': 1,\n",
       "  '1260': 1,\n",
       "  '1458': 1,\n",
       "  '1560': 1,\n",
       "  '324': 1,\n",
       "  '462': 1,\n",
       "  '600': 1,\n",
       "  '732': 1,\n",
       "  '1140': 1,\n",
       "  '1272': 1,\n",
       "  '1404': 1,\n",
       "  '1542': 1,\n",
       "  '1812': 1,\n",
       "  '1944': 1,\n",
       "  '2082': 1,\n",
       "  '1200': 1,\n",
       "  '1440': 1,\n",
       "  '1584': 1,\n",
       "  '1824': 1,\n",
       "  '1968': 1,\n",
       "  '2064': 1},\n",
       " '11': {'144': 2, '3': 1},\n",
       " '5': {'120': 61,\n",
       "  '1152': 57,\n",
       "  '672': 52,\n",
       "  '240': 37,\n",
       "  '480': 34,\n",
       "  '72': 29,\n",
       "  '144': 27,\n",
       "  '192': 23,\n",
       "  '96': 21,\n",
       "  '48': 20,\n",
       "  '768': 15,\n",
       "  '288': 15,\n",
       "  '960': 15,\n",
       "  '384': 14,\n",
       "  '168': 14,\n",
       "  '90': 10,\n",
       "  '300': 10,\n",
       "  '720': 10,\n",
       "  '576': 10,\n",
       "  '80': 9,\n",
       "  '160': 9,\n",
       "  '336': 6,\n",
       "  '1320': 6,\n",
       "  '156': 6,\n",
       "  '396': 6,\n",
       "  '432': 6,\n",
       "  '57': 5,\n",
       "  '360': 5,\n",
       "  '736': 5,\n",
       "  '1040': 5,\n",
       "  '528': 5,\n",
       "  '64': 4,\n",
       "  '24': 4,\n",
       "  '1104': 4,\n",
       "  '112': 4,\n",
       "  '216': 4,\n",
       "  '81': 3,\n",
       "  '1536': 3,\n",
       "  '864': 3,\n",
       "  '1632': 3,\n",
       "  '60': 2,\n",
       "  '180': 2,\n",
       "  '1344': 2,\n",
       "  '200': 1,\n",
       "  '1248': 1,\n",
       "  '280': 1,\n",
       "  '1584': 1,\n",
       "  '1728': 1,\n",
       "  '36': 1,\n",
       "  '12': 1,\n",
       "  '56': 1,\n",
       "  '92': 1,\n",
       "  '32': 1,\n",
       "  '872': 1,\n",
       "  '448': 1,\n",
       "  '128': 1,\n",
       "  '816': 1},\n",
       " '16': {'3': 46},\n",
       " '4': {'3': 17, '128': 17, '192': 1, '256': 1, '32': 1, '16': 1},\n",
       " '2': {'320': 56,\n",
       "  '384': 11,\n",
       "  '512': 10,\n",
       "  '128': 8,\n",
       "  '256': 8,\n",
       "  '64': 7,\n",
       "  '152': 4,\n",
       "  '192': 3,\n",
       "  '216': 2,\n",
       "  '96': 2},\n",
       " '32': {'3': 9},\n",
       " '9': {'120': 13,\n",
       "  '90': 10,\n",
       "  '300': 10,\n",
       "  '156': 6,\n",
       "  '396': 6,\n",
       "  '144': 6,\n",
       "  '288': 5,\n",
       "  '192': 4,\n",
       "  '480': 4,\n",
       "  '216': 4,\n",
       "  '720': 4,\n",
       "  '60': 2,\n",
       "  '240': 2,\n",
       "  '48': 2,\n",
       "  '180': 2,\n",
       "  '72': 1,\n",
       "  '432': 1},\n",
       " '14': {'3': 3},\n",
       " '8': {'64': 12, '3': 3, '96': 1, '128': 1}}"
      ]
     },
     "metadata": {},
     "execution_count": 9
    }
   ],
   "metadata": {}
  },
  {
   "cell_type": "code",
   "execution_count": 15,
   "source": [
    "ModelStatsAggregator.get_aggregate_filter_stats_per_kernel(stats_dict)"
   ],
   "outputs": [
    {
     "output_type": "execute_result",
     "data": {
      "text/plain": [
       "{'7': {'64': 110,\n",
       "  '120': 16,\n",
       "  '16': 13,\n",
       "  '90': 10,\n",
       "  '300': 10,\n",
       "  '48': 9,\n",
       "  '192': 9,\n",
       "  '4096': 8,\n",
       "  '156': 6,\n",
       "  '396': 6,\n",
       "  '144': 6,\n",
       "  '96': 5,\n",
       "  '57': 5,\n",
       "  '128': 5,\n",
       "  '80': 5,\n",
       "  '288': 5,\n",
       "  '24': 4,\n",
       "  '480': 4,\n",
       "  '216': 4,\n",
       "  '720': 4,\n",
       "  '81': 3,\n",
       "  '112': 3,\n",
       "  '60': 2,\n",
       "  '240': 2,\n",
       "  '180': 2,\n",
       "  '160': 2,\n",
       "  '72': 1,\n",
       "  '432': 1,\n",
       "  '256': 1,\n",
       "  '40': 1,\n",
       "  '32': 1},\n",
       " '1': {'1024': 2753,\n",
       "  '256': 2199,\n",
       "  '512': 1954,\n",
       "  '128': 1275,\n",
       "  '64': 950,\n",
       "  '2048': 724,\n",
       "  '192': 482,\n",
       "  '32': 353,\n",
       "  '768': 280,\n",
       "  '240': 237,\n",
       "  '96': 235,\n",
       "  '384': 231,\n",
       "  '16': 223,\n",
       "  '40': 219,\n",
       "  '48': 206,\n",
       "  '80': 200,\n",
       "  '144': 187,\n",
       "  '1536': 185,\n",
       "  '24': 184,\n",
       "  '480': 181,\n",
       "  '120': 170,\n",
       "  '672': 159,\n",
       "  '160': 154,\n",
       "  '576': 154,\n",
       "  '1152': 152,\n",
       "  '72': 137,\n",
       "  '112': 133,\n",
       "  '288': 128,\n",
       "  '640': 124,\n",
       "  '896': 121,\n",
       "  '320': 116,\n",
       "  '20': 99,\n",
       "  '336': 95,\n",
       "  '4096': 85,\n",
       "  '168': 77,\n",
       "  '8': 74,\n",
       "  '448': 72,\n",
       "  '1280': 68,\n",
       "  '960': 64,\n",
       "  '720': 62,\n",
       "  '432': 62,\n",
       "  '224': 61,\n",
       "  '1056': 59,\n",
       "  '28': 59,\n",
       "  '60': 57,\n",
       "  '56': 44,\n",
       "  '3072': 42,\n",
       "  '208': 42,\n",
       "  '1344': 40,\n",
       "  '1392': 39,\n",
       "  '104': 38,\n",
       "  '88': 38,\n",
       "  '528': 38,\n",
       "  '368': 38,\n",
       "  '18': 36,\n",
       "  '416': 35,\n",
       "  '10': 34,\n",
       "  '1232': 34,\n",
       "  '560': 32,\n",
       "  '100': 32,\n",
       "  '6144': 31,\n",
       "  '30': 30,\n",
       "  '1000': 29,\n",
       "  '1088': 29,\n",
       "  '6': 29,\n",
       "  '624': 29,\n",
       "  '152': 29,\n",
       "  '304': 29,\n",
       "  '184': 28,\n",
       "  '36': 27,\n",
       "  '52': 26,\n",
       "  '216': 25,\n",
       "  '278': 24,\n",
       "  '360': 24,\n",
       "  '312': 23,\n",
       "  '1200': 22,\n",
       "  '1920': 21,\n",
       "  '408': 21,\n",
       "  '784': 21,\n",
       "  '1048': 20,\n",
       "  '800': 20,\n",
       "  '4': 20,\n",
       "  '84': 20,\n",
       "  '180': 20,\n",
       "  '12': 19,\n",
       "  '440': 19,\n",
       "  '544': 18,\n",
       "  '44': 18,\n",
       "  '132': 18,\n",
       "  '116': 17,\n",
       "  '232': 17,\n",
       "  '200': 17,\n",
       "  '1584': 16,\n",
       "  '1': 16,\n",
       "  '864': 16,\n",
       "  '696': 16,\n",
       "  '255': 15,\n",
       "  '272': 15,\n",
       "  '26': 15,\n",
       "  '348': 14,\n",
       "  '58': 13,\n",
       "  '608': 13,\n",
       "  '2176': 12,\n",
       "  '1248': 12,\n",
       "  '1320': 12,\n",
       "  '832': 12,\n",
       "  '176': 11,\n",
       "  '136': 11,\n",
       "  '912': 11,\n",
       "  '308': 11,\n",
       "  '2304': 10,\n",
       "  '736': 10,\n",
       "  '1040': 10,\n",
       "  '264': 10,\n",
       "  '2560': 10,\n",
       "  '92': 10,\n",
       "  '1008': 9,\n",
       "  '392': 9,\n",
       "  '1296': 9,\n",
       "  '400': 8,\n",
       "  '1104': 8,\n",
       "  '2880': 8,\n",
       "  '54': 8,\n",
       "  '818': 7,\n",
       "  '8192': 7,\n",
       "  '14': 7,\n",
       "  '816': 7,\n",
       "  '2240': 7,\n",
       "  '888': 7,\n",
       "  '1728': 6,\n",
       "  '142': 6,\n",
       "  '1680': 6,\n",
       "  '156': 6,\n",
       "  '38': 6,\n",
       "  '174': 6,\n",
       "  '21843': 6,\n",
       "  '19': 5,\n",
       "  '171': 5,\n",
       "  '46': 5,\n",
       "  '1360': 5,\n",
       "  '110': 5,\n",
       "  '1664': 5,\n",
       "  '276': 4,\n",
       "  '253': 4,\n",
       "  '2022': 4,\n",
       "  '2042': 4,\n",
       "  '1984': 4,\n",
       "  '280': 4,\n",
       "  '50': 4,\n",
       "  '1632': 4,\n",
       "  '22': 4,\n",
       "  '1512': 4,\n",
       "  '2016': 4,\n",
       "  '3024': 4,\n",
       "  '3712': 4,\n",
       "  '300': 4,\n",
       "  '1002': 4,\n",
       "  '1356': 4,\n",
       "  '1600': 3,\n",
       "  '47': 3,\n",
       "  '244': 3,\n",
       "  '1440': 3,\n",
       "  '12288': 3,\n",
       "  '1624': 3,\n",
       "  '2520': 3,\n",
       "  '324': 3,\n",
       "  '42': 3,\n",
       "  '162': 3,\n",
       "  '61': 3,\n",
       "  '125': 2,\n",
       "  '53': 2,\n",
       "  '81': 2,\n",
       "  '122': 2,\n",
       "  '234': 2,\n",
       "  '352': 2,\n",
       "  '520': 2,\n",
       "  '130': 2,\n",
       "  '436': 2,\n",
       "  '220': 2,\n",
       "  '872': 2,\n",
       "  '228': 2,\n",
       "  '25': 2,\n",
       "  '366': 2,\n",
       "  '504': 2,\n",
       "  '95': 2,\n",
       "  '570': 2,\n",
       "  '106': 2,\n",
       "  '636': 2,\n",
       "  '117': 2,\n",
       "  '702': 2,\n",
       "  '140': 2,\n",
       "  '840': 2,\n",
       "  '151': 2,\n",
       "  '906': 2,\n",
       "  '75': 2,\n",
       "  '972': 2,\n",
       "  '1044': 2,\n",
       "  '210': 2,\n",
       "  '390': 2,\n",
       "  '79': 2,\n",
       "  '474': 2,\n",
       "  '564': 2,\n",
       "  '654': 2,\n",
       "  '738': 2,\n",
       "  '828': 2,\n",
       "  '167': 2,\n",
       "  '83': 2,\n",
       "  '1092': 2,\n",
       "  '1176': 2,\n",
       "  '1266': 2,\n",
       "  '105': 2,\n",
       "  '226': 2,\n",
       "  '113': 2,\n",
       "  '450': 2,\n",
       "  '552': 2,\n",
       "  '648': 2,\n",
       "  '750': 2,\n",
       "  '852': 2,\n",
       "  '954': 2,\n",
       "  '1158': 2,\n",
       "  '1260': 2,\n",
       "  '1458': 2,\n",
       "  '1560': 2,\n",
       "  '462': 2,\n",
       "  '600': 2,\n",
       "  '732': 2,\n",
       "  '1140': 2,\n",
       "  '1272': 2,\n",
       "  '1404': 2,\n",
       "  '1542': 2,\n",
       "  '1812': 2,\n",
       "  '1944': 2,\n",
       "  '2082': 2,\n",
       "  '1824': 2,\n",
       "  '1968': 2,\n",
       "  '2064': 2,\n",
       "  '1072': 1,\n",
       "  '296': 1,\n",
       "  '85': 1,\n",
       "  '107': 1,\n",
       "  '198': 1,\n",
       "  '492': 1,\n",
       "  '45': 1,\n",
       "  '93': 1,\n",
       "  '102': 1,\n",
       "  '101': 1,\n",
       "  '239': 1,\n",
       "  '250': 1,\n",
       "  '251': 1,\n",
       "  '230': 1,\n",
       "  '238': 1,\n",
       "  '245': 1,\n",
       "  '254': 1,\n",
       "  '499': 1,\n",
       "  '78': 1,\n",
       "  '1792': 1,\n",
       "  '222': 1,\n",
       "  '1408': 1,\n",
       "  '27': 1,\n",
       "  '70': 1,\n",
       "  '87': 1,\n",
       "  '185': 1,\n",
       "  '21': 1,\n",
       "  '126': 1,\n",
       "  '35': 1,\n",
       "  '65': 1,\n",
       "  '39': 1,\n",
       "  '94': 1,\n",
       "  '109': 1,\n",
       "  '123': 1,\n",
       "  '138': 1,\n",
       "  '69': 1,\n",
       "  '76': 1,\n",
       "  '182': 1,\n",
       "  '91': 1,\n",
       "  '196': 1,\n",
       "  '98': 1,\n",
       "  '211': 1,\n",
       "  '41': 1,\n",
       "  '246': 1,\n",
       "  '29': 1,\n",
       "  '37': 1,\n",
       "  '108': 1,\n",
       "  '62': 1,\n",
       "  '71': 1,\n",
       "  '159': 1,\n",
       "  '193': 1,\n",
       "  '243': 1,\n",
       "  '121': 1,\n",
       "  '260': 1,\n",
       "  '277': 1,\n",
       "  '77': 1,\n",
       "  '190': 1,\n",
       "  '212': 1,\n",
       "  '257': 1,\n",
       "  '302': 1,\n",
       "  '347': 1,\n",
       "  '173': 1,\n",
       "  '370': 1,\n",
       "  '328': 1,\n",
       "  '344': 1},\n",
       " '3': {'256': 1627,\n",
       "  '128': 935,\n",
       "  '512': 926,\n",
       "  '32': 751,\n",
       "  '64': 746,\n",
       "  '1024': 480,\n",
       "  '48': 345,\n",
       "  '192': 313,\n",
       "  '384': 186,\n",
       "  '768': 185,\n",
       "  '160': 169,\n",
       "  '104': 168,\n",
       "  '96': 157,\n",
       "  '72': 153,\n",
       "  '120': 121,\n",
       "  '2048': 117,\n",
       "  '144': 117,\n",
       "  '18': 115,\n",
       "  '36': 111,\n",
       "  '240': 110,\n",
       "  '80': 107,\n",
       "  '320': 104,\n",
       "  '224': 102,\n",
       "  '640': 94,\n",
       "  '40': 93,\n",
       "  '16': 85,\n",
       "  '88': 81,\n",
       "  '60': 80,\n",
       "  '30': 79,\n",
       "  '44': 78,\n",
       "  '52': 77,\n",
       "  '176': 72,\n",
       "  '480': 64,\n",
       "  '208': 62,\n",
       "  '56': 60,\n",
       "  '112': 57,\n",
       "  '26': 56,\n",
       "  '896': 45,\n",
       "  '288': 42,\n",
       "  '576': 42,\n",
       "  '24': 40,\n",
       "  '28': 36,\n",
       "  '352': 34,\n",
       "  '152': 33,\n",
       "  '336': 33,\n",
       "  '672': 33,\n",
       "  '4096': 32,\n",
       "  '432': 25,\n",
       "  '1152': 24,\n",
       "  '720': 24,\n",
       "  '6144': 23,\n",
       "  '216': 21,\n",
       "  '14': 21,\n",
       "  '800': 20,\n",
       "  '1344': 19,\n",
       "  '448': 18,\n",
       "  '1280': 17,\n",
       "  '168': 16,\n",
       "  '528': 16,\n",
       "  '960': 14,\n",
       "  '368': 14,\n",
       "  '560': 14,\n",
       "  '1392': 13,\n",
       "  '624': 12,\n",
       "  '300': 12,\n",
       "  '184': 12,\n",
       "  '200': 11,\n",
       "  '1232': 11,\n",
       "  '20': 10,\n",
       "  '1536': 10,\n",
       "  '90': 10,\n",
       "  '408': 10,\n",
       "  '784': 10,\n",
       "  '304': 10,\n",
       "  '116': 9,\n",
       "  '232': 9,\n",
       "  '156': 9,\n",
       "  '400': 8,\n",
       "  '1920': 7,\n",
       "  '1056': 7,\n",
       "  '2560': 7,\n",
       "  '10': 6,\n",
       "  '312': 6,\n",
       "  '8': 6,\n",
       "  '396': 6,\n",
       "  '440': 6,\n",
       "  '38': 5,\n",
       "  '864': 5,\n",
       "  '816': 5,\n",
       "  '912': 5,\n",
       "  '696': 5,\n",
       "  '324': 4,\n",
       "  '58': 4,\n",
       "  '54': 4,\n",
       "  '1680': 4,\n",
       "  '46': 4,\n",
       "  '3072': 4,\n",
       "  '1008': 4,\n",
       "  '392': 4,\n",
       "  '608': 4,\n",
       "  '486': 3,\n",
       "  '1600': 3,\n",
       "  '12': 3,\n",
       "  '8192': 3,\n",
       "  '12288': 3,\n",
       "  '1296': 3,\n",
       "  '126': 2,\n",
       "  '25': 2,\n",
       "  '78': 2,\n",
       "  '149': 2,\n",
       "  '1104': 2,\n",
       "  '360': 2,\n",
       "  '4': 2,\n",
       "  '6': 2,\n",
       "  '92': 2,\n",
       "  '436': 2,\n",
       "  '180': 2,\n",
       "  '1360': 2,\n",
       "  '2240': 2,\n",
       "  '888': 2,\n",
       "  '1088': 2,\n",
       "  '42': 2,\n",
       "  '1002': 2,\n",
       "  '1356': 2,\n",
       "  '1248': 2,\n",
       "  '756': 2,\n",
       "  '22': 1,\n",
       "  '35': 1,\n",
       "  '37': 1,\n",
       "  '85': 1,\n",
       "  '87': 1,\n",
       "  '233': 1,\n",
       "  '235': 1,\n",
       "  '225': 1,\n",
       "  '239': 1,\n",
       "  '237': 1,\n",
       "  '500': 1,\n",
       "  '490': 1,\n",
       "  '27': 1,\n",
       "  '49': 1,\n",
       "  '191': 1,\n",
       "  '175': 1,\n",
       "  '154': 1,\n",
       "  '159': 1,\n",
       "  '97': 1,\n",
       "  '181': 1,\n",
       "  '119': 1,\n",
       "  '201': 1,\n",
       "  '141': 1,\n",
       "  '190': 1,\n",
       "  '217': 1,\n",
       "  '155': 1,\n",
       "  '214': 1,\n",
       "  '289': 1,\n",
       "  '502': 1,\n",
       "  '520': 1,\n",
       "  '13': 1,\n",
       "  '50': 1,\n",
       "  '100': 1,\n",
       "  '130': 1,\n",
       "  '1632': 1,\n",
       "  '1624': 1,\n",
       "  '2520': 1,\n",
       "  '1512': 1,\n",
       "  '2016': 1,\n",
       "  '3024': 1,\n",
       "  '3712': 1,\n",
       "  '1408': 1,\n",
       "  '162': 1,\n",
       "  '228': 1,\n",
       "  '366': 1,\n",
       "  '504': 1,\n",
       "  '570': 1,\n",
       "  '636': 1,\n",
       "  '702': 1,\n",
       "  '840': 1,\n",
       "  '906': 1,\n",
       "  '972': 1,\n",
       "  '1044': 1,\n",
       "  '210': 1,\n",
       "  '390': 1,\n",
       "  '474': 1,\n",
       "  '564': 1,\n",
       "  '654': 1,\n",
       "  '738': 1,\n",
       "  '828': 1,\n",
       "  '1092': 1,\n",
       "  '1176': 1,\n",
       "  '1266': 1,\n",
       "  '246': 1,\n",
       "  '348': 1,\n",
       "  '450': 1,\n",
       "  '552': 1,\n",
       "  '648': 1,\n",
       "  '750': 1,\n",
       "  '852': 1,\n",
       "  '954': 1,\n",
       "  '1158': 1,\n",
       "  '1260': 1,\n",
       "  '1458': 1,\n",
       "  '1560': 1,\n",
       "  '462': 1,\n",
       "  '600': 1,\n",
       "  '732': 1,\n",
       "  '1140': 1,\n",
       "  '1272': 1,\n",
       "  '1404': 1,\n",
       "  '1542': 1,\n",
       "  '1812': 1,\n",
       "  '1944': 1,\n",
       "  '2082': 1,\n",
       "  '1200': 1,\n",
       "  '1440': 1,\n",
       "  '1584': 1,\n",
       "  '1824': 1,\n",
       "  '1968': 1,\n",
       "  '2064': 1},\n",
       " '11': {'144': 2, '64': 1},\n",
       " '5': {'120': 61,\n",
       "  '1152': 57,\n",
       "  '672': 52,\n",
       "  '240': 37,\n",
       "  '480': 34,\n",
       "  '72': 29,\n",
       "  '144': 27,\n",
       "  '192': 24,\n",
       "  '96': 21,\n",
       "  '48': 20,\n",
       "  '768': 15,\n",
       "  '288': 15,\n",
       "  '960': 15,\n",
       "  '384': 14,\n",
       "  '168': 14,\n",
       "  '90': 10,\n",
       "  '300': 10,\n",
       "  '720': 10,\n",
       "  '576': 10,\n",
       "  '80': 9,\n",
       "  '160': 9,\n",
       "  '336': 6,\n",
       "  '1320': 6,\n",
       "  '156': 6,\n",
       "  '396': 6,\n",
       "  '432': 6,\n",
       "  '57': 5,\n",
       "  '360': 5,\n",
       "  '736': 5,\n",
       "  '1040': 5,\n",
       "  '528': 5,\n",
       "  '24': 4,\n",
       "  '1104': 4,\n",
       "  '112': 4,\n",
       "  '216': 4,\n",
       "  '81': 3,\n",
       "  '1536': 3,\n",
       "  '64': 3,\n",
       "  '864': 3,\n",
       "  '1632': 3,\n",
       "  '60': 2,\n",
       "  '180': 2,\n",
       "  '1344': 2,\n",
       "  '200': 1,\n",
       "  '1248': 1,\n",
       "  '280': 1,\n",
       "  '1584': 1,\n",
       "  '1728': 1,\n",
       "  '36': 1,\n",
       "  '12': 1,\n",
       "  '56': 1,\n",
       "  '92': 1,\n",
       "  '32': 1,\n",
       "  '872': 1,\n",
       "  '448': 1,\n",
       "  '128': 1,\n",
       "  '816': 1},\n",
       " '16': {'384': 13,\n",
       "  '768': 11,\n",
       "  '192': 7,\n",
       "  '1024': 4,\n",
       "  '512': 2,\n",
       "  '144': 2,\n",
       "  '64': 2,\n",
       "  '96': 2,\n",
       "  '432': 1,\n",
       "  '256': 1,\n",
       "  '128': 1},\n",
       " '4': {'128': 20, '64': 7, '192': 4, '96': 4, '152': 2, '256': 1},\n",
       " '2': {'320': 57,\n",
       "  '512': 16,\n",
       "  '384': 12,\n",
       "  '256': 8,\n",
       "  '128': 7,\n",
       "  '216': 3,\n",
       "  '152': 3,\n",
       "  '192': 2,\n",
       "  '768': 2,\n",
       "  '1024': 1},\n",
       " '32': {'768': 3, '1024': 3, '384': 2, '512': 1},\n",
       " '9': {'120': 13,\n",
       "  '90': 10,\n",
       "  '300': 10,\n",
       "  '156': 6,\n",
       "  '396': 6,\n",
       "  '144': 6,\n",
       "  '288': 5,\n",
       "  '192': 4,\n",
       "  '480': 4,\n",
       "  '216': 4,\n",
       "  '720': 4,\n",
       "  '60': 2,\n",
       "  '240': 2,\n",
       "  '48': 2,\n",
       "  '180': 2,\n",
       "  '72': 1,\n",
       "  '432': 1},\n",
       " '14': {'256': 2, '1280': 1},\n",
       " '8': {'64': 10, '768': 3, '192': 2, '96': 1, '128': 1}}"
      ]
     },
     "metadata": {},
     "execution_count": 15
    }
   ],
   "metadata": {}
  },
  {
   "cell_type": "code",
   "execution_count": 16,
   "source": [
    "ModelStatsAggregator.get_aggregate_filter_stats(stats_dict)"
   ],
   "outputs": [
    {
     "output_type": "execute_result",
     "data": {
      "text/plain": [
       "{'256': 3839,\n",
       " '1024': 3241,\n",
       " '512': 2899,\n",
       " '128': 2245,\n",
       " '64': 1829,\n",
       " '32': 1106,\n",
       " '192': 847,\n",
       " '2048': 841,\n",
       " '48': 582,\n",
       " '768': 499,\n",
       " '384': 458,\n",
       " '96': 425,\n",
       " '240': 388,\n",
       " '120': 381,\n",
       " '144': 347,\n",
       " '160': 334,\n",
       " '16': 321,\n",
       " '80': 321,\n",
       " '72': 321,\n",
       " '40': 313,\n",
       " '480': 287,\n",
       " '320': 277,\n",
       " '672': 244,\n",
       " '1152': 233,\n",
       " '24': 232,\n",
       " '640': 218,\n",
       " '576': 206,\n",
       " '104': 206,\n",
       " '1536': 198,\n",
       " '112': 197,\n",
       " '288': 195,\n",
       " '896': 166,\n",
       " '224': 163,\n",
       " '18': 151,\n",
       " '60': 143,\n",
       " '36': 139,\n",
       " '336': 134,\n",
       " '4096': 125,\n",
       " '88': 119,\n",
       " '20': 109,\n",
       " '30': 109,\n",
       " '168': 107,\n",
       " '56': 105,\n",
       " '720': 104,\n",
       " '208': 104,\n",
       " '52': 103,\n",
       " '432': 96,\n",
       " '44': 96,\n",
       " '28': 95,\n",
       " '960': 93,\n",
       " '448': 91,\n",
       " '1280': 86,\n",
       " '176': 83,\n",
       " '8': 80,\n",
       " '26': 71,\n",
       " '152': 67,\n",
       " '1056': 66,\n",
       " '216': 61,\n",
       " '1344': 61,\n",
       " '528': 59,\n",
       " '6144': 54,\n",
       " '1392': 52,\n",
       " '368': 52,\n",
       " '300': 46,\n",
       " '3072': 46,\n",
       " '560': 46,\n",
       " '1232': 45,\n",
       " '624': 41,\n",
       " '90': 40,\n",
       " '10': 40,\n",
       " '184': 40,\n",
       " '800': 40,\n",
       " '304': 39,\n",
       " '352': 36,\n",
       " '416': 35,\n",
       " '156': 33,\n",
       " '100': 33,\n",
       " '1088': 31,\n",
       " '6': 31,\n",
       " '360': 31,\n",
       " '408': 31,\n",
       " '784': 31,\n",
       " '1000': 29,\n",
       " '312': 29,\n",
       " '200': 29,\n",
       " '180': 28,\n",
       " '1920': 28,\n",
       " '14': 28,\n",
       " '116': 26,\n",
       " '232': 26,\n",
       " '440': 25,\n",
       " '396': 24,\n",
       " '278': 24,\n",
       " '864': 24,\n",
       " '1200': 23,\n",
       " '12': 23,\n",
       " '4': 22,\n",
       " '696': 21,\n",
       " '1048': 20,\n",
       " '84': 20,\n",
       " '544': 18,\n",
       " '132': 18,\n",
       " '1584': 18,\n",
       " '1320': 18,\n",
       " '58': 17,\n",
       " '608': 17,\n",
       " '2560': 17,\n",
       " '1': 16,\n",
       " '912': 16,\n",
       " '400': 16,\n",
       " '255': 15,\n",
       " '272': 15,\n",
       " '348': 15,\n",
       " '1248': 15,\n",
       " '736': 15,\n",
       " '1040': 15,\n",
       " '1104': 14,\n",
       " '92': 13,\n",
       " '1008': 13,\n",
       " '392': 13,\n",
       " '816': 13,\n",
       " '2176': 12,\n",
       " '832': 12,\n",
       " '1296': 12,\n",
       " '54': 12,\n",
       " '136': 11,\n",
       " '308': 11,\n",
       " '38': 11,\n",
       " '57': 10,\n",
       " '2304': 10,\n",
       " '264': 10,\n",
       " '8192': 10,\n",
       " '1680': 10,\n",
       " '2240': 9,\n",
       " '888': 9,\n",
       " '46': 9,\n",
       " '81': 8,\n",
       " '2880': 8,\n",
       " '1632': 8,\n",
       " '818': 7,\n",
       " '1728': 7,\n",
       " '1360': 7,\n",
       " '324': 7,\n",
       " '142': 6,\n",
       " '174': 6,\n",
       " '21843': 6,\n",
       " '1002': 6,\n",
       " '1356': 6,\n",
       " '1600': 6,\n",
       " '12288': 6,\n",
       " '19': 5,\n",
       " '171': 5,\n",
       " '110': 5,\n",
       " '1664': 5,\n",
       " '280': 5,\n",
       " '50': 5,\n",
       " '22': 5,\n",
       " '1512': 5,\n",
       " '2016': 5,\n",
       " '3024': 5,\n",
       " '3712': 5,\n",
       " '42': 5,\n",
       " '276': 4,\n",
       " '253': 4,\n",
       " '2022': 4,\n",
       " '2042': 4,\n",
       " '1984': 4,\n",
       " '1440': 4,\n",
       " '1624': 4,\n",
       " '2520': 4,\n",
       " '162': 4,\n",
       " '436': 4,\n",
       " '25': 4,\n",
       " '47': 3,\n",
       " '244': 3,\n",
       " '61': 3,\n",
       " '520': 3,\n",
       " '130': 3,\n",
       " '872': 3,\n",
       " '228': 3,\n",
       " '366': 3,\n",
       " '504': 3,\n",
       " '570': 3,\n",
       " '636': 3,\n",
       " '702': 3,\n",
       " '840': 3,\n",
       " '906': 3,\n",
       " '972': 3,\n",
       " '1044': 3,\n",
       " '210': 3,\n",
       " '390': 3,\n",
       " '474': 3,\n",
       " '564': 3,\n",
       " '654': 3,\n",
       " '738': 3,\n",
       " '828': 3,\n",
       " '1092': 3,\n",
       " '1176': 3,\n",
       " '1266': 3,\n",
       " '450': 3,\n",
       " '552': 3,\n",
       " '648': 3,\n",
       " '750': 3,\n",
       " '852': 3,\n",
       " '954': 3,\n",
       " '1158': 3,\n",
       " '1260': 3,\n",
       " '1458': 3,\n",
       " '1560': 3,\n",
       " '462': 3,\n",
       " '600': 3,\n",
       " '732': 3,\n",
       " '1140': 3,\n",
       " '1272': 3,\n",
       " '1404': 3,\n",
       " '1542': 3,\n",
       " '1812': 3,\n",
       " '1944': 3,\n",
       " '2082': 3,\n",
       " '1824': 3,\n",
       " '1968': 3,\n",
       " '2064': 3,\n",
       " '78': 3,\n",
       " '126': 3,\n",
       " '486': 3,\n",
       " '125': 2,\n",
       " '53': 2,\n",
       " '122': 2,\n",
       " '234': 2,\n",
       " '220': 2,\n",
       " '95': 2,\n",
       " '106': 2,\n",
       " '117': 2,\n",
       " '140': 2,\n",
       " '151': 2,\n",
       " '75': 2,\n",
       " '79': 2,\n",
       " '167': 2,\n",
       " '83': 2,\n",
       " '105': 2,\n",
       " '226': 2,\n",
       " '113': 2,\n",
       " '85': 2,\n",
       " '239': 2,\n",
       " '1408': 2,\n",
       " '27': 2,\n",
       " '87': 2,\n",
       " '35': 2,\n",
       " '246': 2,\n",
       " '37': 2,\n",
       " '159': 2,\n",
       " '190': 2,\n",
       " '149': 2,\n",
       " '756': 2,\n",
       " '1072': 1,\n",
       " '296': 1,\n",
       " '107': 1,\n",
       " '198': 1,\n",
       " '492': 1,\n",
       " '45': 1,\n",
       " '93': 1,\n",
       " '102': 1,\n",
       " '101': 1,\n",
       " '250': 1,\n",
       " '251': 1,\n",
       " '230': 1,\n",
       " '238': 1,\n",
       " '245': 1,\n",
       " '254': 1,\n",
       " '499': 1,\n",
       " '1792': 1,\n",
       " '222': 1,\n",
       " '70': 1,\n",
       " '185': 1,\n",
       " '21': 1,\n",
       " '65': 1,\n",
       " '39': 1,\n",
       " '94': 1,\n",
       " '109': 1,\n",
       " '123': 1,\n",
       " '138': 1,\n",
       " '69': 1,\n",
       " '76': 1,\n",
       " '182': 1,\n",
       " '91': 1,\n",
       " '196': 1,\n",
       " '98': 1,\n",
       " '211': 1,\n",
       " '41': 1,\n",
       " '29': 1,\n",
       " '108': 1,\n",
       " '62': 1,\n",
       " '71': 1,\n",
       " '193': 1,\n",
       " '243': 1,\n",
       " '121': 1,\n",
       " '260': 1,\n",
       " '277': 1,\n",
       " '77': 1,\n",
       " '212': 1,\n",
       " '257': 1,\n",
       " '302': 1,\n",
       " '347': 1,\n",
       " '173': 1,\n",
       " '370': 1,\n",
       " '328': 1,\n",
       " '344': 1,\n",
       " '233': 1,\n",
       " '235': 1,\n",
       " '225': 1,\n",
       " '237': 1,\n",
       " '500': 1,\n",
       " '490': 1,\n",
       " '49': 1,\n",
       " '191': 1,\n",
       " '175': 1,\n",
       " '154': 1,\n",
       " '97': 1,\n",
       " '181': 1,\n",
       " '119': 1,\n",
       " '201': 1,\n",
       " '141': 1,\n",
       " '217': 1,\n",
       " '155': 1,\n",
       " '214': 1,\n",
       " '289': 1,\n",
       " '502': 1,\n",
       " '13': 1}"
      ]
     },
     "metadata": {},
     "execution_count": 16
    }
   ],
   "metadata": {}
  },
  {
   "cell_type": "code",
   "execution_count": null,
   "source": [],
   "outputs": [],
   "metadata": {}
  },
  {
   "cell_type": "code",
   "execution_count": null,
   "source": [],
   "outputs": [],
   "metadata": {}
  }
 ],
 "metadata": {
  "kernelspec": {
   "name": "python3",
   "display_name": "Python 3.9.5 64-bit ('.venv': poetry)"
  },
  "language_info": {
   "name": "python",
   "version": "3.9.5",
   "mimetype": "text/x-python",
   "codemirror_mode": {
    "name": "ipython",
    "version": 3
   },
   "pygments_lexer": "ipython3",
   "nbconvert_exporter": "python",
   "file_extension": ".py"
  },
  "metadata": {
   "interpreter": {
    "hash": "7ba5a8c11295bd31a650da7fd95bdbf05f90d3e784de664cc7b5246ae59e510d"
   }
  },
  "orig_nbformat": 2,
  "interpreter": {
   "hash": "7ba5a8c11295bd31a650da7fd95bdbf05f90d3e784de664cc7b5246ae59e510d"
  }
 },
 "nbformat": 4,
 "nbformat_minor": 2
}