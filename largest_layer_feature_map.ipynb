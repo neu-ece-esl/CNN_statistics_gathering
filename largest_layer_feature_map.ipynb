{
 "cells": [
  {
   "cell_type": "code",
   "execution_count": 2,
   "metadata": {},
   "outputs": [
    {
     "data": {
      "text/plain": "'3.9.5 (default, Aug 29 2021, 19:01:31) \\n[GCC 9.3.0]'"
     },
     "execution_count": 2,
     "metadata": {},
     "output_type": "execute_result"
    }
   ],
   "source": [
    "import torch\n",
    "from PIL import Image\n",
    "from torchvision import transforms, models\n",
    "from collections import OrderedDict, Counter\n",
    "from functools import partial\n",
    "from dataclasses import dataclass\n",
    "from typing import Tuple, List\n",
    "from copy import deepcopy\n",
    "from math import prod\n",
    "from sys import version\n",
    "version"
   ]
  },
  {
   "cell_type": "code",
   "execution_count": 3,
   "metadata": {},
   "outputs": [
    {
     "name": "stderr",
     "output_type": "stream",
     "text": [
      "Using cache found in /home/sultan/.cache/torch/hub/NVIDIA_DeepLearningExamples_torchhub\n",
      "Using cache found in /home/sultan/.cache/torch/hub/pytorch_vision_v0.10.0\n",
      "Using cache found in /home/sultan/.cache/torch/hub/ultralytics_yolov5_master\n",
      "YOLOv5 🚀 2021-8-29 torch 1.9.0+cu102 CUDA:0 (GeForce RTX 2070 SUPER, 7979.1875MB)\n",
      "\n",
      "Fusing layers... \n",
      "Model Summary: 224 layers, 7266973 parameters, 0 gradients\n",
      "Adding AutoShape... \n",
      "Using cache found in /home/sultan/.cache/torch/hub/ultralytics_yolov5_master\n",
      "YOLOv5 🚀 2021-8-29 torch 1.9.0+cu102 CUDA:0 (GeForce RTX 2070 SUPER, 7979.1875MB)\n",
      "\n",
      "Fusing layers... \n",
      "Model Summary: 308 layers, 21356877 parameters, 0 gradients\n",
      "Adding AutoShape... \n",
      "Using cache found in /home/sultan/.cache/torch/hub/ultralytics_yolov5_master\n",
      "YOLOv5 🚀 2021-8-29 torch 1.9.0+cu102 CUDA:0 (GeForce RTX 2070 SUPER, 7979.1875MB)\n",
      "\n",
      "Fusing layers... \n",
      "Model Summary: 392 layers, 47025981 parameters, 0 gradients\n",
      "Adding AutoShape... \n",
      "Using cache found in /home/sultan/.cache/torch/hub/ultralytics_yolov5_master\n",
      "YOLOv5 🚀 2021-8-29 torch 1.9.0+cu102 CUDA:0 (GeForce RTX 2070 SUPER, 7979.1875MB)\n",
      "\n",
      "Fusing layers... \n",
      "Model Summary: 476 layers, 87730285 parameters, 0 gradients\n",
      "Adding AutoShape... \n"
     ]
    }
   ],
   "source": [
    "model_dict = {\n",
    "    'ssd': torch.hub.load('NVIDIA/DeepLearningExamples:torchhub', 'nvidia_ssd'),\n",
    "    'lenet': torch.hub.load('pytorch/vision:v0.10.0', 'googlenet', pretrained=True),\n",
    "    'yolov5s': torch.hub.load('ultralytics/yolov5', 'yolov5s', pretrained=True),\n",
    "    'yolov5m': torch.hub.load('ultralytics/yolov5', 'yolov5m', pretrained=True),\n",
    "    'yolov5l': torch.hub.load('ultralytics/yolov5', 'yolov5l', pretrained=True),\n",
    "    'yolov5x': torch.hub.load('ultralytics/yolov5', 'yolov5x', pretrained=True),\n",
    "    'alexnet': models.alexnet(pretrained=True, progress=True),\n",
    "    'vgg_11': models.vgg11(pretrained=True, progress=True),\n",
    "    'vgg_13': models.vgg13(pretrained=True, progress=True),\n",
    "    'vgg_16': models.vgg16(pretrained=True, progress=True),\n",
    "    'vgg_19': models.vgg19(pretrained=True, progress=True),\n",
    "    'vgg_11_bn': models.vgg11_bn(pretrained=True, progress=True),\n",
    "    'vgg_13_bn': models.vgg13_bn(pretrained=True, progress=True),\n",
    "    'vgg_16_bn': models.vgg16_bn(pretrained=True, progress=True),\n",
    "    'vgg_19_bn': models.vgg19_bn(pretrained=True, progress=True),\n",
    "    'resnet_18': models.resnet18(pretrained=True, progress=True),\n",
    "    'resnet_34': models.resnet34(pretrained=True, progress=True),\n",
    "    'resnet_50': models.resnet50(pretrained=True, progress=True),\n",
    "    'resnet_101': models.resnet101(pretrained=True, progress=True),\n",
    "    'resnet_152': models.resnet152(pretrained=True, progress=True),\n",
    "    'squeezenet_1_0': models.squeezenet1_1(pretrained=True, progress=True),\n",
    "    'squeezenet_1_1': models.squeezenet1_0(pretrained=True, progress=True),\n",
    "    'densenet_121': models.densenet121(pretrained=True, progress=True),\n",
    "    'densenet_169': models.densenet169(pretrained=True, progress=True),\n",
    "    'densenet_201': models.densenet201(pretrained=True, progress=True),\n",
    "    'densenet_161': models.densenet161(pretrained=True, progress=True),\n",
    "    'inception_v3': models.inception_v3(pretrained=True, progress=True),\n",
    "    'googlenet': models.googlenet(pretrained=True, progress=True),\n",
    "    'shufflenet_v2_x0_5': models.shufflenet_v2_x0_5(pretrained=True, progress=True),\n",
    "    'shufflenet_v2_x1_0': models.shufflenet_v2_x1_0(pretrained=True, progress=True),\n",
    "    'mobilenet_v2': models.mobilenet_v2(pretrained=True, progress=True),\n",
    "    'mobilenet_v3_large': models.mobilenet_v3_large(pretrained=True, progress=True),\n",
    "    'mobilenet_v3_small': models.mobilenet_v3_small(pretrained=True, progress=True),\n",
    "    'resnext_50_32x4d': models.resnext50_32x4d(pretrained=True, progress=True),\n",
    "    'resnext_101_32x8d': models.resnext101_32x8d(pretrained=True, progress=True),\n",
    "    'wide_resnet_50_2': models.wide_resnet50_2(pretrained=True, progress=True),\n",
    "    'wide_resnet_101_2': models.wide_resnet101_2(pretrained=True, progress=True),\n",
    "    'mnasnet0_5': models.mnasnet0_5(pretrained=True, progress=True),\n",
    "    'mnasnet1_0': models.mnasnet1_0(pretrained=True, progress=True),\n",
    "}\n"
   ]
  },
  {
   "cell_type": "code",
   "execution_count": 4,
   "metadata": {},
   "outputs": [
    {
     "name": "stderr",
     "output_type": "stream",
     "text": [
      "Using cache found in /home/sultan/.cache/torch/hub/NVIDIA_DeepLearningExamples_torchhub\n"
     ]
    }
   ],
   "source": [
    "utils = torch.hub.load('NVIDIA/DeepLearningExamples:torchhub', 'nvidia_ssd_processing_utils')"
   ]
  },
  {
   "cell_type": "code",
   "execution_count": 5,
   "metadata": {},
   "outputs": [],
   "source": [
    "# Download an example image from the pytorch website\n",
    "import urllib\n",
    "url, filename = (\"https://github.com/pytorch/hub/raw/master/images/dog.jpg\", \"dog.jpg\")\n",
    "try: urllib.URLopener().retrieve(url, filename)\n",
    "except: urllib.request.urlretrieve(url, filename)\n",
    "\n",
    "input_image = Image.open(filename)\n",
    "preprocess = transforms.Compose([\n",
    "    transforms.Resize(256),\n",
    "    transforms.CenterCrop(224),\n",
    "    transforms.ToTensor(),\n",
    "    transforms.Normalize(mean=[0.485, 0.456, 0.406], std=[0.229, 0.224, 0.225]),\n",
    "])\n",
    "input_tensor = preprocess(input_image)\n",
    "input_batch = input_tensor.unsqueeze(0) # create a mini-batch as expected by the model\n",
    "\n",
    "uris = [\n",
    "    'http://images.cocodataset.org/val2017/000000397133.jpg'\n",
    "]\n",
    "inputs = [utils.prepare_input(uri) for uri in uris]\n",
    "ssd_input_batch = utils.prepare_tensor(inputs)"
   ]
  },
  {
   "cell_type": "code",
   "execution_count": 6,
   "metadata": {},
   "outputs": [],
   "source": [
    "def get_next_conv_layers(model):\n",
    "    for name, module in model.named_modules():\n",
    "        if isinstance(module, torch.nn.modules.conv.Conv2d):\n",
    "            yield (name, module)"
   ]
  },
  {
   "cell_type": "code",
   "execution_count": 72,
   "metadata": {},
   "outputs": [],
   "source": [
    "@dataclass\n",
    "class LayerDimensions:\n",
    "    kernel_size: Tuple[int, int]\n",
    "    stride: Tuple[int, int]\n",
    "    padding: Tuple[int, int]\n",
    "    input_size: List[int]\n",
    "    output_size: List[int]\n",
    "\n",
    "\n",
    "class ModelStatCollector:\n",
    "    def __init__(self):\n",
    "        self.model_stats = OrderedDict()\n",
    "        self.hooks = []\n",
    "\n",
    "    def __extract_stats(self, name, module, input, output):\n",
    "        self.model_stats[name] = LayerDimensions(module.kernel_size, module.stride, module.padding, input_size=list(\n",
    "            input[0].size()), output_size=list(output[0].size()))\n",
    "\n",
    "    def __attach_collection_hooks_to_model(self, model):\n",
    "\n",
    "        for name, conv_layer in get_next_conv_layers(model):\n",
    "            layer_collector = partial(self.__extract_stats, name)\n",
    "            self.hooks.append(\n",
    "                conv_layer.register_forward_hook(layer_collector))\n",
    "\n",
    "    def __detach_stats_collection_hooks(self):\n",
    "        for hook in self.hooks:\n",
    "            hook.remove()\n",
    "\n",
    "    def __reset(self):\n",
    "        self.model_stats = {}\n",
    "        self.hooks = []\n",
    "\n",
    "    def collect_stats_from_model(self, model, input_batch):\n",
    "        self.__attach_collection_hooks_to_model(model)\n",
    "        model.eval()\n",
    "        # move the input and model to GPU for speed if available\n",
    "        with torch.no_grad():\n",
    "            model(input_batch)\n",
    "        self.__detach_stats_collection_hooks()\n",
    "        collected_stats = deepcopy(self.model_stats)\n",
    "        self.__reset()\n",
    "        return collected_stats\n",
    "\n",
    "\n",
    "class ModelStatAnalyser:\n",
    "    @ classmethod\n",
    "    def get_kernel_stats(cls, model_stats):\n",
    "        kernel_size_counter = Counter()\n",
    "        stride_counter_dict = {}\n",
    "        for layer in model_stats.values():\n",
    "            kernel_size = layer.kernel_size\n",
    "            stride = layer.stride\n",
    "            kernel_size_counter.update(str(kernel_size[0]))\n",
    "            if str(kernel_size[0]) not in stride_counter_dict:\n",
    "                stride_counter_dict[str(kernel_size[0])] = Counter()\n",
    "            stride_counter_dict[str(kernel_size[0])].update(str(stride[0]))\n",
    "        return kernel_size_counter\n",
    "\n",
    "    @ classmethod\n",
    "    def get_intermediate_layer_sizes(cls, model_stats):\n",
    "        intermediate_layer_sizes = [\n",
    "            prod(layer.input_size) for layer in model_stats.values()]\n",
    "        intermediate_layer_sizes.append(\n",
    "            prod(list(model_stats.values())[-1].output_size))\n",
    "        return intermediate_layer_sizes\n",
    "\n",
    "    @ classmethod\n",
    "    def get_intermediate_layer_size_bounds(cls, model_stats):\n",
    "        return (max(cls.get_intermediate_layer_sizes(model_stats)),\n",
    "                min(cls.get_intermediate_layer_sizes(model_stats)))\n",
    "\n",
    "    @ classmethod\n",
    "    def get_ub_input_size(cls, model_stats):\n",
    "        return max([prod(layer.kernel_size[0]) for layer in model_stats.values()])\n",
    "\n",
    "    @ classmethod\n",
    "    def get_in_channel_stats(cls, model_stats):\n",
    "        in_channel_dict = {}\n",
    "        for layer in model_stats.values():\n",
    "            kernel_size = layer.kernel_size\n",
    "            if str(kernel_size[0]) not in in_channel_dict:\n",
    "                in_channel_dict[str(kernel_size[0])] = {}\n",
    "            if str(layer.input_size[1]) not in in_channel_dict[str(kernel_size[0])]:\n",
    "                in_channel_dict[str(kernel_size[0])][str(layer.input_size[1])] = 0\n",
    "            in_channel_dict[str(kernel_size[0])][str(layer.input_size[1])] += 1\n",
    "\n",
    "        return in_channel_dict\n",
    "\n",
    "    @ classmethod\n",
    "    def get_filter_stats(cls, model_stats):\n",
    "        out_channel_dict = {}\n",
    "        for layer in model_stats.values():\n",
    "            kernel_size = layer.kernel_size\n",
    "            if str(kernel_size[0]) not in out_channel_dict:\n",
    "                out_channel_dict[str(kernel_size[0])] = {}\n",
    "            if str(layer.output_size[0]) not in out_channel_dict[str(kernel_size[0])]:\n",
    "                out_channel_dict[str(kernel_size[0])][str(layer.output_size[0])] = 0\n",
    "            out_channel_dict[str(kernel_size[0])][str(layer.output_size[0])] += 1\n",
    "\n",
    "        return out_channel_dict\n",
    "\n",
    "    @ classmethod\n",
    "    def get_stride_stats(cls, model_stats):\n",
    "        stride_counter_dict = {}\n",
    "        for layer in model_stats.values():\n",
    "            kernel_size = layer.kernel_size\n",
    "            stride = layer.stride\n",
    "            if str(kernel_size[0]) not in stride_counter_dict:\n",
    "                stride_counter_dict[str(kernel_size[0])] = Counter()\n",
    "            stride_counter_dict[str(kernel_size[0])].update(str(stride[0]))\n",
    "        return stride_counter_dict\n"
   ]
  },
  {
   "cell_type": "code",
   "execution_count": 73,
   "metadata": {},
   "outputs": [
    {
     "name": "stdout",
     "output_type": "stream",
     "text": [
      "Analysing ssd\n",
      "Analysing lenet\n",
      "Analysing yolov5s\n",
      "Analysing yolov5m\n",
      "Analysing yolov5l\n",
      "Analysing yolov5x\n",
      "Analysing alexnet\n",
      "Analysing vgg_11\n",
      "Analysing vgg_13\n",
      "Analysing vgg_16\n",
      "Analysing vgg_19\n",
      "Analysing vgg_11_bn\n",
      "Analysing vgg_13_bn\n",
      "Analysing vgg_16_bn\n",
      "Analysing vgg_19_bn\n",
      "Analysing resnet_18\n",
      "Analysing resnet_34\n",
      "Analysing resnet_50\n",
      "Analysing resnet_101\n",
      "Analysing resnet_152\n",
      "Analysing squeezenet_1_0\n",
      "Analysing squeezenet_1_1\n",
      "Analysing densenet_121\n",
      "Analysing densenet_169\n",
      "Analysing densenet_201\n",
      "Analysing densenet_161\n",
      "Analysing inception_v3\n",
      "Analysing googlenet\n",
      "Analysing shufflenet_v2_x0_5\n",
      "Analysing shufflenet_v2_x1_0\n",
      "Analysing mobilenet_v2\n",
      "Analysing mobilenet_v3_large\n",
      "Analysing mobilenet_v3_small\n",
      "Analysing resnext_50_32x4d\n",
      "Analysing resnext_101_32x8d\n",
      "Analysing wide_resnet_50_2\n",
      "Analysing wide_resnet_101_2\n",
      "Analysing mnasnet0_5\n",
      "Analysing mnasnet1_0\n"
     ]
    }
   ],
   "source": [
    "collector = ModelStatCollector()\n",
    "stats_dict = {}\n",
    "raw_stats_dict = {}\n",
    "if torch.cuda.is_available():\n",
    "    input_batch = input_batch.to('cuda')\n",
    "    ssd_input_batch = ssd_input_batch.to('cuda')\n",
    "for model_name, model in model_dict.items():\n",
    "    print('Analysing {}'.format(model_name))\n",
    "    model.to('cuda')\n",
    "    if model_name == 'ssd':\n",
    "        model_stats = collector.collect_stats_from_model(model, ssd_input_batch)\n",
    "    else:\n",
    "        model_stats = collector.collect_stats_from_model(model, input_batch)\n",
    "        \n",
    "    model.to('cpu')\n",
    "    raw_stats_dict[model_name] = model_stats\n",
    "    stats_dict[model_name] = {'kernel': ModelStatAnalyser.get_kernel_stats(model_stats),\n",
    "                              'stride': ModelStatAnalyser.get_stride_stats(model_stats),\n",
    "                              'in_channel': ModelStatAnalyser.get_in_channel_stats(model_stats),\n",
    "                              'filters': ModelStatAnalyser.get_filter_stats(model_stats),\n",
    "                              'intermediate_layer_bounds': ModelStatAnalyser.get_intermediate_layer_size_bounds(model_stats)}"
   ]
  },
  {
   "cell_type": "code",
   "execution_count": 74,
   "metadata": {},
   "outputs": [
    {
     "data": {
      "text/plain": "{'ssd': {'kernel': Counter({'7': 1, '1': 34, '3': 30}),\n  'stride': {'7': Counter({'2': 1}),\n   '1': Counter({'1': 33, '2': 1}),\n   '3': Counter({'1': 26, '2': 4})},\n  'in_channel': {'7': {'3': 1},\n   '1': {'64': 5, '256': 12, '128': 4, '512': 7, '1024': 6},\n   '3': {'64': 3, '128': 7, '256': 14, '1024': 2, '512': 4}},\n  'filters': {'7': {'64': 1},\n   '1': {'64': 3, '256': 12, '128': 7, '512': 5, '1024': 7},\n   '3': {'64': 3,\n    '128': 4,\n    '256': 9,\n    '512': 2,\n    '16': 3,\n    '324': 3,\n    '24': 3,\n    '486': 3}},\n  'intermediate_layer_bounds': (1478656, 256)},\n 'lenet': {'kernel': Counter({'7': 1, '1': 37, '3': 19}),\n  'stride': {'7': Counter({'2': 1}),\n   '1': Counter({'1': 37}),\n   '3': Counter({'1': 19})},\n  'in_channel': {'7': {'3': 1},\n   '1': {'64': 1, '192': 4, '256': 4, '480': 4, '512': 12, '528': 4, '832': 8},\n   '3': {'64': 1,\n    '96': 2,\n    '16': 2,\n    '128': 2,\n    '32': 4,\n    '112': 1,\n    '24': 2,\n    '144': 1,\n    '160': 2,\n    '192': 1,\n    '48': 1}},\n  'filters': {'7': {'64': 1},\n   '1': {'64': 7,\n    '96': 2,\n    '16': 2,\n    '32': 5,\n    '128': 7,\n    '192': 2,\n    '160': 3,\n    '112': 2,\n    '24': 2,\n    '144': 1,\n    '256': 2,\n    '384': 1,\n    '48': 1},\n   '3': {'192': 2,\n    '128': 4,\n    '32': 1,\n    '96': 1,\n    '208': 1,\n    '48': 1,\n    '224': 1,\n    '64': 3,\n    '256': 1,\n    '288': 1,\n    '320': 2,\n    '384': 1}},\n  'intermediate_layer_bounds': (200704, 1568)},\n 'yolov5s': {'kernel': Counter({'3': 19, '1': 43}),\n  'stride': {'3': Counter({'1': 13, '2': 6}), '1': Counter({'1': 43})},\n  'in_channel': {'3': {'12': 1, '32': 2, '64': 5, '128': 7, '256': 4},\n   '1': {'64': 7, '32': 1, '128': 10, '256': 13, '512': 11, '1024': 1}},\n  'filters': {'3': {'32': 2, '64': 5, '128': 7, '256': 4, '512': 1},\n   '1': {'32': 3, '64': 9, '128': 14, '256': 11, '512': 3, '255': 3}},\n  'intermediate_layer_bounds': (401408, 12495)},\n 'yolov5m': {'kernel': Counter({'3': 31, '1': 55}),\n  'stride': {'3': Counter({'1': 25, '2': 6}), '1': Counter({'1': 55})},\n  'in_channel': {'3': {'12': 1, '48': 3, '96': 9, '192': 12, '384': 6},\n   '1': {'96': 11, '48': 2, '192': 15, '384': 15, '768': 11, '1536': 1}},\n  'filters': {'3': {'48': 3, '96': 9, '192': 12, '384': 6, '768': 1},\n   '1': {'48': 4, '96': 13, '192': 19, '384': 13, '768': 3, '255': 3}},\n  'intermediate_layer_bounds': (602112, 12495)},\n 'yolov5l': {'kernel': Counter({'3': 43, '1': 67}),\n  'stride': {'3': Counter({'1': 37, '2': 6}), '1': Counter({'1': 67})},\n  'in_channel': {'3': {'12': 1, '64': 4, '128': 13, '256': 17, '512': 8},\n   '1': {'128': 15, '64': 3, '256': 20, '512': 17, '1024': 11, '2048': 1}},\n  'filters': {'3': {'64': 4, '128': 13, '256': 17, '512': 8, '1024': 1},\n   '1': {'64': 5, '128': 17, '256': 24, '512': 15, '1024': 3, '255': 3}},\n  'intermediate_layer_bounds': (802816, 12495)},\n 'yolov5x': {'kernel': Counter({'3': 55, '1': 79}),\n  'stride': {'3': Counter({'1': 49, '2': 6}), '1': Counter({'1': 79})},\n  'in_channel': {'3': {'12': 1, '80': 5, '160': 17, '320': 22, '640': 10},\n   '1': {'160': 19, '80': 4, '320': 25, '640': 19, '1280': 11, '2560': 1}},\n  'filters': {'3': {'80': 5, '160': 17, '320': 22, '640': 10, '1280': 1},\n   '1': {'80': 6, '160': 21, '320': 29, '640': 17, '1280': 3, '255': 3}},\n  'intermediate_layer_bounds': (1003520, 12495)},\n 'alexnet': {'kernel': Counter({'1': 2, '5': 1, '3': 3}),\n  'stride': {'11': Counter({'4': 1}),\n   '5': Counter({'1': 1}),\n   '3': Counter({'1': 3})},\n  'in_channel': {'11': {'3': 1},\n   '5': {'64': 1},\n   '3': {'192': 1, '384': 1, '256': 1}},\n  'filters': {'11': {'64': 1}, '5': {'192': 1}, '3': {'384': 1, '256': 2}},\n  'intermediate_layer_bounds': (150528, 32448)},\n 'vgg_11': {'kernel': Counter({'3': 8}),\n  'stride': {'3': Counter({'1': 8})},\n  'in_channel': {'3': {'3': 1, '64': 1, '128': 1, '256': 2, '512': 3}},\n  'filters': {'3': {'64': 1, '128': 1, '256': 2, '512': 4}},\n  'intermediate_layer_bounds': (802816, 100352)},\n 'vgg_13': {'kernel': Counter({'3': 10}),\n  'stride': {'3': Counter({'1': 10})},\n  'in_channel': {'3': {'3': 1, '64': 2, '128': 2, '256': 2, '512': 3}},\n  'filters': {'3': {'64': 2, '128': 2, '256': 2, '512': 4}},\n  'intermediate_layer_bounds': (3211264, 100352)},\n 'vgg_16': {'kernel': Counter({'3': 13}),\n  'stride': {'3': Counter({'1': 13})},\n  'in_channel': {'3': {'3': 1, '64': 2, '128': 2, '256': 3, '512': 5}},\n  'filters': {'3': {'64': 2, '128': 2, '256': 3, '512': 6}},\n  'intermediate_layer_bounds': (3211264, 100352)},\n 'vgg_19': {'kernel': Counter({'3': 16}),\n  'stride': {'3': Counter({'1': 16})},\n  'in_channel': {'3': {'3': 1, '64': 2, '128': 2, '256': 4, '512': 7}},\n  'filters': {'3': {'64': 2, '128': 2, '256': 4, '512': 8}},\n  'intermediate_layer_bounds': (3211264, 100352)},\n 'vgg_11_bn': {'kernel': Counter({'3': 8}),\n  'stride': {'3': Counter({'1': 8})},\n  'in_channel': {'3': {'3': 1, '64': 1, '128': 1, '256': 2, '512': 3}},\n  'filters': {'3': {'64': 1, '128': 1, '256': 2, '512': 4}},\n  'intermediate_layer_bounds': (802816, 100352)},\n 'vgg_13_bn': {'kernel': Counter({'3': 10}),\n  'stride': {'3': Counter({'1': 10})},\n  'in_channel': {'3': {'3': 1, '64': 2, '128': 2, '256': 2, '512': 3}},\n  'filters': {'3': {'64': 2, '128': 2, '256': 2, '512': 4}},\n  'intermediate_layer_bounds': (3211264, 100352)},\n 'vgg_16_bn': {'kernel': Counter({'3': 13}),\n  'stride': {'3': Counter({'1': 13})},\n  'in_channel': {'3': {'3': 1, '64': 2, '128': 2, '256': 3, '512': 5}},\n  'filters': {'3': {'64': 2, '128': 2, '256': 3, '512': 6}},\n  'intermediate_layer_bounds': (3211264, 100352)},\n 'vgg_19_bn': {'kernel': Counter({'3': 16}),\n  'stride': {'3': Counter({'1': 16})},\n  'in_channel': {'3': {'3': 1, '64': 2, '128': 2, '256': 4, '512': 7}},\n  'filters': {'3': {'64': 2, '128': 2, '256': 4, '512': 8}},\n  'intermediate_layer_bounds': (3211264, 100352)},\n 'resnet_18': {'kernel': Counter({'7': 1, '3': 16, '1': 3}),\n  'stride': {'7': Counter({'2': 1}),\n   '3': Counter({'1': 13, '2': 3}),\n   '1': Counter({'2': 3})},\n  'in_channel': {'7': {'3': 1},\n   '3': {'64': 5, '128': 4, '256': 4, '512': 3},\n   '1': {'64': 1, '128': 1, '256': 1}},\n  'filters': {'7': {'64': 1},\n   '3': {'64': 4, '128': 4, '256': 4, '512': 4},\n   '1': {'128': 1, '256': 1, '512': 1}},\n  'intermediate_layer_bounds': (200704, 25088)},\n 'resnet_34': {'kernel': Counter({'7': 1, '3': 32, '1': 3}),\n  'stride': {'7': Counter({'2': 1}),\n   '3': Counter({'1': 29, '2': 3}),\n   '1': Counter({'2': 3})},\n  'in_channel': {'7': {'3': 1},\n   '3': {'64': 7, '128': 8, '256': 12, '512': 5},\n   '1': {'64': 1, '128': 1, '256': 1}},\n  'filters': {'7': {'64': 1},\n   '3': {'64': 6, '128': 8, '256': 12, '512': 6},\n   '1': {'128': 1, '256': 1, '512': 1}},\n  'intermediate_layer_bounds': (200704, 25088)},\n 'resnet_50': {'kernel': Counter({'7': 1, '1': 36, '3': 16}),\n  'stride': {'7': Counter({'2': 1}),\n   '1': Counter({'1': 33, '2': 3}),\n   '3': Counter({'1': 13, '2': 3})},\n  'in_channel': {'7': {'3': 1},\n   '1': {'64': 5, '256': 10, '128': 4, '512': 8, '1024': 7, '2048': 2},\n   '3': {'64': 3, '128': 4, '256': 6, '512': 3}},\n  'filters': {'7': {'64': 1},\n   '1': {'64': 3, '256': 10, '128': 4, '512': 8, '1024': 7, '2048': 4},\n   '3': {'64': 3, '128': 4, '256': 6, '512': 3}},\n  'intermediate_layer_bounds': (802816, 25088)},\n 'resnet_101': {'kernel': Counter({'7': 1, '1': 70, '3': 33}),\n  'stride': {'7': Counter({'2': 1}),\n   '1': Counter({'1': 67, '2': 3}),\n   '3': Counter({'1': 30, '2': 3})},\n  'in_channel': {'7': {'3': 1},\n   '1': {'64': 5, '256': 27, '128': 4, '512': 8, '1024': 24, '2048': 2},\n   '3': {'64': 3, '128': 4, '256': 23, '512': 3}},\n  'filters': {'7': {'64': 1},\n   '1': {'64': 3, '256': 27, '128': 4, '512': 8, '1024': 24, '2048': 4},\n   '3': {'64': 3, '128': 4, '256': 23, '512': 3}},\n  'intermediate_layer_bounds': (802816, 25088)},\n 'resnet_152': {'kernel': Counter({'7': 1, '1': 104, '3': 50}),\n  'stride': {'7': Counter({'2': 1}),\n   '1': Counter({'1': 101, '2': 3}),\n   '3': Counter({'1': 47, '2': 3})},\n  'in_channel': {'7': {'3': 1},\n   '1': {'64': 5, '256': 40, '128': 8, '512': 12, '1024': 37, '2048': 2},\n   '3': {'64': 3, '128': 8, '256': 36, '512': 3}},\n  'filters': {'7': {'64': 1},\n   '1': {'64': 3, '256': 40, '128': 8, '512': 12, '1024': 37, '2048': 4},\n   '3': {'64': 3, '128': 8, '256': 36, '512': 3}},\n  'intermediate_layer_bounds': (802816, 25088)},\n 'squeezenet_1_0': {'kernel': Counter({'3': 9, '1': 17}),\n  'stride': {'3': Counter({'2': 1, '1': 8}), '1': Counter({'1': 17})},\n  'in_channel': {'3': {'3': 1, '16': 2, '32': 2, '48': 2, '64': 2},\n   '1': {'64': 3,\n    '16': 2,\n    '128': 2,\n    '32': 2,\n    '256': 2,\n    '48': 2,\n    '384': 2,\n    '512': 2}},\n  'filters': {'3': {'64': 3, '128': 2, '192': 2, '256': 2},\n   '1': {'16': 2,\n    '64': 4,\n    '32': 2,\n    '128': 2,\n    '48': 2,\n    '192': 2,\n    '256': 2,\n    '1000': 1}},\n  'intermediate_layer_bounds': (387200, 8112)},\n 'squeezenet_1_1': {'kernel': Counter({'7': 1, '1': 17, '3': 8}),\n  'stride': {'7': Counter({'2': 1}),\n   '1': Counter({'1': 17}),\n   '3': Counter({'1': 8})},\n  'in_channel': {'7': {'3': 1},\n   '1': {'96': 1,\n    '16': 2,\n    '128': 2,\n    '32': 2,\n    '256': 2,\n    '48': 2,\n    '384': 2,\n    '64': 2,\n    '512': 2},\n   '3': {'16': 2, '32': 2, '48': 2, '64': 2}},\n  'filters': {'7': {'96': 1},\n   '1': {'16': 2,\n    '64': 4,\n    '32': 2,\n    '128': 2,\n    '48': 2,\n    '192': 2,\n    '256': 2,\n    '1000': 1},\n   '3': {'64': 2, '128': 2, '192': 2, '256': 2}},\n  'intermediate_layer_bounds': (373248, 10816)},\n 'densenet_121': {'kernel': Counter({'7': 1, '1': 61, '3': 58}),\n  'stride': {'7': Counter({'2': 1}),\n   '1': Counter({'1': 61}),\n   '3': Counter({'1': 58})},\n  'in_channel': {'7': {'3': 1},\n   '1': {'64': 1,\n    '96': 1,\n    '128': 2,\n    '160': 2,\n    '192': 2,\n    '224': 2,\n    '256': 3,\n    '288': 2,\n    '320': 2,\n    '352': 2,\n    '384': 2,\n    '416': 2,\n    '448': 2,\n    '480': 2,\n    '512': 3,\n    '544': 2,\n    '576': 2,\n    '608': 2,\n    '640': 2,\n    '672': 2,\n    '704': 2,\n    '736': 2,\n    '768': 2,\n    '800': 2,\n    '832': 2,\n    '864': 2,\n    '896': 2,\n    '928': 2,\n    '960': 2,\n    '992': 2,\n    '1024': 1},\n   '3': {'128': 58}},\n  'filters': {'7': {'64': 1},\n   '1': {'128': 59, '256': 1, '512': 1},\n   '3': {'32': 58}},\n  'intermediate_layer_bounds': (802816, 1568)},\n 'densenet_169': {'kernel': Counter({'7': 1, '1': 85, '3': 82}),\n  'stride': {'7': Counter({'2': 1}),\n   '1': Counter({'1': 85}),\n   '3': Counter({'1': 82})},\n  'in_channel': {'7': {'3': 1},\n   '1': {'64': 1,\n    '96': 1,\n    '128': 2,\n    '160': 2,\n    '192': 2,\n    '224': 2,\n    '256': 3,\n    '288': 2,\n    '320': 2,\n    '352': 2,\n    '384': 2,\n    '416': 2,\n    '448': 2,\n    '480': 2,\n    '512': 2,\n    '544': 1,\n    '576': 1,\n    '608': 1,\n    '640': 2,\n    '672': 2,\n    '704': 2,\n    '736': 2,\n    '768': 2,\n    '800': 2,\n    '832': 2,\n    '864': 2,\n    '896': 2,\n    '928': 2,\n    '960': 2,\n    '992': 2,\n    '1024': 2,\n    '1056': 2,\n    '1088': 2,\n    '1120': 2,\n    '1152': 2,\n    '1184': 2,\n    '1216': 2,\n    '1248': 2,\n    '1280': 2,\n    '1312': 1,\n    '1344': 1,\n    '1376': 1,\n    '1408': 1,\n    '1440': 1,\n    '1472': 1,\n    '1504': 1,\n    '1536': 1,\n    '1568': 1,\n    '1600': 1,\n    '1632': 1},\n   '3': {'128': 82}},\n  'filters': {'7': {'64': 1},\n   '1': {'128': 83, '256': 1, '640': 1},\n   '3': {'32': 82}},\n  'intermediate_layer_bounds': (802816, 1568)},\n 'densenet_201': {'kernel': Counter({'7': 1, '1': 101, '3': 98}),\n  'stride': {'7': Counter({'2': 1}),\n   '1': Counter({'1': 101}),\n   '3': Counter({'1': 98})},\n  'in_channel': {'7': {'3': 1},\n   '1': {'64': 1,\n    '96': 1,\n    '128': 2,\n    '160': 2,\n    '192': 2,\n    '224': 2,\n    '256': 3,\n    '288': 2,\n    '320': 2,\n    '352': 2,\n    '384': 2,\n    '416': 2,\n    '448': 2,\n    '480': 2,\n    '512': 2,\n    '544': 1,\n    '576': 1,\n    '608': 1,\n    '640': 1,\n    '672': 1,\n    '704': 1,\n    '736': 1,\n    '768': 1,\n    '800': 1,\n    '832': 1,\n    '864': 1,\n    '896': 2,\n    '928': 2,\n    '960': 2,\n    '992': 2,\n    '1024': 2,\n    '1056': 2,\n    '1088': 2,\n    '1120': 2,\n    '1152': 2,\n    '1184': 2,\n    '1216': 2,\n    '1248': 2,\n    '1280': 2,\n    '1312': 2,\n    '1344': 2,\n    '1376': 2,\n    '1408': 2,\n    '1440': 2,\n    '1472': 2,\n    '1504': 2,\n    '1536': 2,\n    '1568': 2,\n    '1600': 2,\n    '1632': 2,\n    '1664': 2,\n    '1696': 2,\n    '1728': 2,\n    '1760': 2,\n    '1792': 2,\n    '1824': 1,\n    '1856': 1,\n    '1888': 1},\n   '3': {'128': 98}},\n  'filters': {'7': {'64': 1},\n   '1': {'128': 99, '256': 1, '896': 1},\n   '3': {'32': 98}},\n  'intermediate_layer_bounds': (802816, 1568)},\n 'densenet_161': {'kernel': Counter({'7': 1, '1': 81, '3': 78}),\n  'stride': {'7': Counter({'2': 1}),\n   '1': Counter({'1': 81}),\n   '3': Counter({'1': 78})},\n  'in_channel': {'7': {'3': 1},\n   '1': {'96': 1,\n    '144': 1,\n    '192': 2,\n    '240': 2,\n    '288': 2,\n    '336': 2,\n    '384': 3,\n    '432': 2,\n    '480': 2,\n    '528': 2,\n    '576': 2,\n    '624': 2,\n    '672': 2,\n    '720': 2,\n    '768': 2,\n    '816': 1,\n    '864': 1,\n    '912': 1,\n    '960': 1,\n    '1008': 1,\n    '1056': 2,\n    '1104': 2,\n    '1152': 2,\n    '1200': 2,\n    '1248': 2,\n    '1296': 2,\n    '1344': 2,\n    '1392': 2,\n    '1440': 2,\n    '1488': 2,\n    '1536': 2,\n    '1584': 2,\n    '1632': 2,\n    '1680': 2,\n    '1728': 2,\n    '1776': 2,\n    '1824': 2,\n    '1872': 2,\n    '1920': 2,\n    '1968': 2,\n    '2016': 2,\n    '2064': 2,\n    '2112': 2,\n    '2160': 1},\n   '3': {'192': 78}},\n  'filters': {'7': {'96': 1},\n   '1': {'192': 79, '384': 1, '1056': 1},\n   '3': {'48': 78}},\n  'intermediate_layer_bounds': (1204224, 2352)},\n 'inception_v3': {'kernel': Counter({'3': 21, '1': 57, '5': 3, '7': 13}),\n  'stride': {'3': Counter({'2': 5, '1': 16}),\n   '1': Counter({'1': 57}),\n   '5': Counter({'1': 3}),\n   '7': Counter({'1': 13})},\n  'in_channel': {'3': {'3': 1,\n    '32': 2,\n    '80': 1,\n    '64': 4,\n    '96': 4,\n    '288': 1,\n    '192': 2,\n    '384': 4,\n    '448': 2},\n   '1': {'64': 1,\n    '192': 8,\n    '256': 4,\n    '288': 5,\n    '768': 18,\n    '128': 3,\n    '160': 6,\n    '1280': 4,\n    '384': 4,\n    '2048': 4},\n   '5': {'48': 3},\n   '7': {'128': 3, '160': 6, '192': 4}},\n  'filters': {'3': {'32': 2, '64': 1, '192': 2, '96': 8, '384': 7, '320': 1},\n   '1': {'80': 1,\n    '64': 9,\n    '48': 3,\n    '32': 1,\n    '192': 21,\n    '128': 4,\n    '160': 8,\n    '320': 2,\n    '384': 6,\n    '448': 2},\n   '5': {'64': 3},\n   '7': {'192': 7, '128': 2, '160': 4}},\n  'intermediate_layer_bounds': (394272, 4800)},\n 'googlenet': {'kernel': Counter({'7': 1, '1': 37, '3': 19}),\n  'stride': {'7': Counter({'2': 1}),\n   '1': Counter({'1': 37}),\n   '3': Counter({'1': 19})},\n  'in_channel': {'7': {'3': 1},\n   '1': {'64': 1, '192': 4, '256': 4, '480': 4, '512': 12, '528': 4, '832': 8},\n   '3': {'64': 1,\n    '96': 2,\n    '16': 2,\n    '128': 2,\n    '32': 4,\n    '112': 1,\n    '24': 2,\n    '144': 1,\n    '160': 2,\n    '192': 1,\n    '48': 1}},\n  'filters': {'7': {'64': 1},\n   '1': {'64': 7,\n    '96': 2,\n    '16': 2,\n    '32': 5,\n    '128': 7,\n    '192': 2,\n    '160': 3,\n    '112': 2,\n    '24': 2,\n    '144': 1,\n    '256': 2,\n    '384': 1,\n    '48': 1},\n   '3': {'192': 2,\n    '128': 4,\n    '32': 1,\n    '96': 1,\n    '208': 1,\n    '48': 1,\n    '224': 1,\n    '64': 3,\n    '256': 1,\n    '288': 1,\n    '320': 2,\n    '384': 1}},\n  'intermediate_layer_bounds': (200704, 1568)},\n 'shufflenet_v2_x0_5': {'kernel': Counter({'3': 20, '1': 36}),\n  'stride': {'3': Counter({'2': 7, '1': 13}), '1': Counter({'1': 36})},\n  'in_channel': {'3': {'3': 1, '24': 5, '48': 9, '96': 5},\n   '1': {'24': 9, '48': 17, '96': 9, '192': 1}},\n  'filters': {'3': {'24': 6, '48': 9, '96': 5},\n   '1': {'24': 9, '48': 17, '96': 9, '1024': 1}},\n  'intermediate_layer_bounds': (150528, 4704)},\n 'shufflenet_v2_x1_0': {'kernel': Counter({'3': 20, '1': 36}),\n  'stride': {'3': Counter({'2': 7, '1': 13}), '1': Counter({'1': 36})},\n  'in_channel': {'3': {'3': 1, '24': 1, '58': 4, '116': 9, '232': 5},\n   '1': {'24': 2, '58': 7, '116': 17, '232': 9, '464': 1}},\n  'filters': {'3': {'24': 2, '58': 4, '116': 9, '232': 5},\n   '1': {'58': 9, '116': 17, '232': 9, '1024': 1}},\n  'intermediate_layer_bounds': (181888, 11368)},\n 'mobilenet_v2': {'kernel': Counter({'3': 18, '1': 34}),\n  'stride': {'3': Counter({'2': 5, '1': 13}), '1': Counter({'1': 34})},\n  'in_channel': {'3': {'3': 1,\n    '32': 1,\n    '96': 1,\n    '144': 2,\n    '192': 3,\n    '384': 4,\n    '576': 3,\n    '960': 3},\n   '1': {'32': 4,\n    '16': 1,\n    '96': 4,\n    '24': 2,\n    '144': 2,\n    '192': 3,\n    '64': 4,\n    '384': 4,\n    '576': 3,\n    '160': 3,\n    '960': 3,\n    '320': 1}},\n  'filters': {'3': {'32': 2,\n    '96': 1,\n    '144': 2,\n    '192': 3,\n    '384': 4,\n    '576': 3,\n    '960': 3},\n   '1': {'16': 1,\n    '96': 4,\n    '24': 2,\n    '144': 2,\n    '32': 3,\n    '192': 3,\n    '64': 4,\n    '384': 4,\n    '576': 3,\n    '160': 3,\n    '960': 3,\n    '320': 1,\n    '1280': 1}},\n  'intermediate_layer_bounds': (1204224, 7840)},\n 'mobilenet_v3_large': {'kernel': Counter({'3': 10, '1': 46, '5': 6}),\n  'stride': {'3': Counter({'2': 3, '1': 7}),\n   '1': Counter({'1': 46}),\n   '5': Counter({'2': 2, '1': 4})},\n  'in_channel': {'3': {'3': 1,\n    '16': 1,\n    '64': 1,\n    '72': 1,\n    '240': 1,\n    '200': 1,\n    '184': 2,\n    '480': 1,\n    '672': 1},\n   '1': {'16': 2,\n    '64': 1,\n    '24': 3,\n    '72': 3,\n    '40': 3,\n    '120': 5,\n    '32': 2,\n    '240': 3,\n    '80': 4,\n    '200': 1,\n    '184': 2,\n    '480': 2,\n    '112': 2,\n    '672': 4,\n    '168': 2,\n    '160': 3,\n    '960': 4},\n   '5': {'72': 1, '120': 2, '672': 1, '960': 2}},\n  'filters': {'3': {'16': 2,\n    '64': 1,\n    '72': 1,\n    '240': 1,\n    '200': 1,\n    '184': 2,\n    '480': 1,\n    '672': 1},\n   '1': {'16': 1,\n    '64': 1,\n    '24': 3,\n    '72': 3,\n    '40': 3,\n    '120': 5,\n    '32': 2,\n    '240': 3,\n    '80': 4,\n    '200': 1,\n    '184': 2,\n    '480': 2,\n    '112': 2,\n    '672': 4,\n    '168': 2,\n    '160': 3,\n    '960': 5},\n   '5': {'72': 1, '120': 2, '672': 1, '960': 2}},\n  'intermediate_layer_bounds': (802816, 24)},\n 'mobilenet_v3_small': {'kernel': Counter({'3': 4, '1': 40, '5': 8}),\n  'stride': {'3': Counter({'2': 3, '1': 1}),\n   '1': Counter({'1': 40}),\n   '5': Counter({'2': 2, '1': 6})},\n  'in_channel': {'3': {'3': 1, '16': 1, '72': 1, '88': 1},\n   '1': {'16': 3,\n    '8': 1,\n    '72': 2,\n    '24': 3,\n    '88': 1,\n    '96': 5,\n    '40': 4,\n    '240': 4,\n    '64': 2,\n    '120': 2,\n    '32': 1,\n    '48': 2,\n    '144': 4,\n    '288': 2,\n    '576': 4},\n   '5': {'96': 1, '240': 2, '120': 1, '144': 1, '288': 1, '576': 2}},\n  'filters': {'3': {'16': 2, '72': 1, '88': 1},\n   '1': {'8': 1,\n    '16': 2,\n    '72': 2,\n    '24': 3,\n    '88': 1,\n    '96': 5,\n    '40': 4,\n    '240': 4,\n    '64': 2,\n    '120': 2,\n    '32': 1,\n    '48': 2,\n    '144': 4,\n    '288': 2,\n    '576': 5},\n   '5': {'96': 1, '240': 2, '120': 1, '144': 1, '288': 1, '576': 2}},\n  'intermediate_layer_bounds': (225792, 8)},\n 'resnext_50_32x4d': {'kernel': Counter({'7': 1, '1': 36, '3': 16}),\n  'stride': {'7': Counter({'2': 1}),\n   '1': Counter({'1': 33, '2': 3}),\n   '3': Counter({'1': 13, '2': 3})},\n  'in_channel': {'7': {'3': 1},\n   '1': {'64': 2, '128': 3, '256': 8, '512': 11, '1024': 10, '2048': 2},\n   '3': {'128': 3, '256': 4, '512': 6, '1024': 3}},\n  'filters': {'7': {'64': 1},\n   '1': {'128': 3, '256': 8, '512': 11, '1024': 10, '2048': 4},\n   '3': {'128': 3, '256': 4, '512': 6, '1024': 3}},\n  'intermediate_layer_bounds': (802816, 50176)},\n 'resnext_101_32x8d': {'kernel': Counter({'7': 1, '1': 70, '3': 33}),\n  'stride': {'7': Counter({'2': 1}),\n   '1': Counter({'1': 67, '2': 3}),\n   '3': Counter({'1': 30, '2': 3})},\n  'in_channel': {'7': {'3': 1},\n   '1': {'64': 2, '256': 7, '512': 9, '1024': 47, '2048': 5},\n   '3': {'256': 3, '512': 4, '1024': 23, '2048': 3}},\n  'filters': {'7': {'64': 1},\n   '1': {'256': 7, '512': 9, '1024': 47, '2048': 7},\n   '3': {'256': 3, '512': 4, '1024': 23, '2048': 3}},\n  'intermediate_layer_bounds': (1605632, 100352)},\n 'wide_resnet_50_2': {'kernel': Counter({'7': 1, '1': 36, '3': 16}),\n  'stride': {'7': Counter({'2': 1}),\n   '1': Counter({'1': 33, '2': 3}),\n   '3': Counter({'1': 13, '2': 3})},\n  'in_channel': {'7': {'3': 1},\n   '1': {'64': 2, '128': 3, '256': 8, '512': 11, '1024': 10, '2048': 2},\n   '3': {'128': 3, '256': 4, '512': 6, '1024': 3}},\n  'filters': {'7': {'64': 1},\n   '1': {'128': 3, '256': 8, '512': 11, '1024': 10, '2048': 4},\n   '3': {'128': 3, '256': 4, '512': 6, '1024': 3}},\n  'intermediate_layer_bounds': (802816, 50176)},\n 'wide_resnet_101_2': {'kernel': Counter({'7': 1, '1': 70, '3': 33}),\n  'stride': {'7': Counter({'2': 1}),\n   '1': Counter({'1': 67, '2': 3}),\n   '3': Counter({'1': 30, '2': 3})},\n  'in_channel': {'7': {'3': 1},\n   '1': {'64': 2, '128': 3, '256': 8, '512': 28, '1024': 27, '2048': 2},\n   '3': {'128': 3, '256': 4, '512': 23, '1024': 3}},\n  'filters': {'7': {'64': 1},\n   '1': {'128': 3, '256': 8, '512': 28, '1024': 27, '2048': 4},\n   '3': {'128': 3, '256': 4, '512': 23, '1024': 3}},\n  'intermediate_layer_bounds': (802816, 50176)},\n 'mnasnet0_5': {'kernel': Counter({'3': 8, '1': 34, '5': 10}),\n  'stride': {'3': Counter({'2': 2, '1': 6}),\n   '1': Counter({'1': 34}),\n   '5': Counter({'2': 3, '1': 7})},\n  'in_channel': {'3': {'3': 1,\n    '16': 1,\n    '24': 1,\n    '48': 2,\n    '240': 1,\n    '288': 1,\n    '576': 1},\n   '1': {'16': 4,\n    '8': 1,\n    '24': 4,\n    '48': 5,\n    '72': 2,\n    '144': 1,\n    '40': 3,\n    '240': 3,\n    '288': 2,\n    '96': 4,\n    '576': 4,\n    '160': 1},\n   '5': {'48': 1, '72': 2, '144': 1, '240': 2, '288': 1, '576': 3}},\n  'filters': {'3': {'16': 2, '24': 1, '48': 2, '240': 1, '288': 1, '576': 1},\n   '1': {'8': 1,\n    '24': 4,\n    '16': 3,\n    '48': 5,\n    '72': 2,\n    '144': 1,\n    '40': 3,\n    '240': 3,\n    '288': 2,\n    '96': 4,\n    '576': 4,\n    '160': 1,\n    '1280': 1},\n   '5': {'48': 1, '72': 2, '144': 1, '240': 2, '288': 1, '576': 3}},\n  'intermediate_layer_bounds': (301056, 4704)},\n 'mnasnet1_0': {'kernel': Counter({'3': 8, '1': 34, '5': 10}),\n  'stride': {'3': Counter({'2': 2, '1': 6}),\n   '1': Counter({'1': 34}),\n   '5': Counter({'2': 3, '1': 7})},\n  'in_channel': {'3': {'3': 1,\n    '32': 1,\n    '48': 1,\n    '72': 2,\n    '480': 1,\n    '576': 1,\n    '1152': 1},\n   '1': {'32': 1,\n    '16': 1,\n    '48': 1,\n    '24': 3,\n    '72': 3,\n    '40': 3,\n    '120': 2,\n    '240': 1,\n    '80': 3,\n    '480': 3,\n    '96': 2,\n    '576': 2,\n    '192': 4,\n    '1152': 4,\n    '320': 1},\n   '5': {'72': 1, '120': 2, '240': 1, '480': 2, '576': 1, '1152': 3}},\n  'filters': {'3': {'32': 2, '48': 1, '72': 2, '480': 1, '576': 1, '1152': 1},\n   '1': {'16': 1,\n    '48': 1,\n    '24': 3,\n    '72': 3,\n    '40': 3,\n    '120': 2,\n    '240': 1,\n    '80': 3,\n    '480': 3,\n    '96': 2,\n    '576': 2,\n    '192': 4,\n    '1152': 4,\n    '320': 1,\n    '1280': 1},\n   '5': {'72': 1, '120': 2, '240': 1, '480': 2, '576': 1, '1152': 3}},\n  'intermediate_layer_bounds': (602112, 9408)}}"
     },
     "execution_count": 74,
     "metadata": {},
     "output_type": "execute_result"
    }
   ],
   "source": [
    "stats_dict"
   ]
  },
  {
   "cell_type": "code",
   "execution_count": 79,
   "metadata": {},
   "outputs": [
    {
     "data": {
      "text/plain": "{'7': 0.011862396204033215,\n '1': 0.5776986951364176,\n '3': 0.39541320680110714,\n '5': 0.015025701858442072}"
     },
     "execution_count": 79,
     "metadata": {},
     "output_type": "execute_result"
    }
   ],
   "source": [
    "aggregate_kernel_stats = Counter()\n",
    "for model, stats in stats_dict.items():\n",
    "    aggregate_kernel_stats += stats['kernel']\n",
    "ksize, counts = zip(*[(ksize, count) for ksize, count in aggregate_kernel_stats.items()])\n",
    "total_kernels = sum(counts)\n",
    "aggregate_kernel_stats_percentages = {ksize: counts/total_kernels for ksize, counts in zip(ksize,counts)}\n",
    "aggregate_kernel_stats_percentages"
   ]
  },
  {
   "cell_type": "code",
   "execution_count": 80,
   "metadata": {},
   "outputs": [
    {
     "data": {
      "text/plain": "{'7': {'2': 0.5666666666666667, '1': 0.43333333333333335},\n '1': {'1': 0.9808087731322824, '2': 0.019191226867717615},\n '3': {'1': 0.91, '2': 0.09},\n '11': {'4': 1.0},\n '5': {'1': 0.7368421052631579, '2': 0.2631578947368421}}"
     },
     "execution_count": 80,
     "metadata": {},
     "output_type": "execute_result"
    }
   ],
   "source": [
    "aggregate_stride_stats = {}\n",
    "for model, stats in stats_dict.items():\n",
    "    for kernel, counter in stats['stride'].items():\n",
    "        if kernel not in aggregate_stride_stats:\n",
    "            aggregate_stride_stats[kernel] = Counter()\n",
    "        aggregate_stride_stats[kernel] += counter\n",
    "\n",
    "aggregate_stride_stats_percentages = {}\n",
    "for ksize, stride_counter in aggregate_stride_stats.items():\n",
    "    total_kernels = sum(stride_counter.values())\n",
    "    aggregate_stride_stats_percentages[ksize] = {stride: count/total_kernels for stride, count in dict(stride_counter).items()}\n",
    "aggregate_stride_stats_percentages"
   ]
  },
  {
   "cell_type": "code",
   "execution_count": 89,
   "metadata": {},
   "outputs": [
    {
     "data": {
      "text/plain": "{'7': {'3': 17, '160': 6, '192': 4, '128': 3},\n '1': {'1024': 185,\n  '256': 180,\n  '512': 157,\n  '128': 69,\n  '64': 58,\n  '192': 47,\n  '96': 40,\n  '160': 38,\n  '384': 36,\n  '768': 36,\n  '320': 33,\n  '48': 31,\n  '24': 26,\n  '640': 24,\n  '2048': 22,\n  '480': 21,\n  '832': 21,\n  '1280': 19,\n  '576': 19,\n  '288': 17,\n  '116': 17,\n  '16': 15,\n  '960': 14,\n  '32': 13,\n  '240': 13,\n  '40': 13,\n  '80': 11,\n  '672': 11,\n  '528': 10,\n  '1152': 10,\n  '72': 10,\n  '232': 9,\n  '120': 9,\n  '144': 8,\n  '58': 7,\n  '1536': 6,\n  '224': 6,\n  '352': 6,\n  '416': 6,\n  '448': 6,\n  '864': 6,\n  '896': 6,\n  '928': 6,\n  '992': 6,\n  '1056': 6,\n  '1248': 6,\n  '704': 5,\n  '736': 5,\n  '800': 5,\n  '1344': 5,\n  '1440': 5,\n  '1632': 5,\n  '544': 4,\n  '608': 4,\n  '1088': 4,\n  '1120': 4,\n  '1184': 4,\n  '1216': 4,\n  '1728': 4,\n  '1312': 3,\n  '1376': 3,\n  '1408': 3,\n  '1472': 3,\n  '1504': 3,\n  '1568': 3,\n  '1600': 3,\n  '1824': 3,\n  '1664': 2,\n  '1696': 2,\n  '1760': 2,\n  '1792': 2,\n  '336': 2,\n  '432': 2,\n  '624': 2,\n  '720': 2,\n  '1104': 2,\n  '1200': 2,\n  '1296': 2,\n  '1392': 2,\n  '1488': 2,\n  '1584': 2,\n  '1680': 2,\n  '1776': 2,\n  '1872': 2,\n  '1920': 2,\n  '1968': 2,\n  '2016': 2,\n  '2064': 2,\n  '2112': 2,\n  '184': 2,\n  '112': 2,\n  '168': 2,\n  '8': 2,\n  '2560': 1,\n  '1856': 1,\n  '1888': 1,\n  '816': 1,\n  '912': 1,\n  '1008': 1,\n  '2160': 1,\n  '464': 1,\n  '200': 1,\n  '88': 1},\n '3': {'128': 320,\n  '256': 154,\n  '512': 104,\n  '192': 98,\n  '64': 58,\n  '1024': 34,\n  '96': 23,\n  '320': 22,\n  '160': 21,\n  '48': 21,\n  '32': 18,\n  '3': 17,\n  '384': 15,\n  '16': 11,\n  '24': 11,\n  '640': 10,\n  '116': 9,\n  '80': 6,\n  '232': 5,\n  '576': 5,\n  '144': 4,\n  '12': 4,\n  '58': 4,\n  '72': 4,\n  '960': 3,\n  '2048': 3,\n  '112': 2,\n  '288': 2,\n  '448': 2,\n  '240': 2,\n  '184': 2,\n  '480': 2,\n  '200': 1,\n  '672': 1,\n  '88': 1,\n  '1152': 1},\n '11': {'3': 1},\n '5': {'576': 6,\n  '120': 5,\n  '240': 5,\n  '48': 4,\n  '72': 4,\n  '1152': 3,\n  '960': 2,\n  '144': 2,\n  '288': 2,\n  '480': 2,\n  '64': 1,\n  '672': 1,\n  '96': 1}}"
     },
     "execution_count": 89,
     "metadata": {},
     "output_type": "execute_result"
    }
   ],
   "source": [
    "aggregate_in_channel_stats = {}\n",
    "for model, stats in stats_dict.items():\n",
    "    for kernel, channel_dict in stats['in_channel'].items():\n",
    "        if kernel not in aggregate_in_channel_stats:\n",
    "            aggregate_in_channel_stats[kernel] = {}\n",
    "        for channel, count in channel_dict.items():\n",
    "            if channel not in aggregate_in_channel_stats[kernel]:\n",
    "                aggregate_in_channel_stats[kernel][channel] = 0\n",
    "            aggregate_in_channel_stats[kernel][channel] += count\n",
    "for kernel, channel_dict in aggregate_in_channel_stats.items():\n",
    "    channel_dict = {k: v for k, v in sorted(channel_dict.items(), key=lambda item: item[1], reverse=True)}\n",
    "    aggregate_in_channel_stats[kernel] = channel_dict\n",
    "aggregate_in_channel_stats\n"
   ]
  },
  {
   "cell_type": "code",
   "execution_count": null,
   "metadata": {},
   "outputs": [],
   "source": [
    "aggregate_filter_stats = {}\n",
    "for model, stats in stats_dict.items():\n",
    "    for kernel, channel_dict in stats['filters'].items():\n",
    "        if kernel not in aggregate_filter_stats:\n",
    "            aggregate_filter_stats[kernel] = {}\n",
    "        for channel, count in channel_dict.items():\n",
    "            if channel not in aggregate_filter_stats[kernel]:\n",
    "                aggregate_filter_stats[kernel][channel] = 0\n",
    "            aggregate_filter_stats[kernel][channel] += count\n",
    "for kernel, channel_dict in aggregate_filter_stats.items():\n",
    "    channel_dict = {k: v for k, v in sorted(channel_dict.items(), key=lambda item: item[1], reverse=True)}\n",
    "    aggregate_filter_stats[kernel] = channel_dict\n",
    "aggregate_filter_stats"
   ]
  },
  {
   "cell_type": "code",
   "execution_count": 90,
   "metadata": {},
   "outputs": [
    {
     "data": {
      "text/plain": "{'ssd': {'kernel': Counter({'7': 1, '1': 34, '3': 30}),\n  'stride': {'7': Counter({'2': 1}),\n   '1': Counter({'1': 33, '2': 1}),\n   '3': Counter({'1': 26, '2': 4})},\n  'in_channel': {'7': {'3': 1},\n   '1': {'64': 5, '256': 12, '128': 4, '512': 7, '1024': 6},\n   '3': {'64': 3, '128': 7, '256': 14, '1024': 2, '512': 4}},\n  'filters': {'7': {'64': 1},\n   '1': {'64': 3, '256': 12, '128': 7, '512': 5, '1024': 7},\n   '3': {'64': 3,\n    '128': 4,\n    '256': 9,\n    '512': 2,\n    '16': 3,\n    '324': 3,\n    '24': 3,\n    '486': 3}},\n  'intermediate_layer_bounds': (1478656, 256)},\n 'lenet': {'kernel': Counter({'7': 1, '1': 37, '3': 19}),\n  'stride': {'7': Counter({'2': 1}),\n   '1': Counter({'1': 37}),\n   '3': Counter({'1': 19})},\n  'in_channel': {'7': {'3': 1},\n   '1': {'64': 1, '192': 4, '256': 4, '480': 4, '512': 12, '528': 4, '832': 8},\n   '3': {'64': 1,\n    '96': 2,\n    '16': 2,\n    '128': 2,\n    '32': 4,\n    '112': 1,\n    '24': 2,\n    '144': 1,\n    '160': 2,\n    '192': 1,\n    '48': 1}},\n  'filters': {'7': {'64': 1},\n   '1': {'64': 7,\n    '96': 2,\n    '16': 2,\n    '32': 5,\n    '128': 7,\n    '192': 2,\n    '160': 3,\n    '112': 2,\n    '24': 2,\n    '144': 1,\n    '256': 2,\n    '384': 1,\n    '48': 1},\n   '3': {'192': 2,\n    '128': 4,\n    '32': 1,\n    '96': 1,\n    '208': 1,\n    '48': 1,\n    '224': 1,\n    '64': 3,\n    '256': 1,\n    '288': 1,\n    '320': 2,\n    '384': 1}},\n  'intermediate_layer_bounds': (200704, 1568)},\n 'yolov5s': {'kernel': Counter({'3': 19, '1': 43}),\n  'stride': {'3': Counter({'1': 13, '2': 6}), '1': Counter({'1': 43})},\n  'in_channel': {'3': {'12': 1, '32': 2, '64': 5, '128': 7, '256': 4},\n   '1': {'64': 7, '32': 1, '128': 10, '256': 13, '512': 11, '1024': 1}},\n  'filters': {'3': {'32': 2, '64': 5, '128': 7, '256': 4, '512': 1},\n   '1': {'32': 3, '64': 9, '128': 14, '256': 11, '512': 3, '255': 3}},\n  'intermediate_layer_bounds': (401408, 12495)},\n 'yolov5m': {'kernel': Counter({'3': 31, '1': 55}),\n  'stride': {'3': Counter({'1': 25, '2': 6}), '1': Counter({'1': 55})},\n  'in_channel': {'3': {'12': 1, '48': 3, '96': 9, '192': 12, '384': 6},\n   '1': {'96': 11, '48': 2, '192': 15, '384': 15, '768': 11, '1536': 1}},\n  'filters': {'3': {'48': 3, '96': 9, '192': 12, '384': 6, '768': 1},\n   '1': {'48': 4, '96': 13, '192': 19, '384': 13, '768': 3, '255': 3}},\n  'intermediate_layer_bounds': (602112, 12495)},\n 'yolov5l': {'kernel': Counter({'3': 43, '1': 67}),\n  'stride': {'3': Counter({'1': 37, '2': 6}), '1': Counter({'1': 67})},\n  'in_channel': {'3': {'12': 1, '64': 4, '128': 13, '256': 17, '512': 8},\n   '1': {'128': 15, '64': 3, '256': 20, '512': 17, '1024': 11, '2048': 1}},\n  'filters': {'3': {'64': 4, '128': 13, '256': 17, '512': 8, '1024': 1},\n   '1': {'64': 5, '128': 17, '256': 24, '512': 15, '1024': 3, '255': 3}},\n  'intermediate_layer_bounds': (802816, 12495)},\n 'yolov5x': {'kernel': Counter({'3': 55, '1': 79}),\n  'stride': {'3': Counter({'1': 49, '2': 6}), '1': Counter({'1': 79})},\n  'in_channel': {'3': {'12': 1, '80': 5, '160': 17, '320': 22, '640': 10},\n   '1': {'160': 19, '80': 4, '320': 25, '640': 19, '1280': 11, '2560': 1}},\n  'filters': {'3': {'80': 5, '160': 17, '320': 22, '640': 10, '1280': 1},\n   '1': {'80': 6, '160': 21, '320': 29, '640': 17, '1280': 3, '255': 3}},\n  'intermediate_layer_bounds': (1003520, 12495)},\n 'alexnet': {'kernel': Counter({'1': 2, '5': 1, '3': 3}),\n  'stride': {'11': Counter({'4': 1}),\n   '5': Counter({'1': 1}),\n   '3': Counter({'1': 3})},\n  'in_channel': {'11': {'3': 1},\n   '5': {'64': 1},\n   '3': {'192': 1, '384': 1, '256': 1}},\n  'filters': {'11': {'64': 1}, '5': {'192': 1}, '3': {'384': 1, '256': 2}},\n  'intermediate_layer_bounds': (150528, 32448)},\n 'vgg_11': {'kernel': Counter({'3': 8}),\n  'stride': {'3': Counter({'1': 8})},\n  'in_channel': {'3': {'3': 1, '64': 1, '128': 1, '256': 2, '512': 3}},\n  'filters': {'3': {'64': 1, '128': 1, '256': 2, '512': 4}},\n  'intermediate_layer_bounds': (802816, 100352)},\n 'vgg_13': {'kernel': Counter({'3': 10}),\n  'stride': {'3': Counter({'1': 10})},\n  'in_channel': {'3': {'3': 1, '64': 2, '128': 2, '256': 2, '512': 3}},\n  'filters': {'3': {'64': 2, '128': 2, '256': 2, '512': 4}},\n  'intermediate_layer_bounds': (3211264, 100352)},\n 'vgg_16': {'kernel': Counter({'3': 13}),\n  'stride': {'3': Counter({'1': 13})},\n  'in_channel': {'3': {'3': 1, '64': 2, '128': 2, '256': 3, '512': 5}},\n  'filters': {'3': {'64': 2, '128': 2, '256': 3, '512': 6}},\n  'intermediate_layer_bounds': (3211264, 100352)},\n 'vgg_19': {'kernel': Counter({'3': 16}),\n  'stride': {'3': Counter({'1': 16})},\n  'in_channel': {'3': {'3': 1, '64': 2, '128': 2, '256': 4, '512': 7}},\n  'filters': {'3': {'64': 2, '128': 2, '256': 4, '512': 8}},\n  'intermediate_layer_bounds': (3211264, 100352)},\n 'vgg_11_bn': {'kernel': Counter({'3': 8}),\n  'stride': {'3': Counter({'1': 8})},\n  'in_channel': {'3': {'3': 1, '64': 1, '128': 1, '256': 2, '512': 3}},\n  'filters': {'3': {'64': 1, '128': 1, '256': 2, '512': 4}},\n  'intermediate_layer_bounds': (802816, 100352)},\n 'vgg_13_bn': {'kernel': Counter({'3': 10}),\n  'stride': {'3': Counter({'1': 10})},\n  'in_channel': {'3': {'3': 1, '64': 2, '128': 2, '256': 2, '512': 3}},\n  'filters': {'3': {'64': 2, '128': 2, '256': 2, '512': 4}},\n  'intermediate_layer_bounds': (3211264, 100352)},\n 'vgg_16_bn': {'kernel': Counter({'3': 13}),\n  'stride': {'3': Counter({'1': 13})},\n  'in_channel': {'3': {'3': 1, '64': 2, '128': 2, '256': 3, '512': 5}},\n  'filters': {'3': {'64': 2, '128': 2, '256': 3, '512': 6}},\n  'intermediate_layer_bounds': (3211264, 100352)},\n 'vgg_19_bn': {'kernel': Counter({'3': 16}),\n  'stride': {'3': Counter({'1': 16})},\n  'in_channel': {'3': {'3': 1, '64': 2, '128': 2, '256': 4, '512': 7}},\n  'filters': {'3': {'64': 2, '128': 2, '256': 4, '512': 8}},\n  'intermediate_layer_bounds': (3211264, 100352)},\n 'resnet_18': {'kernel': Counter({'7': 1, '3': 16, '1': 3}),\n  'stride': {'7': Counter({'2': 1}),\n   '3': Counter({'1': 13, '2': 3}),\n   '1': Counter({'2': 3})},\n  'in_channel': {'7': {'3': 1},\n   '3': {'64': 5, '128': 4, '256': 4, '512': 3},\n   '1': {'64': 1, '128': 1, '256': 1}},\n  'filters': {'7': {'64': 1},\n   '3': {'64': 4, '128': 4, '256': 4, '512': 4},\n   '1': {'128': 1, '256': 1, '512': 1}},\n  'intermediate_layer_bounds': (200704, 25088)},\n 'resnet_34': {'kernel': Counter({'7': 1, '3': 32, '1': 3}),\n  'stride': {'7': Counter({'2': 1}),\n   '3': Counter({'1': 29, '2': 3}),\n   '1': Counter({'2': 3})},\n  'in_channel': {'7': {'3': 1},\n   '3': {'64': 7, '128': 8, '256': 12, '512': 5},\n   '1': {'64': 1, '128': 1, '256': 1}},\n  'filters': {'7': {'64': 1},\n   '3': {'64': 6, '128': 8, '256': 12, '512': 6},\n   '1': {'128': 1, '256': 1, '512': 1}},\n  'intermediate_layer_bounds': (200704, 25088)},\n 'resnet_50': {'kernel': Counter({'7': 1, '1': 36, '3': 16}),\n  'stride': {'7': Counter({'2': 1}),\n   '1': Counter({'1': 33, '2': 3}),\n   '3': Counter({'1': 13, '2': 3})},\n  'in_channel': {'7': {'3': 1},\n   '1': {'64': 5, '256': 10, '128': 4, '512': 8, '1024': 7, '2048': 2},\n   '3': {'64': 3, '128': 4, '256': 6, '512': 3}},\n  'filters': {'7': {'64': 1},\n   '1': {'64': 3, '256': 10, '128': 4, '512': 8, '1024': 7, '2048': 4},\n   '3': {'64': 3, '128': 4, '256': 6, '512': 3}},\n  'intermediate_layer_bounds': (802816, 25088)},\n 'resnet_101': {'kernel': Counter({'7': 1, '1': 70, '3': 33}),\n  'stride': {'7': Counter({'2': 1}),\n   '1': Counter({'1': 67, '2': 3}),\n   '3': Counter({'1': 30, '2': 3})},\n  'in_channel': {'7': {'3': 1},\n   '1': {'64': 5, '256': 27, '128': 4, '512': 8, '1024': 24, '2048': 2},\n   '3': {'64': 3, '128': 4, '256': 23, '512': 3}},\n  'filters': {'7': {'64': 1},\n   '1': {'64': 3, '256': 27, '128': 4, '512': 8, '1024': 24, '2048': 4},\n   '3': {'64': 3, '128': 4, '256': 23, '512': 3}},\n  'intermediate_layer_bounds': (802816, 25088)},\n 'resnet_152': {'kernel': Counter({'7': 1, '1': 104, '3': 50}),\n  'stride': {'7': Counter({'2': 1}),\n   '1': Counter({'1': 101, '2': 3}),\n   '3': Counter({'1': 47, '2': 3})},\n  'in_channel': {'7': {'3': 1},\n   '1': {'64': 5, '256': 40, '128': 8, '512': 12, '1024': 37, '2048': 2},\n   '3': {'64': 3, '128': 8, '256': 36, '512': 3}},\n  'filters': {'7': {'64': 1},\n   '1': {'64': 3, '256': 40, '128': 8, '512': 12, '1024': 37, '2048': 4},\n   '3': {'64': 3, '128': 8, '256': 36, '512': 3}},\n  'intermediate_layer_bounds': (802816, 25088)},\n 'squeezenet_1_0': {'kernel': Counter({'3': 9, '1': 17}),\n  'stride': {'3': Counter({'2': 1, '1': 8}), '1': Counter({'1': 17})},\n  'in_channel': {'3': {'3': 1, '16': 2, '32': 2, '48': 2, '64': 2},\n   '1': {'64': 3,\n    '16': 2,\n    '128': 2,\n    '32': 2,\n    '256': 2,\n    '48': 2,\n    '384': 2,\n    '512': 2}},\n  'filters': {'3': {'64': 3, '128': 2, '192': 2, '256': 2},\n   '1': {'16': 2,\n    '64': 4,\n    '32': 2,\n    '128': 2,\n    '48': 2,\n    '192': 2,\n    '256': 2,\n    '1000': 1}},\n  'intermediate_layer_bounds': (387200, 8112)},\n 'squeezenet_1_1': {'kernel': Counter({'7': 1, '1': 17, '3': 8}),\n  'stride': {'7': Counter({'2': 1}),\n   '1': Counter({'1': 17}),\n   '3': Counter({'1': 8})},\n  'in_channel': {'7': {'3': 1},\n   '1': {'96': 1,\n    '16': 2,\n    '128': 2,\n    '32': 2,\n    '256': 2,\n    '48': 2,\n    '384': 2,\n    '64': 2,\n    '512': 2},\n   '3': {'16': 2, '32': 2, '48': 2, '64': 2}},\n  'filters': {'7': {'96': 1},\n   '1': {'16': 2,\n    '64': 4,\n    '32': 2,\n    '128': 2,\n    '48': 2,\n    '192': 2,\n    '256': 2,\n    '1000': 1},\n   '3': {'64': 2, '128': 2, '192': 2, '256': 2}},\n  'intermediate_layer_bounds': (373248, 10816)},\n 'densenet_121': {'kernel': Counter({'7': 1, '1': 61, '3': 58}),\n  'stride': {'7': Counter({'2': 1}),\n   '1': Counter({'1': 61}),\n   '3': Counter({'1': 58})},\n  'in_channel': {'7': {'3': 1},\n   '1': {'64': 1,\n    '96': 1,\n    '128': 2,\n    '160': 2,\n    '192': 2,\n    '224': 2,\n    '256': 3,\n    '288': 2,\n    '320': 2,\n    '352': 2,\n    '384': 2,\n    '416': 2,\n    '448': 2,\n    '480': 2,\n    '512': 3,\n    '544': 2,\n    '576': 2,\n    '608': 2,\n    '640': 2,\n    '672': 2,\n    '704': 2,\n    '736': 2,\n    '768': 2,\n    '800': 2,\n    '832': 2,\n    '864': 2,\n    '896': 2,\n    '928': 2,\n    '960': 2,\n    '992': 2,\n    '1024': 1},\n   '3': {'128': 58}},\n  'filters': {'7': {'64': 1},\n   '1': {'128': 59, '256': 1, '512': 1},\n   '3': {'32': 58}},\n  'intermediate_layer_bounds': (802816, 1568)},\n 'densenet_169': {'kernel': Counter({'7': 1, '1': 85, '3': 82}),\n  'stride': {'7': Counter({'2': 1}),\n   '1': Counter({'1': 85}),\n   '3': Counter({'1': 82})},\n  'in_channel': {'7': {'3': 1},\n   '1': {'64': 1,\n    '96': 1,\n    '128': 2,\n    '160': 2,\n    '192': 2,\n    '224': 2,\n    '256': 3,\n    '288': 2,\n    '320': 2,\n    '352': 2,\n    '384': 2,\n    '416': 2,\n    '448': 2,\n    '480': 2,\n    '512': 2,\n    '544': 1,\n    '576': 1,\n    '608': 1,\n    '640': 2,\n    '672': 2,\n    '704': 2,\n    '736': 2,\n    '768': 2,\n    '800': 2,\n    '832': 2,\n    '864': 2,\n    '896': 2,\n    '928': 2,\n    '960': 2,\n    '992': 2,\n    '1024': 2,\n    '1056': 2,\n    '1088': 2,\n    '1120': 2,\n    '1152': 2,\n    '1184': 2,\n    '1216': 2,\n    '1248': 2,\n    '1280': 2,\n    '1312': 1,\n    '1344': 1,\n    '1376': 1,\n    '1408': 1,\n    '1440': 1,\n    '1472': 1,\n    '1504': 1,\n    '1536': 1,\n    '1568': 1,\n    '1600': 1,\n    '1632': 1},\n   '3': {'128': 82}},\n  'filters': {'7': {'64': 1},\n   '1': {'128': 83, '256': 1, '640': 1},\n   '3': {'32': 82}},\n  'intermediate_layer_bounds': (802816, 1568)},\n 'densenet_201': {'kernel': Counter({'7': 1, '1': 101, '3': 98}),\n  'stride': {'7': Counter({'2': 1}),\n   '1': Counter({'1': 101}),\n   '3': Counter({'1': 98})},\n  'in_channel': {'7': {'3': 1},\n   '1': {'64': 1,\n    '96': 1,\n    '128': 2,\n    '160': 2,\n    '192': 2,\n    '224': 2,\n    '256': 3,\n    '288': 2,\n    '320': 2,\n    '352': 2,\n    '384': 2,\n    '416': 2,\n    '448': 2,\n    '480': 2,\n    '512': 2,\n    '544': 1,\n    '576': 1,\n    '608': 1,\n    '640': 1,\n    '672': 1,\n    '704': 1,\n    '736': 1,\n    '768': 1,\n    '800': 1,\n    '832': 1,\n    '864': 1,\n    '896': 2,\n    '928': 2,\n    '960': 2,\n    '992': 2,\n    '1024': 2,\n    '1056': 2,\n    '1088': 2,\n    '1120': 2,\n    '1152': 2,\n    '1184': 2,\n    '1216': 2,\n    '1248': 2,\n    '1280': 2,\n    '1312': 2,\n    '1344': 2,\n    '1376': 2,\n    '1408': 2,\n    '1440': 2,\n    '1472': 2,\n    '1504': 2,\n    '1536': 2,\n    '1568': 2,\n    '1600': 2,\n    '1632': 2,\n    '1664': 2,\n    '1696': 2,\n    '1728': 2,\n    '1760': 2,\n    '1792': 2,\n    '1824': 1,\n    '1856': 1,\n    '1888': 1},\n   '3': {'128': 98}},\n  'filters': {'7': {'64': 1},\n   '1': {'128': 99, '256': 1, '896': 1},\n   '3': {'32': 98}},\n  'intermediate_layer_bounds': (802816, 1568)},\n 'densenet_161': {'kernel': Counter({'7': 1, '1': 81, '3': 78}),\n  'stride': {'7': Counter({'2': 1}),\n   '1': Counter({'1': 81}),\n   '3': Counter({'1': 78})},\n  'in_channel': {'7': {'3': 1},\n   '1': {'96': 1,\n    '144': 1,\n    '192': 2,\n    '240': 2,\n    '288': 2,\n    '336': 2,\n    '384': 3,\n    '432': 2,\n    '480': 2,\n    '528': 2,\n    '576': 2,\n    '624': 2,\n    '672': 2,\n    '720': 2,\n    '768': 2,\n    '816': 1,\n    '864': 1,\n    '912': 1,\n    '960': 1,\n    '1008': 1,\n    '1056': 2,\n    '1104': 2,\n    '1152': 2,\n    '1200': 2,\n    '1248': 2,\n    '1296': 2,\n    '1344': 2,\n    '1392': 2,\n    '1440': 2,\n    '1488': 2,\n    '1536': 2,\n    '1584': 2,\n    '1632': 2,\n    '1680': 2,\n    '1728': 2,\n    '1776': 2,\n    '1824': 2,\n    '1872': 2,\n    '1920': 2,\n    '1968': 2,\n    '2016': 2,\n    '2064': 2,\n    '2112': 2,\n    '2160': 1},\n   '3': {'192': 78}},\n  'filters': {'7': {'96': 1},\n   '1': {'192': 79, '384': 1, '1056': 1},\n   '3': {'48': 78}},\n  'intermediate_layer_bounds': (1204224, 2352)},\n 'inception_v3': {'kernel': Counter({'3': 21, '1': 57, '5': 3, '7': 13}),\n  'stride': {'3': Counter({'2': 5, '1': 16}),\n   '1': Counter({'1': 57}),\n   '5': Counter({'1': 3}),\n   '7': Counter({'1': 13})},\n  'in_channel': {'3': {'3': 1,\n    '32': 2,\n    '80': 1,\n    '64': 4,\n    '96': 4,\n    '288': 1,\n    '192': 2,\n    '384': 4,\n    '448': 2},\n   '1': {'64': 1,\n    '192': 8,\n    '256': 4,\n    '288': 5,\n    '768': 18,\n    '128': 3,\n    '160': 6,\n    '1280': 4,\n    '384': 4,\n    '2048': 4},\n   '5': {'48': 3},\n   '7': {'128': 3, '160': 6, '192': 4}},\n  'filters': {'3': {'32': 2, '64': 1, '192': 2, '96': 8, '384': 7, '320': 1},\n   '1': {'80': 1,\n    '64': 9,\n    '48': 3,\n    '32': 1,\n    '192': 21,\n    '128': 4,\n    '160': 8,\n    '320': 2,\n    '384': 6,\n    '448': 2},\n   '5': {'64': 3},\n   '7': {'192': 7, '128': 2, '160': 4}},\n  'intermediate_layer_bounds': (394272, 4800)},\n 'googlenet': {'kernel': Counter({'7': 1, '1': 37, '3': 19}),\n  'stride': {'7': Counter({'2': 1}),\n   '1': Counter({'1': 37}),\n   '3': Counter({'1': 19})},\n  'in_channel': {'7': {'3': 1},\n   '1': {'64': 1, '192': 4, '256': 4, '480': 4, '512': 12, '528': 4, '832': 8},\n   '3': {'64': 1,\n    '96': 2,\n    '16': 2,\n    '128': 2,\n    '32': 4,\n    '112': 1,\n    '24': 2,\n    '144': 1,\n    '160': 2,\n    '192': 1,\n    '48': 1}},\n  'filters': {'7': {'64': 1},\n   '1': {'64': 7,\n    '96': 2,\n    '16': 2,\n    '32': 5,\n    '128': 7,\n    '192': 2,\n    '160': 3,\n    '112': 2,\n    '24': 2,\n    '144': 1,\n    '256': 2,\n    '384': 1,\n    '48': 1},\n   '3': {'192': 2,\n    '128': 4,\n    '32': 1,\n    '96': 1,\n    '208': 1,\n    '48': 1,\n    '224': 1,\n    '64': 3,\n    '256': 1,\n    '288': 1,\n    '320': 2,\n    '384': 1}},\n  'intermediate_layer_bounds': (200704, 1568)},\n 'shufflenet_v2_x0_5': {'kernel': Counter({'3': 20, '1': 36}),\n  'stride': {'3': Counter({'2': 7, '1': 13}), '1': Counter({'1': 36})},\n  'in_channel': {'3': {'3': 1, '24': 5, '48': 9, '96': 5},\n   '1': {'24': 9, '48': 17, '96': 9, '192': 1}},\n  'filters': {'3': {'24': 6, '48': 9, '96': 5},\n   '1': {'24': 9, '48': 17, '96': 9, '1024': 1}},\n  'intermediate_layer_bounds': (150528, 4704)},\n 'shufflenet_v2_x1_0': {'kernel': Counter({'3': 20, '1': 36}),\n  'stride': {'3': Counter({'2': 7, '1': 13}), '1': Counter({'1': 36})},\n  'in_channel': {'3': {'3': 1, '24': 1, '58': 4, '116': 9, '232': 5},\n   '1': {'24': 2, '58': 7, '116': 17, '232': 9, '464': 1}},\n  'filters': {'3': {'24': 2, '58': 4, '116': 9, '232': 5},\n   '1': {'58': 9, '116': 17, '232': 9, '1024': 1}},\n  'intermediate_layer_bounds': (181888, 11368)},\n 'mobilenet_v2': {'kernel': Counter({'3': 18, '1': 34}),\n  'stride': {'3': Counter({'2': 5, '1': 13}), '1': Counter({'1': 34})},\n  'in_channel': {'3': {'3': 1,\n    '32': 1,\n    '96': 1,\n    '144': 2,\n    '192': 3,\n    '384': 4,\n    '576': 3,\n    '960': 3},\n   '1': {'32': 4,\n    '16': 1,\n    '96': 4,\n    '24': 2,\n    '144': 2,\n    '192': 3,\n    '64': 4,\n    '384': 4,\n    '576': 3,\n    '160': 3,\n    '960': 3,\n    '320': 1}},\n  'filters': {'3': {'32': 2,\n    '96': 1,\n    '144': 2,\n    '192': 3,\n    '384': 4,\n    '576': 3,\n    '960': 3},\n   '1': {'16': 1,\n    '96': 4,\n    '24': 2,\n    '144': 2,\n    '32': 3,\n    '192': 3,\n    '64': 4,\n    '384': 4,\n    '576': 3,\n    '160': 3,\n    '960': 3,\n    '320': 1,\n    '1280': 1}},\n  'intermediate_layer_bounds': (1204224, 7840)},\n 'mobilenet_v3_large': {'kernel': Counter({'3': 10, '1': 46, '5': 6}),\n  'stride': {'3': Counter({'2': 3, '1': 7}),\n   '1': Counter({'1': 46}),\n   '5': Counter({'2': 2, '1': 4})},\n  'in_channel': {'3': {'3': 1,\n    '16': 1,\n    '64': 1,\n    '72': 1,\n    '240': 1,\n    '200': 1,\n    '184': 2,\n    '480': 1,\n    '672': 1},\n   '1': {'16': 2,\n    '64': 1,\n    '24': 3,\n    '72': 3,\n    '40': 3,\n    '120': 5,\n    '32': 2,\n    '240': 3,\n    '80': 4,\n    '200': 1,\n    '184': 2,\n    '480': 2,\n    '112': 2,\n    '672': 4,\n    '168': 2,\n    '160': 3,\n    '960': 4},\n   '5': {'72': 1, '120': 2, '672': 1, '960': 2}},\n  'filters': {'3': {'16': 2,\n    '64': 1,\n    '72': 1,\n    '240': 1,\n    '200': 1,\n    '184': 2,\n    '480': 1,\n    '672': 1},\n   '1': {'16': 1,\n    '64': 1,\n    '24': 3,\n    '72': 3,\n    '40': 3,\n    '120': 5,\n    '32': 2,\n    '240': 3,\n    '80': 4,\n    '200': 1,\n    '184': 2,\n    '480': 2,\n    '112': 2,\n    '672': 4,\n    '168': 2,\n    '160': 3,\n    '960': 5},\n   '5': {'72': 1, '120': 2, '672': 1, '960': 2}},\n  'intermediate_layer_bounds': (802816, 24)},\n 'mobilenet_v3_small': {'kernel': Counter({'3': 4, '1': 40, '5': 8}),\n  'stride': {'3': Counter({'2': 3, '1': 1}),\n   '1': Counter({'1': 40}),\n   '5': Counter({'2': 2, '1': 6})},\n  'in_channel': {'3': {'3': 1, '16': 1, '72': 1, '88': 1},\n   '1': {'16': 3,\n    '8': 1,\n    '72': 2,\n    '24': 3,\n    '88': 1,\n    '96': 5,\n    '40': 4,\n    '240': 4,\n    '64': 2,\n    '120': 2,\n    '32': 1,\n    '48': 2,\n    '144': 4,\n    '288': 2,\n    '576': 4},\n   '5': {'96': 1, '240': 2, '120': 1, '144': 1, '288': 1, '576': 2}},\n  'filters': {'3': {'16': 2, '72': 1, '88': 1},\n   '1': {'8': 1,\n    '16': 2,\n    '72': 2,\n    '24': 3,\n    '88': 1,\n    '96': 5,\n    '40': 4,\n    '240': 4,\n    '64': 2,\n    '120': 2,\n    '32': 1,\n    '48': 2,\n    '144': 4,\n    '288': 2,\n    '576': 5},\n   '5': {'96': 1, '240': 2, '120': 1, '144': 1, '288': 1, '576': 2}},\n  'intermediate_layer_bounds': (225792, 8)},\n 'resnext_50_32x4d': {'kernel': Counter({'7': 1, '1': 36, '3': 16}),\n  'stride': {'7': Counter({'2': 1}),\n   '1': Counter({'1': 33, '2': 3}),\n   '3': Counter({'1': 13, '2': 3})},\n  'in_channel': {'7': {'3': 1},\n   '1': {'64': 2, '128': 3, '256': 8, '512': 11, '1024': 10, '2048': 2},\n   '3': {'128': 3, '256': 4, '512': 6, '1024': 3}},\n  'filters': {'7': {'64': 1},\n   '1': {'128': 3, '256': 8, '512': 11, '1024': 10, '2048': 4},\n   '3': {'128': 3, '256': 4, '512': 6, '1024': 3}},\n  'intermediate_layer_bounds': (802816, 50176)},\n 'resnext_101_32x8d': {'kernel': Counter({'7': 1, '1': 70, '3': 33}),\n  'stride': {'7': Counter({'2': 1}),\n   '1': Counter({'1': 67, '2': 3}),\n   '3': Counter({'1': 30, '2': 3})},\n  'in_channel': {'7': {'3': 1},\n   '1': {'64': 2, '256': 7, '512': 9, '1024': 47, '2048': 5},\n   '3': {'256': 3, '512': 4, '1024': 23, '2048': 3}},\n  'filters': {'7': {'64': 1},\n   '1': {'256': 7, '512': 9, '1024': 47, '2048': 7},\n   '3': {'256': 3, '512': 4, '1024': 23, '2048': 3}},\n  'intermediate_layer_bounds': (1605632, 100352)},\n 'wide_resnet_50_2': {'kernel': Counter({'7': 1, '1': 36, '3': 16}),\n  'stride': {'7': Counter({'2': 1}),\n   '1': Counter({'1': 33, '2': 3}),\n   '3': Counter({'1': 13, '2': 3})},\n  'in_channel': {'7': {'3': 1},\n   '1': {'64': 2, '128': 3, '256': 8, '512': 11, '1024': 10, '2048': 2},\n   '3': {'128': 3, '256': 4, '512': 6, '1024': 3}},\n  'filters': {'7': {'64': 1},\n   '1': {'128': 3, '256': 8, '512': 11, '1024': 10, '2048': 4},\n   '3': {'128': 3, '256': 4, '512': 6, '1024': 3}},\n  'intermediate_layer_bounds': (802816, 50176)},\n 'wide_resnet_101_2': {'kernel': Counter({'7': 1, '1': 70, '3': 33}),\n  'stride': {'7': Counter({'2': 1}),\n   '1': Counter({'1': 67, '2': 3}),\n   '3': Counter({'1': 30, '2': 3})},\n  'in_channel': {'7': {'3': 1},\n   '1': {'64': 2, '128': 3, '256': 8, '512': 28, '1024': 27, '2048': 2},\n   '3': {'128': 3, '256': 4, '512': 23, '1024': 3}},\n  'filters': {'7': {'64': 1},\n   '1': {'128': 3, '256': 8, '512': 28, '1024': 27, '2048': 4},\n   '3': {'128': 3, '256': 4, '512': 23, '1024': 3}},\n  'intermediate_layer_bounds': (802816, 50176)},\n 'mnasnet0_5': {'kernel': Counter({'3': 8, '1': 34, '5': 10}),\n  'stride': {'3': Counter({'2': 2, '1': 6}),\n   '1': Counter({'1': 34}),\n   '5': Counter({'2': 3, '1': 7})},\n  'in_channel': {'3': {'3': 1,\n    '16': 1,\n    '24': 1,\n    '48': 2,\n    '240': 1,\n    '288': 1,\n    '576': 1},\n   '1': {'16': 4,\n    '8': 1,\n    '24': 4,\n    '48': 5,\n    '72': 2,\n    '144': 1,\n    '40': 3,\n    '240': 3,\n    '288': 2,\n    '96': 4,\n    '576': 4,\n    '160': 1},\n   '5': {'48': 1, '72': 2, '144': 1, '240': 2, '288': 1, '576': 3}},\n  'filters': {'3': {'16': 2, '24': 1, '48': 2, '240': 1, '288': 1, '576': 1},\n   '1': {'8': 1,\n    '24': 4,\n    '16': 3,\n    '48': 5,\n    '72': 2,\n    '144': 1,\n    '40': 3,\n    '240': 3,\n    '288': 2,\n    '96': 4,\n    '576': 4,\n    '160': 1,\n    '1280': 1},\n   '5': {'48': 1, '72': 2, '144': 1, '240': 2, '288': 1, '576': 3}},\n  'intermediate_layer_bounds': (301056, 4704)},\n 'mnasnet1_0': {'kernel': Counter({'3': 8, '1': 34, '5': 10}),\n  'stride': {'3': Counter({'2': 2, '1': 6}),\n   '1': Counter({'1': 34}),\n   '5': Counter({'2': 3, '1': 7})},\n  'in_channel': {'3': {'3': 1,\n    '32': 1,\n    '48': 1,\n    '72': 2,\n    '480': 1,\n    '576': 1,\n    '1152': 1},\n   '1': {'32': 1,\n    '16': 1,\n    '48': 1,\n    '24': 3,\n    '72': 3,\n    '40': 3,\n    '120': 2,\n    '240': 1,\n    '80': 3,\n    '480': 3,\n    '96': 2,\n    '576': 2,\n    '192': 4,\n    '1152': 4,\n    '320': 1},\n   '5': {'72': 1, '120': 2, '240': 1, '480': 2, '576': 1, '1152': 3}},\n  'filters': {'3': {'32': 2, '48': 1, '72': 2, '480': 1, '576': 1, '1152': 1},\n   '1': {'16': 1,\n    '48': 1,\n    '24': 3,\n    '72': 3,\n    '40': 3,\n    '120': 2,\n    '240': 1,\n    '80': 3,\n    '480': 3,\n    '96': 2,\n    '576': 2,\n    '192': 4,\n    '1152': 4,\n    '320': 1,\n    '1280': 1},\n   '5': {'72': 1, '120': 2, '240': 1, '480': 2, '576': 1, '1152': 3}},\n  'intermediate_layer_bounds': (602112, 9408)}}"
     },
     "execution_count": 90,
     "metadata": {},
     "output_type": "execute_result"
    }
   ],
   "source": [
    "stats_dict"
   ]
  },
  {
   "cell_type": "code",
   "execution_count": 83,
   "metadata": {},
   "outputs": [
    {
     "name": "stdout",
     "output_type": "stream",
     "text": [
      "model ssd, has kernel of size 1 with stide 2: LayerDimensions(kernel_size=(1, 1), stride=(2, 2), padding=(0, 0), input_size=[1, 256, 75, 75], output_size=[512, 38, 38])\n",
      "model resnet_18, has kernel of size 1 with stide 2: LayerDimensions(kernel_size=(1, 1), stride=(2, 2), padding=(0, 0), input_size=[1, 64, 56, 56], output_size=[128, 28, 28])\n",
      "model resnet_18, has kernel of size 1 with stide 2: LayerDimensions(kernel_size=(1, 1), stride=(2, 2), padding=(0, 0), input_size=[1, 128, 28, 28], output_size=[256, 14, 14])\n",
      "model resnet_18, has kernel of size 1 with stide 2: LayerDimensions(kernel_size=(1, 1), stride=(2, 2), padding=(0, 0), input_size=[1, 256, 14, 14], output_size=[512, 7, 7])\n",
      "model resnet_34, has kernel of size 1 with stide 2: LayerDimensions(kernel_size=(1, 1), stride=(2, 2), padding=(0, 0), input_size=[1, 64, 56, 56], output_size=[128, 28, 28])\n",
      "model resnet_34, has kernel of size 1 with stide 2: LayerDimensions(kernel_size=(1, 1), stride=(2, 2), padding=(0, 0), input_size=[1, 128, 28, 28], output_size=[256, 14, 14])\n",
      "model resnet_34, has kernel of size 1 with stide 2: LayerDimensions(kernel_size=(1, 1), stride=(2, 2), padding=(0, 0), input_size=[1, 256, 14, 14], output_size=[512, 7, 7])\n",
      "model resnet_50, has kernel of size 1 with stide 2: LayerDimensions(kernel_size=(1, 1), stride=(2, 2), padding=(0, 0), input_size=[1, 256, 56, 56], output_size=[512, 28, 28])\n",
      "model resnet_50, has kernel of size 1 with stide 2: LayerDimensions(kernel_size=(1, 1), stride=(2, 2), padding=(0, 0), input_size=[1, 512, 28, 28], output_size=[1024, 14, 14])\n",
      "model resnet_50, has kernel of size 1 with stide 2: LayerDimensions(kernel_size=(1, 1), stride=(2, 2), padding=(0, 0), input_size=[1, 1024, 14, 14], output_size=[2048, 7, 7])\n",
      "model resnet_101, has kernel of size 1 with stide 2: LayerDimensions(kernel_size=(1, 1), stride=(2, 2), padding=(0, 0), input_size=[1, 256, 56, 56], output_size=[512, 28, 28])\n",
      "model resnet_101, has kernel of size 1 with stide 2: LayerDimensions(kernel_size=(1, 1), stride=(2, 2), padding=(0, 0), input_size=[1, 512, 28, 28], output_size=[1024, 14, 14])\n",
      "model resnet_101, has kernel of size 1 with stide 2: LayerDimensions(kernel_size=(1, 1), stride=(2, 2), padding=(0, 0), input_size=[1, 1024, 14, 14], output_size=[2048, 7, 7])\n",
      "model resnet_152, has kernel of size 1 with stide 2: LayerDimensions(kernel_size=(1, 1), stride=(2, 2), padding=(0, 0), input_size=[1, 256, 56, 56], output_size=[512, 28, 28])\n",
      "model resnet_152, has kernel of size 1 with stide 2: LayerDimensions(kernel_size=(1, 1), stride=(2, 2), padding=(0, 0), input_size=[1, 512, 28, 28], output_size=[1024, 14, 14])\n",
      "model resnet_152, has kernel of size 1 with stide 2: LayerDimensions(kernel_size=(1, 1), stride=(2, 2), padding=(0, 0), input_size=[1, 1024, 14, 14], output_size=[2048, 7, 7])\n",
      "model resnext_50_32x4d, has kernel of size 1 with stide 2: LayerDimensions(kernel_size=(1, 1), stride=(2, 2), padding=(0, 0), input_size=[1, 256, 56, 56], output_size=[512, 28, 28])\n",
      "model resnext_50_32x4d, has kernel of size 1 with stide 2: LayerDimensions(kernel_size=(1, 1), stride=(2, 2), padding=(0, 0), input_size=[1, 512, 28, 28], output_size=[1024, 14, 14])\n",
      "model resnext_50_32x4d, has kernel of size 1 with stide 2: LayerDimensions(kernel_size=(1, 1), stride=(2, 2), padding=(0, 0), input_size=[1, 1024, 14, 14], output_size=[2048, 7, 7])\n",
      "model resnext_101_32x8d, has kernel of size 1 with stide 2: LayerDimensions(kernel_size=(1, 1), stride=(2, 2), padding=(0, 0), input_size=[1, 256, 56, 56], output_size=[512, 28, 28])\n",
      "model resnext_101_32x8d, has kernel of size 1 with stide 2: LayerDimensions(kernel_size=(1, 1), stride=(2, 2), padding=(0, 0), input_size=[1, 512, 28, 28], output_size=[1024, 14, 14])\n",
      "model resnext_101_32x8d, has kernel of size 1 with stide 2: LayerDimensions(kernel_size=(1, 1), stride=(2, 2), padding=(0, 0), input_size=[1, 1024, 14, 14], output_size=[2048, 7, 7])\n",
      "model wide_resnet_50_2, has kernel of size 1 with stide 2: LayerDimensions(kernel_size=(1, 1), stride=(2, 2), padding=(0, 0), input_size=[1, 256, 56, 56], output_size=[512, 28, 28])\n",
      "model wide_resnet_50_2, has kernel of size 1 with stide 2: LayerDimensions(kernel_size=(1, 1), stride=(2, 2), padding=(0, 0), input_size=[1, 512, 28, 28], output_size=[1024, 14, 14])\n",
      "model wide_resnet_50_2, has kernel of size 1 with stide 2: LayerDimensions(kernel_size=(1, 1), stride=(2, 2), padding=(0, 0), input_size=[1, 1024, 14, 14], output_size=[2048, 7, 7])\n",
      "model wide_resnet_101_2, has kernel of size 1 with stide 2: LayerDimensions(kernel_size=(1, 1), stride=(2, 2), padding=(0, 0), input_size=[1, 256, 56, 56], output_size=[512, 28, 28])\n",
      "model wide_resnet_101_2, has kernel of size 1 with stide 2: LayerDimensions(kernel_size=(1, 1), stride=(2, 2), padding=(0, 0), input_size=[1, 512, 28, 28], output_size=[1024, 14, 14])\n",
      "model wide_resnet_101_2, has kernel of size 1 with stide 2: LayerDimensions(kernel_size=(1, 1), stride=(2, 2), padding=(0, 0), input_size=[1, 1024, 14, 14], output_size=[2048, 7, 7])\n"
     ]
    }
   ],
   "source": [
    "for name, layers in raw_stats_dict.items():\n",
    "    for layer_name, layer in layers.items():\n",
    "        if layer.kernel_size[0] == 1 and layer.stride[0] == 2:\n",
    "            print(\"model {}, has kernel of size 1 with stide 2: {}\".format(name, layer))"
   ]
  },
  {
   "cell_type": "code",
   "execution_count": null,
   "metadata": {},
   "outputs": [],
   "source": []
  }
 ],
 "metadata": {
  "kernelspec": {
   "display_name": "Python 3.8.6 64-bit ('.venv': poetry)",
   "name": "pythonjvsc74a57bd07ba5a8c11295bd31a650da7fd95bdbf05f90d3e784de664cc7b5246ae59e510d"
  },
  "language_info": {
   "codemirror_mode": {
    "name": "ipython",
    "version": 3
   },
   "file_extension": ".py",
   "mimetype": "text/x-python",
   "name": "python",
   "nbconvert_exporter": "python",
   "pygments_lexer": "ipython3",
   "version": "3.9.5"
  },
  "metadata": {
   "interpreter": {
    "hash": "7ba5a8c11295bd31a650da7fd95bdbf05f90d3e784de664cc7b5246ae59e510d"
   }
  },
  "orig_nbformat": 2
 },
 "nbformat": 4,
 "nbformat_minor": 2
}